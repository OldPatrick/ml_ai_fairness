{
 "cells": [
  {
   "cell_type": "code",
   "execution_count": 1,
   "id": "2f4bfb4d-bd2a-42b7-ab6f-805c2094e7f8",
   "metadata": {
    "tags": []
   },
   "outputs": [],
   "source": [
    "import polars as pl\n",
    "import pandas as pd\n",
    "import optuna\n",
    "import numpy as np\n",
    "import joblib"
   ]
  },
  {
   "cell_type": "code",
   "execution_count": 2,
   "id": "e371dfb1-bce1-470c-b471-5f9dda2c4649",
   "metadata": {
    "tags": []
   },
   "outputs": [],
   "source": [
    "from sklearn.ensemble import RandomForestClassifier\n",
    "from sklearn.model_selection import train_test_split\n",
    "from sklearn.preprocessing import LabelEncoder \n",
    "from sklearn.metrics import roc_curve, RocCurveDisplay, auc, roc_auc_score, confusion_matrix\n",
    "from sklearn.model_selection import StratifiedKFold"
   ]
  },
  {
   "cell_type": "code",
   "execution_count": 3,
   "id": "c9bc4a8d-a5b5-42bc-8ca5-ba7f740e2d42",
   "metadata": {
    "tags": []
   },
   "outputs": [],
   "source": [
    "df = pd.read_excel(\"loan_data_nice_v2.xls\")"
   ]
  },
  {
   "cell_type": "code",
   "execution_count": 4,
   "id": "d304c062-b0dd-4e9a-b6a9-e1711f4aaf8e",
   "metadata": {
    "tags": []
   },
   "outputs": [],
   "source": [
    "df.Loan_Status = pd.Series(np.where(df.Loan_Status == \"Y\", 1, 0)).fillna(0) # assuming this from a business perspective to have a conservative way of seeing this"
   ]
  },
  {
   "cell_type": "code",
   "execution_count": 5,
   "id": "45d0fd60-fc41-40c0-a872-4f274dec0939",
   "metadata": {
    "tags": []
   },
   "outputs": [],
   "source": [
    "df = df.apply(lambda x: LabelEncoder().fit_transform(x.astype(str)) if x.dtype == object else x.fillna(x.mean())) \n",
    "df = df.drop(columns=[\"Loan_ID\"])\n",
    "df = df.rename(columns={\"Loan_Status\": \"Paidback\"})"
   ]
  },
  {
   "cell_type": "code",
   "execution_count": 6,
   "id": "1e97fac7-eec0-4764-8e01-0167802e31e3",
   "metadata": {
    "tags": []
   },
   "outputs": [],
   "source": [
    "y = df.Paidback\n",
    "X = df.drop(columns=[y.name]).copy()\n",
    "X_train, X_test, y_train, y_test = train_test_split(X, y, test_size=0.25, random_state=42, shuffle=True)"
   ]
  },
  {
   "cell_type": "code",
   "execution_count": 7,
   "id": "94cc8a2e-e4e6-492f-aa83-7160eeb5cb4f",
   "metadata": {
    "tags": []
   },
   "outputs": [
    {
     "name": "stderr",
     "output_type": "stream",
     "text": [
      "/var/tmp/ipykernel_48419/2809038127.py:8: ExperimentalWarning: OptunaSearchCV is experimental (supported from v0.17.0). The interface can change in the future.\n",
      "  optuna_search = optuna.integration.OptunaSearchCV(\n",
      "[I 2024-01-31 14:09:37,816] A new study created in memory with name: no-name-7302597b-c064-4b44-b046-9fecd6eaaedd\n",
      "[I 2024-01-31 14:09:37,817] Searching the best hyperparameters using 460 samples...\n",
      "[I 2024-01-31 14:09:39,810] Trial 3 finished with value: 0.808028880299592 and parameters: {'n_estimators': 18, 'max_depth': 2, 'min_samples_split': 18, 'min_samples_leaf': 3, 'class_weight': 'balanced'}. Best is trial 3 with value: 0.808028880299592.\n",
      "[I 2024-01-31 14:09:39,828] Trial 1 finished with value: 0.7982954480396967 and parameters: {'n_estimators': 14, 'max_depth': 4, 'min_samples_split': 2, 'min_samples_leaf': 16, 'class_weight': 'balanced'}. Best is trial 3 with value: 0.808028880299592.\n",
      "[I 2024-01-31 14:09:41,199] Trial 5 finished with value: 0.8069745937260391 and parameters: {'n_estimators': 19, 'max_depth': 6, 'min_samples_split': 56, 'min_samples_leaf': 2, 'class_weight': 'balanced_subsample'}. Best is trial 3 with value: 0.808028880299592.\n",
      "[I 2024-01-31 14:09:41,624] Trial 7 finished with value: 0.7811093529126316 and parameters: {'n_estimators': 12, 'max_depth': 4, 'min_samples_split': 4, 'min_samples_leaf': 43, 'class_weight': 'balanced_subsample'}. Best is trial 3 with value: 0.808028880299592.\n",
      "[I 2024-01-31 14:09:43,251] Trial 0 finished with value: 0.8197854495254623 and parameters: {'n_estimators': 35, 'max_depth': 6, 'min_samples_split': 6, 'min_samples_leaf': 29, 'class_weight': 'balanced_subsample'}. Best is trial 0 with value: 0.8197854495254623.\n",
      "[I 2024-01-31 14:09:44,029] Trial 6 finished with value: 0.8146221139971139 and parameters: {'n_estimators': 23, 'max_depth': 8, 'min_samples_split': 15, 'min_samples_leaf': 10, 'class_weight': 'balanced_subsample'}. Best is trial 0 with value: 0.8197854495254623.\n",
      "[I 2024-01-31 14:09:44,804] Trial 4 finished with value: 0.8162852254266293 and parameters: {'n_estimators': 41, 'max_depth': 16, 'min_samples_split': 4, 'min_samples_leaf': 14, 'class_weight': 'balanced_subsample'}. Best is trial 0 with value: 0.8197854495254623.\n",
      "[I 2024-01-31 14:09:44,837] Trial 10 finished with value: 0.805349012775842 and parameters: {'n_estimators': 14, 'max_depth': 2, 'min_samples_split': 38, 'min_samples_leaf': 10, 'class_weight': 'balanced'}. Best is trial 0 with value: 0.8197854495254623.\n",
      "[I 2024-01-31 14:09:45,391] Trial 2 finished with value: 0.8155750283169638 and parameters: {'n_estimators': 48, 'max_depth': 14, 'min_samples_split': 3, 'min_samples_leaf': 19, 'class_weight': 'balanced_subsample'}. Best is trial 0 with value: 0.8197854495254623.\n",
      "[I 2024-01-31 14:09:46,957] Trial 9 finished with value: 0.807037099812445 and parameters: {'n_estimators': 39, 'max_depth': 8, 'min_samples_split': 30, 'min_samples_leaf': 8, 'class_weight': 'balanced'}. Best is trial 0 with value: 0.8197854495254623.\n",
      "[I 2024-01-31 14:09:47,423] Trial 12 finished with value: 0.8113249795027964 and parameters: {'n_estimators': 14, 'max_depth': 8, 'min_samples_split': 5, 'min_samples_leaf': 4, 'class_weight': 'balanced'}. Best is trial 0 with value: 0.8197854495254623.\n",
      "[I 2024-01-31 14:09:49,315] Trial 8 finished with value: 0.8115793618778693 and parameters: {'n_estimators': 47, 'max_depth': 11, 'min_samples_split': 3, 'min_samples_leaf': 3, 'class_weight': 'balanced'}. Best is trial 0 with value: 0.8197854495254623.\n",
      "[I 2024-01-31 14:09:50,049] Trial 14 finished with value: 0.8006017180086593 and parameters: {'n_estimators': 37, 'max_depth': 3, 'min_samples_split': 2, 'min_samples_leaf': 2, 'class_weight': 'balanced'}. Best is trial 0 with value: 0.8197854495254623.\n",
      "[I 2024-01-31 14:09:52,251] Trial 13 finished with value: 0.8219669629634943 and parameters: {'n_estimators': 60, 'max_depth': 12, 'min_samples_split': 7, 'min_samples_leaf': 32, 'class_weight': 'balanced'}. Best is trial 13 with value: 0.8219669629634943.\n",
      "[I 2024-01-31 14:09:52,421] Trial 11 finished with value: 0.8206299063429562 and parameters: {'n_estimators': 60, 'max_depth': 5, 'min_samples_split': 4, 'min_samples_leaf': 38, 'class_weight': 'balanced_subsample'}. Best is trial 13 with value: 0.8219669629634943.\n",
      "[I 2024-01-31 14:09:58,217] Trial 16 finished with value: 0.7546295328892951 and parameters: {'n_estimators': 82, 'max_depth': 25, 'min_samples_split': 7, 'min_samples_leaf': 58, 'class_weight': 'balanced_subsample'}. Best is trial 13 with value: 0.8219669629634943.\n",
      "[I 2024-01-31 14:09:58,295] Trial 15 finished with value: 0.8193432693640632 and parameters: {'n_estimators': 77, 'max_depth': 31, 'min_samples_split': 8, 'min_samples_leaf': 43, 'class_weight': 'balanced_subsample'}. Best is trial 13 with value: 0.8219669629634943.\n",
      "[I 2024-01-31 14:09:59,851] Trial 17 finished with value: 0.7943880019351717 and parameters: {'n_estimators': 76, 'max_depth': 29, 'min_samples_split': 8, 'min_samples_leaf': 52, 'class_weight': 'balanced_subsample'}. Best is trial 13 with value: 0.8219669629634943.\n",
      "[I 2024-01-31 14:10:00,850] Trial 18 finished with value: 0.7080036912240303 and parameters: {'n_estimators': 82, 'max_depth': 30, 'min_samples_split': 7, 'min_samples_leaf': 63, 'class_weight': 'balanced_subsample'}. Best is trial 13 with value: 0.8219669629634943.\n",
      "[I 2024-01-31 14:10:03,538] Trial 20 finished with value: 0.721850857743027 and parameters: {'n_estimators': 84, 'max_depth': 24, 'min_samples_split': 9, 'min_samples_leaf': 60, 'class_weight': 'balanced_subsample'}. Best is trial 13 with value: 0.8219669629634943.\n",
      "[I 2024-01-31 14:10:04,158] Trial 19 finished with value: 0.754066181122083 and parameters: {'n_estimators': 90, 'max_depth': 28, 'min_samples_split': 10, 'min_samples_leaf': 58, 'class_weight': 'balanced_subsample'}. Best is trial 13 with value: 0.8219669629634943.\n",
      "[I 2024-01-31 14:10:06,502] Trial 22 finished with value: 0.8184321083756434 and parameters: {'n_estimators': 63, 'max_depth': 16, 'min_samples_split': 13, 'min_samples_leaf': 29, 'class_weight': 'balanced'}. Best is trial 13 with value: 0.8219669629634943.\n",
      "[I 2024-01-31 14:10:07,170] Trial 23 finished with value: 0.8206678074621779 and parameters: {'n_estimators': 57, 'max_depth': 18, 'min_samples_split': 14, 'min_samples_leaf': 26, 'class_weight': 'balanced'}. Best is trial 13 with value: 0.8219669629634943.\n",
      "[I 2024-01-31 14:10:07,462] Trial 21 finished with value: 0.8138928017147646 and parameters: {'n_estimators': 72, 'max_depth': 28, 'min_samples_split': 10, 'min_samples_leaf': 31, 'class_weight': 'balanced'}. Best is trial 13 with value: 0.8219669629634943.\n",
      "[I 2024-01-31 14:10:07,910] Trial 24 finished with value: 0.8128998906072049 and parameters: {'n_estimators': 54, 'max_depth': 17, 'min_samples_split': 11, 'min_samples_leaf': 25, 'class_weight': 'balanced'}. Best is trial 13 with value: 0.8219669629634943.\n",
      "[I 2024-01-31 14:10:10,814] Trial 25 finished with value: 0.8224992784992786 and parameters: {'n_estimators': 60, 'max_depth': 12, 'min_samples_split': 12, 'min_samples_leaf': 28, 'class_weight': 'balanced'}. Best is trial 25 with value: 0.8224992784992786.\n",
      "[I 2024-01-31 14:10:11,142] Trial 26 finished with value: 0.8093178696419592 and parameters: {'n_estimators': 58, 'max_depth': 5, 'min_samples_split': 13, 'min_samples_leaf': 29, 'class_weight': 'balanced'}. Best is trial 25 with value: 0.8224992784992786.\n",
      "[I 2024-01-31 14:10:14,200] Trial 28 finished with value: 0.8118411284638551 and parameters: {'n_estimators': 57, 'max_depth': 11, 'min_samples_split': 21, 'min_samples_leaf': 27, 'class_weight': 'balanced'}. Best is trial 25 with value: 0.8224992784992786.\n",
      "[I 2024-01-31 14:10:14,556] Trial 27 finished with value: 0.8091683577613571 and parameters: {'n_estimators': 59, 'max_depth': 5, 'min_samples_split': 5, 'min_samples_leaf': 30, 'class_weight': 'balanced_subsample'}. Best is trial 25 with value: 0.8224992784992786.\n",
      "[I 2024-01-31 14:10:14,812] Trial 32 finished with value: 0.807867153811204 and parameters: {'n_estimators': 27, 'max_depth': 11, 'min_samples_split': 19, 'min_samples_leaf': 20, 'class_weight': 'balanced'}. Best is trial 25 with value: 0.8224992784992786.\n",
      "[I 2024-01-31 14:10:14,889] Trial 31 finished with value: 0.8272608872608872 and parameters: {'n_estimators': 29, 'max_depth': 11, 'min_samples_split': 19, 'min_samples_leaf': 22, 'class_weight': 'balanced'}. Best is trial 31 with value: 0.8272608872608872.\n",
      "[I 2024-01-31 14:10:15,125] Trial 29 finished with value: 0.8029319882593434 and parameters: {'n_estimators': 59, 'max_depth': 11, 'min_samples_split': 25, 'min_samples_leaf': 22, 'class_weight': 'balanced'}. Best is trial 31 with value: 0.8272608872608872.\n",
      "[I 2024-01-31 14:10:15,583] Trial 30 finished with value: 0.812108014271202 and parameters: {'n_estimators': 60, 'max_depth': 11, 'min_samples_split': 22, 'min_samples_leaf': 21, 'class_weight': 'balanced'}. Best is trial 31 with value: 0.8272608872608872.\n",
      "[I 2024-01-31 14:10:17,891] Trial 33 finished with value: 0.8151427817962628 and parameters: {'n_estimators': 29, 'max_depth': 11, 'min_samples_split': 24, 'min_samples_leaf': 20, 'class_weight': 'balanced'}. Best is trial 31 with value: 0.8272608872608872.\n",
      "[I 2024-01-31 14:10:19,040] Trial 35 finished with value: 0.8146162885293318 and parameters: {'n_estimators': 30, 'max_depth': 20, 'min_samples_split': 24, 'min_samples_leaf': 12, 'class_weight': 'balanced'}. Best is trial 31 with value: 0.8272608872608872.\n",
      "[I 2024-01-31 14:10:19,254] Trial 37 finished with value: 0.8210637121417482 and parameters: {'n_estimators': 30, 'max_depth': 20, 'min_samples_split': 15, 'min_samples_leaf': 16, 'class_weight': 'balanced'}. Best is trial 31 with value: 0.8272608872608872.\n",
      "[I 2024-01-31 14:10:19,290] Trial 36 finished with value: 0.808932383414184 and parameters: {'n_estimators': 31, 'max_depth': 21, 'min_samples_split': 25, 'min_samples_leaf': 14, 'class_weight': 'balanced'}. Best is trial 31 with value: 0.8272608872608872.\n",
      "[I 2024-01-31 14:10:19,842] Trial 38 finished with value: 0.8143247403015001 and parameters: {'n_estimators': 30, 'max_depth': 20, 'min_samples_split': 15, 'min_samples_leaf': 15, 'class_weight': 'balanced'}. Best is trial 31 with value: 0.8272608872608872.\n",
      "[I 2024-01-31 14:10:22,109] Trial 39 finished with value: 0.803709130375797 and parameters: {'n_estimators': 32, 'max_depth': 20, 'min_samples_split': 16, 'min_samples_leaf': 15, 'class_weight': 'balanced'}. Best is trial 31 with value: 0.8272608872608872.\n",
      "[I 2024-01-31 14:10:22,671] Trial 43 finished with value: 0.8176470588235294 and parameters: {'n_estimators': 22, 'max_depth': 13, 'min_samples_split': 37, 'min_samples_leaf': 7, 'class_weight': 'balanced'}. Best is trial 31 with value: 0.8272608872608872.\n",
      "[I 2024-01-31 14:10:23,594] Trial 41 finished with value: 0.819479436147122 and parameters: {'n_estimators': 33, 'max_depth': 14, 'min_samples_split': 36, 'min_samples_leaf': 16, 'class_weight': 'balanced'}. Best is trial 31 with value: 0.8272608872608872.\n",
      "[I 2024-01-31 14:10:25,062] Trial 40 finished with value: 0.8036866902173305 and parameters: {'n_estimators': 48, 'max_depth': 14, 'min_samples_split': 15, 'min_samples_leaf': 16, 'class_weight': 'balanced'}. Best is trial 31 with value: 0.8272608872608872.\n",
      "[I 2024-01-31 14:10:26,278] Trial 42 finished with value: 0.8120386542578378 and parameters: {'n_estimators': 47, 'max_depth': 13, 'min_samples_split': 16, 'min_samples_leaf': 6, 'class_weight': 'balanced'}. Best is trial 31 with value: 0.8272608872608872.\n",
      "[I 2024-01-31 14:10:26,398] Trial 34 finished with value: 0.8230136425155854 and parameters: {'n_estimators': 99, 'max_depth': 20, 'min_samples_split': 25, 'min_samples_leaf': 22, 'class_weight': 'balanced'}. Best is trial 31 with value: 0.8272608872608872.\n",
      "[I 2024-01-31 14:10:28,161] Trial 44 finished with value: 0.8087089360621016 and parameters: {'n_estimators': 45, 'max_depth': 13, 'min_samples_split': 35, 'min_samples_leaf': 7, 'class_weight': 'balanced'}. Best is trial 31 with value: 0.8272608872608872.\n",
      "[I 2024-01-31 14:10:28,355] Trial 45 finished with value: 0.8150589959809892 and parameters: {'n_estimators': 45, 'max_depth': 9, 'min_samples_split': 48, 'min_samples_leaf': 17, 'class_weight': 'balanced'}. Best is trial 31 with value: 0.8272608872608872.\n",
      "[I 2024-01-31 14:10:28,618] Trial 46 finished with value: 0.814896020901233 and parameters: {'n_estimators': 45, 'max_depth': 9, 'min_samples_split': 17, 'min_samples_leaf': 36, 'class_weight': 'balanced'}. Best is trial 31 with value: 0.8272608872608872.\n",
      "[I 2024-01-31 14:10:29,222] Trial 48 finished with value: 0.8113342149313395 and parameters: {'n_estimators': 24, 'max_depth': 7, 'min_samples_split': 11, 'min_samples_leaf': 36, 'class_weight': 'balanced'}. Best is trial 31 with value: 0.8272608872608872.\n",
      "[I 2024-01-31 14:10:29,970] Trial 47 finished with value: 0.8014099158273732 and parameters: {'n_estimators': 44, 'max_depth': 9, 'min_samples_split': 12, 'min_samples_leaf': 38, 'class_weight': 'balanced'}. Best is trial 31 with value: 0.8272608872608872.\n",
      "[I 2024-01-31 14:10:31,157] Trial 51 finished with value: 0.8064945914569975 and parameters: {'n_estimators': 24, 'max_depth': 9, 'min_samples_split': 30, 'min_samples_leaf': 36, 'class_weight': 'balanced'}. Best is trial 31 with value: 0.8272608872608872.\n",
      "[I 2024-01-31 14:10:31,276] Trial 49 finished with value: 0.8160155768568522 and parameters: {'n_estimators': 41, 'max_depth': 9, 'min_samples_split': 46, 'min_samples_leaf': 37, 'class_weight': 'balanced'}. Best is trial 31 with value: 0.8272608872608872.\n",
      "[I 2024-01-31 14:10:31,936] Trial 53 finished with value: 0.8073481923481923 and parameters: {'n_estimators': 18, 'max_depth': 9, 'min_samples_split': 6, 'min_samples_leaf': 12, 'class_weight': 'balanced'}. Best is trial 31 with value: 0.8272608872608872.\n",
      "[I 2024-01-31 14:10:37,794] Trial 50 finished with value: 0.8162115545273438 and parameters: {'n_estimators': 100, 'max_depth': 9, 'min_samples_split': 12, 'min_samples_leaf': 37, 'class_weight': 'balanced'}. Best is trial 31 with value: 0.8272608872608872.\n",
      "[I 2024-01-31 14:10:38,506] Trial 56 finished with value: 0.816954142342419 and parameters: {'n_estimators': 68, 'max_depth': 17, 'min_samples_split': 19, 'min_samples_leaf': 24, 'class_weight': 'balanced'}. Best is trial 31 with value: 0.8272608872608872.\n",
      "[I 2024-01-31 14:10:38,819] Trial 54 finished with value: 0.8131241605671189 and parameters: {'n_estimators': 68, 'max_depth': 23, 'min_samples_split': 31, 'min_samples_leaf': 11, 'class_weight': 'balanced'}. Best is trial 31 with value: 0.8272608872608872.\n",
      "[I 2024-01-31 14:10:39,158] Trial 57 finished with value: 0.8143454415954416 and parameters: {'n_estimators': 67, 'max_depth': 16, 'min_samples_split': 29, 'min_samples_leaf': 23, 'class_weight': 'balanced'}. Best is trial 31 with value: 0.8272608872608872.\n",
      "[I 2024-01-31 14:10:41,200] Trial 52 finished with value: 0.8064235400972832 and parameters: {'n_estimators': 100, 'max_depth': 7, 'min_samples_split': 12, 'min_samples_leaf': 11, 'class_weight': 'balanced'}. Best is trial 31 with value: 0.8272608872608872.\n",
      "[I 2024-01-31 14:10:43,223] Trial 59 finished with value: 0.8223880612090457 and parameters: {'n_estimators': 52, 'max_depth': 18, 'min_samples_split': 9, 'min_samples_leaf': 46, 'class_weight': 'balanced'}. Best is trial 31 with value: 0.8272608872608872.\n",
      "[I 2024-01-31 14:10:43,422] Trial 55 finished with value: 0.8102464625482918 and parameters: {'n_estimators': 95, 'max_depth': 24, 'min_samples_split': 6, 'min_samples_leaf': 12, 'class_weight': 'balanced'}. Best is trial 31 with value: 0.8272608872608872.\n",
      "[I 2024-01-31 14:10:45,696] Trial 58 finished with value: 0.824633814503116 and parameters: {'n_estimators': 68, 'max_depth': 17, 'min_samples_split': 20, 'min_samples_leaf': 23, 'class_weight': 'balanced'}. Best is trial 31 with value: 0.8272608872608872.\n",
      "[I 2024-01-31 14:10:45,738] Trial 61 finished with value: 0.811621635069911 and parameters: {'n_estimators': 52, 'max_depth': 15, 'min_samples_split': 9, 'min_samples_leaf': 19, 'class_weight': 'balanced'}. Best is trial 31 with value: 0.8272608872608872.\n",
      "[I 2024-01-31 14:10:46,046] Trial 62 finished with value: 0.8078655815219605 and parameters: {'n_estimators': 36, 'max_depth': 18, 'min_samples_split': 9, 'min_samples_leaf': 18, 'class_weight': 'balanced'}. Best is trial 31 with value: 0.8272608872608872.\n",
      "[I 2024-01-31 14:10:47,456] Trial 63 finished with value: 0.792374335631775 and parameters: {'n_estimators': 38, 'max_depth': 23, 'min_samples_split': 8, 'min_samples_leaf': 47, 'class_weight': 'balanced'}. Best is trial 31 with value: 0.8272608872608872.\n",
      "[I 2024-01-31 14:10:48,620] Trial 64 finished with value: 0.7989021793127282 and parameters: {'n_estimators': 51, 'max_depth': 15, 'min_samples_split': 9, 'min_samples_leaf': 47, 'class_weight': 'balanced'}. Best is trial 31 with value: 0.8272608872608872.\n",
      "[I 2024-01-31 14:10:49,920] Trial 66 finished with value: 0.8087845307208514 and parameters: {'n_estimators': 36, 'max_depth': 18, 'min_samples_split': 8, 'min_samples_leaf': 48, 'class_weight': 'balanced'}. Best is trial 31 with value: 0.8272608872608872.\n",
      "[I 2024-01-31 14:10:51,274] Trial 65 finished with value: 0.8051317523056655 and parameters: {'n_estimators': 52, 'max_depth': 15, 'min_samples_split': 9, 'min_samples_leaf': 48, 'class_weight': 'balanced'}. Best is trial 31 with value: 0.8272608872608872.\n",
      "[I 2024-01-31 14:10:52,052] Trial 60 finished with value: 0.8166631708708211 and parameters: {'n_estimators': 99, 'max_depth': 18, 'min_samples_split': 8, 'min_samples_leaf': 18, 'class_weight': 'balanced'}. Best is trial 31 with value: 0.8272608872608872.\n",
      "[I 2024-01-31 14:10:53,329] Trial 68 finished with value: 0.8172457607854309 and parameters: {'n_estimators': 52, 'max_depth': 12, 'min_samples_split': 7, 'min_samples_leaf': 46, 'class_weight': 'balanced'}. Best is trial 31 with value: 0.8272608872608872.\n",
      "[I 2024-01-31 14:10:54,420] Trial 67 finished with value: 0.8180655843813739 and parameters: {'n_estimators': 76, 'max_depth': 22, 'min_samples_split': 7, 'min_samples_leaf': 48, 'class_weight': 'balanced'}. Best is trial 31 with value: 0.8272608872608872.\n",
      "[I 2024-01-31 14:10:59,932] Trial 69 finished with value: 0.8120477950234049 and parameters: {'n_estimators': 77, 'max_depth': 12, 'min_samples_split': 5, 'min_samples_leaf': 32, 'class_weight': 'balanced_subsample'}. Best is trial 31 with value: 0.8272608872608872.\n",
      "[I 2024-01-31 14:11:02,893] Trial 71 finished with value: 0.8182442174634759 and parameters: {'n_estimators': 78, 'max_depth': 12, 'min_samples_split': 20, 'min_samples_leaf': 30, 'class_weight': 'balanced_subsample'}. Best is trial 31 with value: 0.8272608872608872.\n",
      "[I 2024-01-31 14:11:02,898] Trial 70 finished with value: 0.8158410811208515 and parameters: {'n_estimators': 87, 'max_depth': 12, 'min_samples_split': 18, 'min_samples_leaf': 32, 'class_weight': 'balanced_subsample'}. Best is trial 31 with value: 0.8272608872608872.\n",
      "[I 2024-01-31 14:11:03,402] Trial 72 finished with value: 0.8181168893277933 and parameters: {'n_estimators': 76, 'max_depth': 12, 'min_samples_split': 21, 'min_samples_leaf': 32, 'class_weight': 'balanced_subsample'}. Best is trial 31 with value: 0.8272608872608872.\n",
      "[I 2024-01-31 14:11:06,367] Trial 73 finished with value: 0.8206689900181832 and parameters: {'n_estimators': 87, 'max_depth': 26, 'min_samples_split': 14, 'min_samples_leaf': 32, 'class_weight': 'balanced_subsample'}. Best is trial 31 with value: 0.8272608872608872.\n",
      "[I 2024-01-31 14:11:06,799] Trial 76 finished with value: 0.8096966941365917 and parameters: {'n_estimators': 27, 'max_depth': 26, 'min_samples_split': 14, 'min_samples_leaf': 27, 'class_weight': 'balanced'}. Best is trial 31 with value: 0.8272608872608872.\n",
      "[I 2024-01-31 14:11:07,073] Trial 74 finished with value: 0.821061086083424 and parameters: {'n_estimators': 86, 'max_depth': 27, 'min_samples_split': 5, 'min_samples_leaf': 33, 'class_weight': 'balanced_subsample'}. Best is trial 31 with value: 0.8272608872608872.\n",
      "[I 2024-01-31 14:11:07,379] Trial 78 finished with value: 0.8122936468034506 and parameters: {'n_estimators': 28, 'max_depth': 26, 'min_samples_split': 13, 'min_samples_leaf': 26, 'class_weight': 'balanced'}. Best is trial 31 with value: 0.8272608872608872.\n",
      "[I 2024-01-31 14:11:10,269] Trial 82 finished with value: 0.7841264341874775 and parameters: {'n_estimators': 21, 'max_depth': 20, 'min_samples_split': 4, 'min_samples_leaf': 42, 'class_weight': 'balanced_subsample'}. Best is trial 31 with value: 0.8272608872608872.\n",
      "[I 2024-01-31 14:11:11,120] Trial 77 finished with value: 0.815437812941941 and parameters: {'n_estimators': 64, 'max_depth': 26, 'min_samples_split': 14, 'min_samples_leaf': 27, 'class_weight': 'balanced'}. Best is trial 31 with value: 0.8272608872608872.\n",
      "[I 2024-01-31 14:11:13,314] Trial 75 finished with value: 0.8116607538972044 and parameters: {'n_estimators': 87, 'max_depth': 10, 'min_samples_split': 3, 'min_samples_leaf': 28, 'class_weight': 'balanced_subsample'}. Best is trial 31 with value: 0.8272608872608872.\n",
      "[I 2024-01-31 14:11:17,049] Trial 81 finished with value: 0.8249007343709966 and parameters: {'n_estimators': 64, 'max_depth': 32, 'min_samples_split': 4, 'min_samples_leaf': 22, 'class_weight': 'balanced_subsample'}. Best is trial 31 with value: 0.8272608872608872.\n",
      "[I 2024-01-31 14:11:19,389] Trial 80 finished with value: 0.8055452634539938 and parameters: {'n_estimators': 86, 'max_depth': 27, 'min_samples_split': 27, 'min_samples_leaf': 23, 'class_weight': 'balanced_subsample'}. Best is trial 31 with value: 0.8272608872608872.\n",
      "[I 2024-01-31 14:11:20,121] Trial 83 finished with value: 0.8086877652523109 and parameters: {'n_estimators': 66, 'max_depth': 10, 'min_samples_split': 3, 'min_samples_leaf': 21, 'class_weight': 'balanced_subsample'}. Best is trial 31 with value: 0.8272608872608872.\n",
      "[I 2024-01-31 14:11:20,507] Trial 79 finished with value: 0.8136549664418518 and parameters: {'n_estimators': 92, 'max_depth': 31, 'min_samples_split': 14, 'min_samples_leaf': 22, 'class_weight': 'balanced_subsample'}. Best is trial 31 with value: 0.8272608872608872.\n",
      "[I 2024-01-31 14:11:21,991] Trial 84 finished with value: 0.8229327895224916 and parameters: {'n_estimators': 72, 'max_depth': 32, 'min_samples_split': 3, 'min_samples_leaf': 23, 'class_weight': 'balanced_subsample'}. Best is trial 31 with value: 0.8272608872608872.\n",
      "[I 2024-01-31 14:11:22,573] Trial 85 finished with value: 0.8175166659996863 and parameters: {'n_estimators': 72, 'max_depth': 32, 'min_samples_split': 4, 'min_samples_leaf': 24, 'class_weight': 'balanced'}. Best is trial 31 with value: 0.8272608872608872.\n",
      "[I 2024-01-31 14:11:23,899] Trial 90 finished with value: 0.8073804147728199 and parameters: {'n_estimators': 10, 'max_depth': 3, 'min_samples_split': 2, 'min_samples_leaf': 14, 'class_weight': 'balanced_subsample'}. Best is trial 31 with value: 0.8272608872608872.\n",
      "[I 2024-01-31 14:11:28,092] Trial 86 finished with value: 0.8228532401373225 and parameters: {'n_estimators': 72, 'max_depth': 32, 'min_samples_split': 4, 'min_samples_leaf': 22, 'class_weight': 'balanced_subsample'}. Best is trial 31 with value: 0.8272608872608872.\n",
      "[I 2024-01-31 14:11:28,785] Trial 88 finished with value: 0.7669554463635763 and parameters: {'n_estimators': 71, 'max_depth': 31, 'min_samples_split': 4, 'min_samples_leaf': 54, 'class_weight': 'balanced_subsample'}. Best is trial 31 with value: 0.8272608872608872.\n",
      "[I 2024-01-31 14:11:29,069] Trial 89 finished with value: 0.7867457482993198 and parameters: {'n_estimators': 71, 'max_depth': 30, 'min_samples_split': 4, 'min_samples_leaf': 53, 'class_weight': 'balanced_subsample'}. Best is trial 31 with value: 0.8272608872608872.\n",
      "[I 2024-01-31 14:11:32,235] Trial 92 finished with value: 0.8144823245798888 and parameters: {'n_estimators': 61, 'max_depth': 21, 'min_samples_split': 17, 'min_samples_leaf': 19, 'class_weight': 'balanced'}. Best is trial 31 with value: 0.8272608872608872.\n",
      "[I 2024-01-31 14:11:33,192] Trial 91 finished with value: 0.8173649156699254 and parameters: {'n_estimators': 61, 'max_depth': 29, 'min_samples_split': 2, 'min_samples_leaf': 14, 'class_weight': 'balanced_subsample'}. Best is trial 31 with value: 0.8272608872608872.\n",
      "[I 2024-01-31 14:11:33,905] Trial 87 finished with value: 0.8100943493850448 and parameters: {'n_estimators': 93, 'max_depth': 31, 'min_samples_split': 4, 'min_samples_leaf': 21, 'class_weight': 'balanced_subsample'}. Best is trial 31 with value: 0.8272608872608872.\n",
      "[I 2024-01-31 14:11:36,658] Trial 95 finished with value: 0.8116927899686519 and parameters: {'n_estimators': 62, 'max_depth': 29, 'min_samples_split': 23, 'min_samples_leaf': 41, 'class_weight': 'balanced_subsample'}. Best is trial 31 with value: 0.8272608872608872.\n",
      "[I 2024-01-31 14:11:37,225] Trial 93 finished with value: 0.8221150821911897 and parameters: {'n_estimators': 61, 'max_depth': 29, 'min_samples_split': 6, 'min_samples_leaf': 20, 'class_weight': 'balanced_subsample'}. Best is trial 31 with value: 0.8272608872608872.\n",
      "[I 2024-01-31 14:11:37,832] Trial 94 finished with value: 0.8133726290832455 and parameters: {'n_estimators': 56, 'max_depth': 29, 'min_samples_split': 6, 'min_samples_leaf': 20, 'class_weight': 'balanced_subsample'}. Best is trial 31 with value: 0.8272608872608872.\n",
      "[I 2024-01-31 14:11:38,372] Trial 98 finished with value: 0.8196640851520044 and parameters: {'n_estimators': 33, 'max_depth': 6, 'min_samples_split': 11, 'min_samples_leaf': 25, 'class_weight': 'balanced'}. Best is trial 31 with value: 0.8272608872608872.\n",
      "[I 2024-01-31 14:11:40,509] Trial 96 finished with value: 0.8100978235564227 and parameters: {'n_estimators': 56, 'max_depth': 29, 'min_samples_split': 11, 'min_samples_leaf': 25, 'class_weight': 'balanced_subsample'}. Best is trial 31 with value: 0.8272608872608872.\n",
      "[I 2024-01-31 14:11:41,892] Trial 97 finished with value: 0.8147183503998423 and parameters: {'n_estimators': 56, 'max_depth': 6, 'min_samples_split': 11, 'min_samples_leaf': 21, 'class_weight': 'balanced_subsample'}. Best is trial 31 with value: 0.8272608872608872.\n",
      "[I 2024-01-31 14:11:44,764] Trial 100 finished with value: 0.8200620079295209 and parameters: {'n_estimators': 54, 'max_depth': 24, 'min_samples_split': 6, 'min_samples_leaf': 25, 'class_weight': 'balanced_subsample'}. Best is trial 31 with value: 0.8272608872608872.\n",
      "[I 2024-01-31 14:11:46,877] Trial 101 finished with value: 0.8132494940071903 and parameters: {'n_estimators': 65, 'max_depth': 23, 'min_samples_split': 3, 'min_samples_leaf': 24, 'class_weight': 'balanced_subsample'}. Best is trial 31 with value: 0.8272608872608872.\n",
      "[I 2024-01-31 14:11:47,064] Trial 103 finished with value: 0.8111167137412284 and parameters: {'n_estimators': 42, 'max_depth': 22, 'min_samples_split': 27, 'min_samples_leaf': 17, 'class_weight': 'balanced_subsample'}. Best is trial 31 with value: 0.8272608872608872.\n",
      "[I 2024-01-31 14:11:47,306] Trial 99 finished with value: 0.8137793879870381 and parameters: {'n_estimators': 81, 'max_depth': 6, 'min_samples_split': 10, 'min_samples_leaf': 17, 'class_weight': 'balanced'}. Best is trial 31 with value: 0.8272608872608872.\n",
      "[I 2024-01-31 14:11:49,208] Trial 104 finished with value: 0.8061820558184438 and parameters: {'n_estimators': 49, 'max_depth': 24, 'min_samples_split': 3, 'min_samples_leaf': 17, 'class_weight': 'balanced_subsample'}. Best is trial 31 with value: 0.8272608872608872.\n",
      "[I 2024-01-31 14:11:50,549] Trial 108 finished with value: 0.8158834285908689 and parameters: {'n_estimators': 25, 'max_depth': 14, 'min_samples_split': 19, 'min_samples_leaf': 15, 'class_weight': 'balanced'}. Best is trial 31 with value: 0.8272608872608872.\n",
      "[I 2024-01-31 14:11:50,753] Trial 102 finished with value: 0.8055391281032023 and parameters: {'n_estimators': 80, 'max_depth': 24, 'min_samples_split': 10, 'min_samples_leaf': 17, 'class_weight': 'balanced_subsample'}. Best is trial 31 with value: 0.8272608872608872.\n",
      "[I 2024-01-31 14:11:53,067] Trial 107 finished with value: 0.8064381465769458 and parameters: {'n_estimators': 49, 'max_depth': 14, 'min_samples_split': 10, 'min_samples_leaf': 17, 'class_weight': 'balanced'}. Best is trial 31 with value: 0.8272608872608872.\n",
      "[I 2024-01-31 14:11:55,779] Trial 106 finished with value: 0.8171757349264525 and parameters: {'n_estimators': 72, 'max_depth': 14, 'min_samples_split': 16, 'min_samples_leaf': 18, 'class_weight': 'balanced'}. Best is trial 31 with value: 0.8272608872608872.\n",
      "[I 2024-01-31 14:11:56,683] Trial 109 finished with value: 0.813588801961672 and parameters: {'n_estimators': 68, 'max_depth': 19, 'min_samples_split': 17, 'min_samples_leaf': 29, 'class_weight': 'balanced'}. Best is trial 31 with value: 0.8272608872608872.\n",
      "[I 2024-01-31 14:11:58,210] Trial 110 finished with value: 0.8138983859326843 and parameters: {'n_estimators': 68, 'max_depth': 16, 'min_samples_split': 22, 'min_samples_leaf': 29, 'class_weight': 'balanced'}. Best is trial 31 with value: 0.8272608872608872.\n",
      "[I 2024-01-31 14:11:58,529] Trial 111 finished with value: 0.8207871986099493 and parameters: {'n_estimators': 70, 'max_depth': 19, 'min_samples_split': 17, 'min_samples_leaf': 29, 'class_weight': 'balanced'}. Best is trial 31 with value: 0.8272608872608872.\n",
      "[I 2024-01-31 14:11:59,417] Trial 105 finished with value: 0.814434144098426 and parameters: {'n_estimators': 80, 'max_depth': 19, 'min_samples_split': 3, 'min_samples_leaf': 4, 'class_weight': 'balanced_subsample'}. Best is trial 31 with value: 0.8272608872608872.\n",
      "[I 2024-01-31 14:12:00,589] Trial 115 finished with value: 0.8061661878061734 and parameters: {'n_estimators': 15, 'max_depth': 21, 'min_samples_split': 5, 'min_samples_leaf': 9, 'class_weight': 'balanced'}. Best is trial 31 with value: 0.8272608872608872.\n",
      "[I 2024-01-31 14:12:01,102] Trial 112 finished with value: 0.8147462642422074 and parameters: {'n_estimators': 72, 'max_depth': 19, 'min_samples_split': 7, 'min_samples_leaf': 29, 'class_weight': 'balanced'}. Best is trial 31 with value: 0.8272608872608872.\n",
      "[I 2024-01-31 14:12:03,925] Trial 113 finished with value: 0.8137526752583991 and parameters: {'n_estimators': 69, 'max_depth': 19, 'min_samples_split': 7, 'min_samples_leaf': 29, 'class_weight': 'balanced'}. Best is trial 31 with value: 0.8272608872608872.\n",
      "[I 2024-01-31 14:12:05,404] Trial 114 finished with value: 0.8233592356608789 and parameters: {'n_estimators': 64, 'max_depth': 17, 'min_samples_split': 22, 'min_samples_leaf': 19, 'class_weight': 'balanced'}. Best is trial 31 with value: 0.8272608872608872.\n",
      "[I 2024-01-31 14:12:09,548] Trial 118 finished with value: 0.8240042585671808 and parameters: {'n_estimators': 63, 'max_depth': 27, 'min_samples_split': 5, 'min_samples_leaf': 34, 'class_weight': 'balanced_subsample'}. Best is trial 31 with value: 0.8272608872608872.\n",
      "[I 2024-01-31 14:12:10,022] Trial 116 finished with value: 0.8184502923976609 and parameters: {'n_estimators': 75, 'max_depth': 17, 'min_samples_split': 5, 'min_samples_leaf': 23, 'class_weight': 'balanced_subsample'}. Best is trial 31 with value: 0.8272608872608872.\n",
      "[I 2024-01-31 14:12:10,146] Trial 119 finished with value: 0.8218962178172704 and parameters: {'n_estimators': 64, 'max_depth': 17, 'min_samples_split': 5, 'min_samples_leaf': 33, 'class_weight': 'balanced_subsample'}. Best is trial 31 with value: 0.8272608872608872.\n",
      "[I 2024-01-31 14:12:10,162] Trial 117 finished with value: 0.8161077694235589 and parameters: {'n_estimators': 75, 'max_depth': 27, 'min_samples_split': 5, 'min_samples_leaf': 34, 'class_weight': 'balanced_subsample'}. Best is trial 31 with value: 0.8272608872608872.\n",
      "[I 2024-01-31 14:12:13,760] Trial 121 finished with value: 0.81370221829939 and parameters: {'n_estimators': 64, 'max_depth': 17, 'min_samples_split': 26, 'min_samples_leaf': 23, 'class_weight': 'balanced'}. Best is trial 31 with value: 0.8272608872608872.\n",
      "[I 2024-01-31 14:12:15,843] Trial 120 finished with value: 0.8133362110460745 and parameters: {'n_estimators': 75, 'max_depth': 17, 'min_samples_split': 5, 'min_samples_leaf': 22, 'class_weight': 'balanced_subsample'}. Best is trial 31 with value: 0.8272608872608872.\n",
      "[I 2024-01-31 14:12:17,132] Trial 125 finished with value: 0.819997998561466 and parameters: {'n_estimators': 59, 'max_depth': 32, 'min_samples_split': 26, 'min_samples_leaf': 40, 'class_weight': 'balanced'}. Best is trial 31 with value: 0.8272608872608872.\n",
      "[I 2024-01-31 14:12:17,258] Trial 124 finished with value: 0.8098696438541129 and parameters: {'n_estimators': 60, 'max_depth': 32, 'min_samples_split': 26, 'min_samples_leaf': 40, 'class_weight': 'balanced'}. Best is trial 31 with value: 0.8272608872608872.\n",
      "[I 2024-01-31 14:12:18,515] Trial 122 finished with value: 0.8186917163433798 and parameters: {'n_estimators': 59, 'max_depth': 17, 'min_samples_split': 26, 'min_samples_leaf': 35, 'class_weight': 'balanced_subsample'}. Best is trial 31 with value: 0.8272608872608872.\n",
      "[I 2024-01-31 14:12:19,144] Trial 123 finished with value: 0.8206786196259881 and parameters: {'n_estimators': 59, 'max_depth': 32, 'min_samples_split': 26, 'min_samples_leaf': 35, 'class_weight': 'balanced_subsample'}. Best is trial 31 with value: 0.8272608872608872.\n",
      "[I 2024-01-31 14:12:22,258] Trial 126 finished with value: 0.8257720038824994 and parameters: {'n_estimators': 60, 'max_depth': 10, 'min_samples_split': 34, 'min_samples_leaf': 41, 'class_weight': 'balanced_subsample'}. Best is trial 31 with value: 0.8272608872608872.\n",
      "[I 2024-01-31 14:12:23,943] Trial 127 finished with value: 0.8181142044299939 and parameters: {'n_estimators': 58, 'max_depth': 10, 'min_samples_split': 32, 'min_samples_leaf': 40, 'class_weight': 'balanced_subsample'}. Best is trial 31 with value: 0.8272608872608872.\n",
      "[I 2024-01-31 14:12:26,254] Trial 128 finished with value: 0.8171107939543294 and parameters: {'n_estimators': 63, 'max_depth': 15, 'min_samples_split': 22, 'min_samples_leaf': 34, 'class_weight': 'balanced_subsample'}. Best is trial 31 with value: 0.8272608872608872.\n",
      "[I 2024-01-31 14:12:27,549] Trial 129 finished with value: 0.8086784460709534 and parameters: {'n_estimators': 64, 'max_depth': 15, 'min_samples_split': 23, 'min_samples_leaf': 19, 'class_weight': 'balanced_subsample'}. Best is trial 31 with value: 0.8272608872608872.\n",
      "[I 2024-01-31 14:12:28,571] Trial 131 finished with value: 0.8165799638108331 and parameters: {'n_estimators': 64, 'max_depth': 10, 'min_samples_split': 22, 'min_samples_leaf': 26, 'class_weight': 'balanced_subsample'}. Best is trial 31 with value: 0.8272608872608872.\n",
      "[I 2024-01-31 14:12:28,642] Trial 130 finished with value: 0.8150672467339133 and parameters: {'n_estimators': 64, 'max_depth': 10, 'min_samples_split': 21, 'min_samples_leaf': 20, 'class_weight': 'balanced_subsample'}. Best is trial 31 with value: 0.8272608872608872.\n",
      "[I 2024-01-31 14:12:30,472] Trial 132 finished with value: 0.811508197403888 and parameters: {'n_estimators': 55, 'max_depth': 10, 'min_samples_split': 33, 'min_samples_leaf': 27, 'class_weight': 'balanced_subsample'}. Best is trial 31 with value: 0.8272608872608872.\n",
      "[I 2024-01-31 14:12:32,228] Trial 133 finished with value: 0.8087791463780164 and parameters: {'n_estimators': 53, 'max_depth': 13, 'min_samples_split': 42, 'min_samples_leaf': 20, 'class_weight': 'balanced_subsample'}. Best is trial 31 with value: 0.8272608872608872.\n",
      "[I 2024-01-31 14:12:34,979] Trial 134 finished with value: 0.8195677364475904 and parameters: {'n_estimators': 56, 'max_depth': 13, 'min_samples_split': 39, 'min_samples_leaf': 19, 'class_weight': 'balanced_subsample'}. Best is trial 31 with value: 0.8272608872608872.\n",
      "[I 2024-01-31 14:12:35,245] Trial 135 finished with value: 0.8218544413704422 and parameters: {'n_estimators': 51, 'max_depth': 28, 'min_samples_split': 39, 'min_samples_leaf': 27, 'class_weight': 'balanced_subsample'}. Best is trial 31 with value: 0.8272608872608872.\n",
      "[I 2024-01-31 14:12:37,084] Trial 136 finished with value: 0.81580992657088 and parameters: {'n_estimators': 54, 'max_depth': 13, 'min_samples_split': 45, 'min_samples_leaf': 20, 'class_weight': 'balanced_subsample'}. Best is trial 31 with value: 0.8272608872608872.\n",
      "[I 2024-01-31 14:12:37,094] Trial 137 finished with value: 0.8128626424213348 and parameters: {'n_estimators': 55, 'max_depth': 8, 'min_samples_split': 41, 'min_samples_leaf': 31, 'class_weight': 'balanced_subsample'}. Best is trial 31 with value: 0.8272608872608872.\n",
      "[I 2024-01-31 14:12:37,375] Trial 138 finished with value: 0.8130714948802968 and parameters: {'n_estimators': 53, 'max_depth': 8, 'min_samples_split': 44, 'min_samples_leaf': 43, 'class_weight': 'balanced_subsample'}. Best is trial 31 with value: 0.8272608872608872.\n",
      "[I 2024-01-31 14:12:41,321] Trial 141 finished with value: 0.7370019651709793 and parameters: {'n_estimators': 61, 'max_depth': 11, 'min_samples_split': 61, 'min_samples_leaf': 63, 'class_weight': 'balanced'}. Best is trial 31 with value: 0.8272608872608872.\n",
      "[I 2024-01-31 14:12:41,477] Trial 139 finished with value: 0.8177153606330159 and parameters: {'n_estimators': 61, 'max_depth': 8, 'min_samples_split': 57, 'min_samples_leaf': 31, 'class_weight': 'balanced_subsample'}. Best is trial 31 with value: 0.8272608872608872.\n",
      "[I 2024-01-31 14:12:43,486] Trial 144 finished with value: 0.7348495432216362 and parameters: {'n_estimators': 62, 'max_depth': 25, 'min_samples_split': 29, 'min_samples_leaf': 60, 'class_weight': 'balanced'}. Best is trial 31 with value: 0.8272608872608872.\n",
      "[I 2024-01-31 14:12:43,992] Trial 143 finished with value: 0.737242812061711 and parameters: {'n_estimators': 66, 'max_depth': 16, 'min_samples_split': 6, 'min_samples_leaf': 57, 'class_weight': 'balanced'}. Best is trial 31 with value: 0.8272608872608872.\n",
      "[I 2024-01-31 14:12:44,443] Trial 140 finished with value: 0.8148433973090323 and parameters: {'n_estimators': 61, 'max_depth': 28, 'min_samples_split': 8, 'min_samples_leaf': 31, 'class_weight': 'balanced_subsample'}. Best is trial 31 with value: 0.8272608872608872.\n",
      "[I 2024-01-31 14:12:44,896] Trial 142 finished with value: 0.8283358749467457 and parameters: {'n_estimators': 66, 'max_depth': 8, 'min_samples_split': 29, 'min_samples_leaf': 43, 'class_weight': 'balanced'}. Best is trial 142 with value: 0.8283358749467457.\n",
      "[I 2024-01-31 14:12:48,450] Trial 145 finished with value: 0.8254827166730804 and parameters: {'n_estimators': 68, 'max_depth': 25, 'min_samples_split': 6, 'min_samples_leaf': 45, 'class_weight': 'balanced'}. Best is trial 142 with value: 0.8283358749467457.\n",
      "[I 2024-01-31 14:12:52,082] Trial 148 finished with value: 0.825870014301605 and parameters: {'n_estimators': 51, 'max_depth': 29, 'min_samples_split': 35, 'min_samples_leaf': 22, 'class_weight': 'balanced_subsample'}. Best is trial 142 with value: 0.8283358749467457.\n",
      "[I 2024-01-31 14:12:52,255] Trial 149 finished with value: 0.820654346710149 and parameters: {'n_estimators': 50, 'max_depth': 28, 'min_samples_split': 49, 'min_samples_leaf': 22, 'class_weight': 'balanced_subsample'}. Best is trial 142 with value: 0.8283358749467457.\n",
      "[I 2024-01-31 14:12:52,291] Trial 146 finished with value: 0.8179938531625996 and parameters: {'n_estimators': 67, 'max_depth': 25, 'min_samples_split': 35, 'min_samples_leaf': 22, 'class_weight': 'balanced_subsample'}. Best is trial 142 with value: 0.8283358749467457.\n",
      "[I 2024-01-31 14:12:52,946] Trial 150 finished with value: 0.8211878632346064 and parameters: {'n_estimators': 68, 'max_depth': 12, 'min_samples_split': 35, 'min_samples_leaf': 37, 'class_weight': 'balanced'}. Best is trial 142 with value: 0.8283358749467457.\n",
      "[I 2024-01-31 14:12:53,867] Trial 147 finished with value: 0.8180316617941568 and parameters: {'n_estimators': 66, 'max_depth': 28, 'min_samples_split': 50, 'min_samples_leaf': 26, 'class_weight': 'balanced_subsample'}. Best is trial 142 with value: 0.8283358749467457.\n",
      "[I 2024-01-31 14:12:55,846] Trial 151 finished with value: 0.8007592268842268 and parameters: {'n_estimators': 73, 'max_depth': 30, 'min_samples_split': 35, 'min_samples_leaf': 50, 'class_weight': 'balanced'}. Best is trial 142 with value: 0.8283358749467457.\n",
      "[I 2024-01-31 14:12:57,882] Trial 152 finished with value: 0.8003097806628373 and parameters: {'n_estimators': 47, 'max_depth': 30, 'min_samples_split': 29, 'min_samples_leaf': 45, 'class_weight': 'balanced'}. Best is trial 142 with value: 0.8283358749467457.\n",
      "[I 2024-01-31 14:12:59,391] Trial 156 finished with value: 0.8073248436406331 and parameters: {'n_estimators': 47, 'max_depth': 30, 'min_samples_split': 29, 'min_samples_leaf': 44, 'class_weight': 'balanced'}. Best is trial 142 with value: 0.8283358749467457.\n",
      "[I 2024-01-31 14:12:59,982] Trial 153 finished with value: 0.805532282672109 and parameters: {'n_estimators': 67, 'max_depth': 25, 'min_samples_split': 35, 'min_samples_leaf': 44, 'class_weight': 'balanced'}. Best is trial 142 with value: 0.8283358749467457.\n",
      "[I 2024-01-31 14:13:00,181] Trial 154 finished with value: 0.767288495690956 and parameters: {'n_estimators': 73, 'max_depth': 30, 'min_samples_split': 28, 'min_samples_leaf': 53, 'class_weight': 'balanced'}. Best is trial 142 with value: 0.8283358749467457.\n",
      "[I 2024-01-31 14:13:00,897] Trial 155 finished with value: 0.8207297567631023 and parameters: {'n_estimators': 73, 'max_depth': 22, 'min_samples_split': 29, 'min_samples_leaf': 45, 'class_weight': 'balanced'}. Best is trial 142 with value: 0.8283358749467457.\n",
      "[I 2024-01-31 14:13:01,467] Trial 157 finished with value: 0.8173097999184955 and parameters: {'n_estimators': 47, 'max_depth': 22, 'min_samples_split': 31, 'min_samples_leaf': 44, 'class_weight': 'balanced'}. Best is trial 142 with value: 0.8283358749467457.\n",
      "[I 2024-01-31 14:13:05,320] Trial 158 finished with value: 0.8153296115649056 and parameters: {'n_estimators': 69, 'max_depth': 22, 'min_samples_split': 30, 'min_samples_leaf': 45, 'class_weight': 'balanced'}. Best is trial 142 with value: 0.8283358749467457.\n",
      "[I 2024-01-31 14:13:05,911] Trial 160 finished with value: 0.7751666666666667 and parameters: {'n_estimators': 58, 'max_depth': 23, 'min_samples_split': 19, 'min_samples_leaf': 53, 'class_weight': 'balanced'}. Best is trial 142 with value: 0.8283358749467457.\n",
      "[I 2024-01-31 14:13:07,821] Trial 161 finished with value: 0.8110376716146215 and parameters: {'n_estimators': 58, 'max_depth': 21, 'min_samples_split': 20, 'min_samples_leaf': 24, 'class_weight': 'balanced'}. Best is trial 142 with value: 0.8283358749467457.\n",
      "[I 2024-01-31 14:13:08,319] Trial 159 finished with value: 0.8180888179307131 and parameters: {'n_estimators': 70, 'max_depth': 22, 'min_samples_split': 24, 'min_samples_leaf': 24, 'class_weight': 'balanced'}. Best is trial 142 with value: 0.8283358749467457.\n",
      "[I 2024-01-31 14:13:08,502] Trial 162 finished with value: 0.8117512848597187 and parameters: {'n_estimators': 58, 'max_depth': 27, 'min_samples_split': 24, 'min_samples_leaf': 25, 'class_weight': 'balanced'}. Best is trial 142 with value: 0.8283358749467457.\n",
      "[I 2024-01-31 14:13:11,787] Trial 163 finished with value: 0.8132829440627116 and parameters: {'n_estimators': 83, 'max_depth': 11, 'min_samples_split': 24, 'min_samples_leaf': 24, 'class_weight': 'balanced'}. Best is trial 142 with value: 0.8283358749467457.\n",
      "[I 2024-01-31 14:13:12,229] Trial 168 finished with value: 0.8084219869307134 and parameters: {'n_estimators': 26, 'max_depth': 26, 'min_samples_split': 6, 'min_samples_leaf': 39, 'class_weight': 'balanced_subsample'}. Best is trial 142 with value: 0.8283358749467457.\n",
      "[I 2024-01-31 14:13:15,211] Trial 164 finished with value: 0.8197595573440644 and parameters: {'n_estimators': 79, 'max_depth': 28, 'min_samples_split': 24, 'min_samples_leaf': 24, 'class_weight': 'balanced'}. Best is trial 142 with value: 0.8283358749467457.\n",
      "[I 2024-01-31 14:13:15,453] Trial 165 finished with value: 0.8223858587038679 and parameters: {'n_estimators': 84, 'max_depth': 27, 'min_samples_split': 7, 'min_samples_leaf': 38, 'class_weight': 'balanced'}. Best is trial 142 with value: 0.8283358749467457.\n",
      "[I 2024-01-31 14:13:16,836] Trial 166 finished with value: 0.820959192862744 and parameters: {'n_estimators': 83, 'max_depth': 7, 'min_samples_split': 7, 'min_samples_leaf': 39, 'class_weight': 'balanced'}. Best is trial 142 with value: 0.8283358749467457.\n",
      "[I 2024-01-31 14:13:19,167] Trial 167 finished with value: 0.8114048911287718 and parameters: {'n_estimators': 80, 'max_depth': 11, 'min_samples_split': 7, 'min_samples_leaf': 37, 'class_weight': 'balanced_subsample'}. Best is trial 142 with value: 0.8283358749467457.\n",
      "[I 2024-01-31 14:13:19,445] Trial 171 finished with value: 0.8251462599331452 and parameters: {'n_estimators': 29, 'max_depth': 32, 'min_samples_split': 7, 'min_samples_leaf': 34, 'class_weight': 'balanced_subsample'}. Best is trial 142 with value: 0.8283358749467457.\n",
      "[I 2024-01-31 14:13:21,877] Trial 170 finished with value: 0.8123105960691908 and parameters: {'n_estimators': 63, 'max_depth': 7, 'min_samples_split': 6, 'min_samples_leaf': 21, 'class_weight': 'balanced_subsample'}. Best is trial 142 with value: 0.8283358749467457.\n",
      "[I 2024-01-31 14:13:21,986] Trial 169 finished with value: 0.814464805038029 and parameters: {'n_estimators': 78, 'max_depth': 32, 'min_samples_split': 5, 'min_samples_leaf': 37, 'class_weight': 'balanced_subsample'}. Best is trial 142 with value: 0.8283358749467457.\n",
      "[I 2024-01-31 14:13:25,192] Trial 176 finished with value: 0.8263108369554274 and parameters: {'n_estimators': 30, 'max_depth': 32, 'min_samples_split': 8, 'min_samples_leaf': 35, 'class_weight': 'balanced'}. Best is trial 142 with value: 0.8283358749467457.\n",
      "[I 2024-01-31 14:13:25,755] Trial 177 finished with value: 0.8095989689323023 and parameters: {'n_estimators': 29, 'max_depth': 32, 'min_samples_split': 9, 'min_samples_leaf': 19, 'class_weight': 'balanced'}. Best is trial 142 with value: 0.8283358749467457.\n",
      "[I 2024-01-31 14:13:27,143] Trial 172 finished with value: 0.8203426312648171 and parameters: {'n_estimators': 93, 'max_depth': 32, 'min_samples_split': 8, 'min_samples_leaf': 22, 'class_weight': 'balanced'}. Best is trial 142 with value: 0.8283358749467457.\n",
      "[I 2024-01-31 14:13:27,788] Trial 173 finished with value: 0.8075059300158893 and parameters: {'n_estimators': 90, 'max_depth': 11, 'min_samples_split': 8, 'min_samples_leaf': 21, 'class_weight': 'balanced'}. Best is trial 142 with value: 0.8283358749467457.\n",
      "[I 2024-01-31 14:13:28,623] Trial 178 finished with value: 0.8267631607069106 and parameters: {'n_estimators': 29, 'max_depth': 32, 'min_samples_split': 8, 'min_samples_leaf': 34, 'class_weight': 'balanced'}. Best is trial 142 with value: 0.8283358749467457.\n",
      "[I 2024-01-31 14:13:29,488] Trial 179 finished with value: 0.7947203264879344 and parameters: {'n_estimators': 31, 'max_depth': 30, 'min_samples_split': 4, 'min_samples_leaf': 34, 'class_weight': 'balanced'}. Best is trial 142 with value: 0.8283358749467457.\n",
      "[I 2024-01-31 14:13:30,677] Trial 174 finished with value: 0.8096912344266464 and parameters: {'n_estimators': 91, 'max_depth': 32, 'min_samples_split': 8, 'min_samples_leaf': 22, 'class_weight': 'balanced'}. Best is trial 142 with value: 0.8283358749467457.\n",
      "[I 2024-01-31 14:13:30,701] Trial 180 finished with value: 0.7871519411463022 and parameters: {'n_estimators': 31, 'max_depth': 26, 'min_samples_split': 4, 'min_samples_leaf': 49, 'class_weight': 'balanced'}. Best is trial 142 with value: 0.8283358749467457.\n",
      "[I 2024-01-31 14:13:31,458] Trial 181 finished with value: 0.8084319727891156 and parameters: {'n_estimators': 32, 'max_depth': 29, 'min_samples_split': 9, 'min_samples_leaf': 49, 'class_weight': 'balanced'}. Best is trial 142 with value: 0.8283358749467457.\n",
      "[I 2024-01-31 14:13:32,541] Trial 182 finished with value: 0.8083690076568649 and parameters: {'n_estimators': 28, 'max_depth': 26, 'min_samples_split': 7, 'min_samples_leaf': 35, 'class_weight': 'balanced'}. Best is trial 142 with value: 0.8283358749467457.\n",
      "[I 2024-01-31 14:13:33,090] Trial 183 finished with value: 0.8157480574054544 and parameters: {'n_estimators': 33, 'max_depth': 26, 'min_samples_split': 9, 'min_samples_leaf': 49, 'class_weight': 'balanced'}. Best is trial 142 with value: 0.8283358749467457.\n",
      "[I 2024-01-31 14:13:33,216] Trial 175 finished with value: 0.8103049369716036 and parameters: {'n_estimators': 91, 'max_depth': 31, 'min_samples_split': 6, 'min_samples_leaf': 21, 'class_weight': 'balanced_subsample'}. Best is trial 142 with value: 0.8283358749467457.\n",
      "[I 2024-01-31 14:13:34,392] Trial 185 finished with value: 0.8341865935515468 and parameters: {'n_estimators': 28, 'max_depth': 27, 'min_samples_split': 9, 'min_samples_leaf': 40, 'class_weight': 'balanced'}. Best is trial 185 with value: 0.8341865935515468.\n",
      "[I 2024-01-31 14:13:34,804] Trial 186 finished with value: 0.8102156907420065 and parameters: {'n_estimators': 27, 'max_depth': 27, 'min_samples_split': 7, 'min_samples_leaf': 42, 'class_weight': 'balanced'}. Best is trial 185 with value: 0.8341865935515468.\n",
      "[I 2024-01-31 14:13:35,073] Trial 184 finished with value: 0.8136122285838866 and parameters: {'n_estimators': 33, 'max_depth': 26, 'min_samples_split': 20, 'min_samples_leaf': 35, 'class_weight': 'balanced'}. Best is trial 185 with value: 0.8341865935515468.\n",
      "[I 2024-01-31 14:13:36,616] Trial 187 finished with value: 0.8115662506507577 and parameters: {'n_estimators': 27, 'max_depth': 30, 'min_samples_split': 7, 'min_samples_leaf': 28, 'class_weight': 'balanced'}. Best is trial 185 with value: 0.8341865935515468.\n",
      "[I 2024-01-31 14:13:36,828] Trial 189 finished with value: 0.8086744794113981 and parameters: {'n_estimators': 28, 'max_depth': 29, 'min_samples_split': 33, 'min_samples_leaf': 40, 'class_weight': 'balanced'}. Best is trial 185 with value: 0.8341865935515468.\n",
      "[I 2024-01-31 14:13:37,345] Trial 188 finished with value: 0.8257212903763685 and parameters: {'n_estimators': 27, 'max_depth': 29, 'min_samples_split': 7, 'min_samples_leaf': 39, 'class_weight': 'balanced_subsample'}. Best is trial 185 with value: 0.8341865935515468.\n",
      "[I 2024-01-31 14:13:37,953] Trial 190 finished with value: 0.8076444584489627 and parameters: {'n_estimators': 27, 'max_depth': 28, 'min_samples_split': 10, 'min_samples_leaf': 37, 'class_weight': 'balanced'}. Best is trial 185 with value: 0.8341865935515468.\n",
      "[I 2024-01-31 14:13:38,550] Trial 191 finished with value: 0.8256305769148797 and parameters: {'n_estimators': 29, 'max_depth': 28, 'min_samples_split': 33, 'min_samples_leaf': 40, 'class_weight': 'balanced'}. Best is trial 185 with value: 0.8341865935515468.\n",
      "[I 2024-01-31 14:13:38,848] Trial 192 finished with value: 0.8170263742630102 and parameters: {'n_estimators': 29, 'max_depth': 29, 'min_samples_split': 8, 'min_samples_leaf': 42, 'class_weight': 'balanced'}. Best is trial 185 with value: 0.8341865935515468.\n",
      "[I 2024-01-31 14:13:40,035] Trial 194 finished with value: 0.8041100383035866 and parameters: {'n_estimators': 24, 'max_depth': 24, 'min_samples_split': 10, 'min_samples_leaf': 41, 'class_weight': 'balanced'}. Best is trial 185 with value: 0.8341865935515468.\n",
      "[I 2024-01-31 14:13:40,415] Trial 193 finished with value: 0.8141151353660614 and parameters: {'n_estimators': 29, 'max_depth': 28, 'min_samples_split': 10, 'min_samples_leaf': 41, 'class_weight': 'balanced'}. Best is trial 185 with value: 0.8341865935515468.\n",
      "[I 2024-01-31 14:13:41,329] Trial 196 finished with value: 0.8161936028013894 and parameters: {'n_estimators': 25, 'max_depth': 30, 'min_samples_split': 12, 'min_samples_leaf': 39, 'class_weight': 'balanced'}. Best is trial 185 with value: 0.8341865935515468.\n",
      "[I 2024-01-31 14:13:41,638] Trial 195 finished with value: 0.8161834567060893 and parameters: {'n_estimators': 25, 'max_depth': 24, 'min_samples_split': 8, 'min_samples_leaf': 33, 'class_weight': 'balanced_subsample'}. Best is trial 185 with value: 0.8341865935515468.\n",
      "[I 2024-01-31 14:13:42,941] Trial 197 finished with value: 0.8244131278614037 and parameters: {'n_estimators': 25, 'max_depth': 24, 'min_samples_split': 38, 'min_samples_leaf': 33, 'class_weight': 'balanced_subsample'}. Best is trial 185 with value: 0.8341865935515468.\n",
      "[I 2024-01-31 14:13:43,941] Trial 198 finished with value: 0.814118923545837 and parameters: {'n_estimators': 30, 'max_depth': 24, 'min_samples_split': 12, 'min_samples_leaf': 33, 'class_weight': 'balanced_subsample'}. Best is trial 185 with value: 0.8341865935515468.\n",
      "[I 2024-01-31 14:13:44,961] Trial 200 finished with value: 0.8070838743663057 and parameters: {'n_estimators': 26, 'max_depth': 32, 'min_samples_split': 33, 'min_samples_leaf': 32, 'class_weight': 'balanced_subsample'}. Best is trial 185 with value: 0.8341865935515468.\n",
      "[I 2024-01-31 14:13:45,127] Trial 201 finished with value: 0.8208231205414304 and parameters: {'n_estimators': 25, 'max_depth': 2, 'min_samples_split': 9, 'min_samples_leaf': 33, 'class_weight': 'balanced_subsample'}. Best is trial 185 with value: 0.8341865935515468.\n",
      "[I 2024-01-31 14:13:45,213] Trial 199 finished with value: 0.8102951039570758 and parameters: {'n_estimators': 30, 'max_depth': 30, 'min_samples_split': 37, 'min_samples_leaf': 33, 'class_weight': 'balanced_subsample'}. Best is trial 185 with value: 0.8341865935515468.\n",
      "[I 2024-01-31 14:13:46,653] Trial 202 finished with value: 0.8041963951366171 and parameters: {'n_estimators': 34, 'max_depth': 2, 'min_samples_split': 33, 'min_samples_leaf': 2, 'class_weight': 'balanced_subsample'}. Best is trial 185 with value: 0.8341865935515468.\n",
      "[I 2024-01-31 14:13:47,063] Trial 203 finished with value: 0.8160526849037486 and parameters: {'n_estimators': 22, 'max_depth': 32, 'min_samples_split': 32, 'min_samples_leaf': 30, 'class_weight': 'balanced_subsample'}. Best is trial 185 with value: 0.8341865935515468.\n",
      "[I 2024-01-31 14:13:47,924] Trial 204 finished with value: 0.829173576917332 and parameters: {'n_estimators': 23, 'max_depth': 3, 'min_samples_split': 38, 'min_samples_leaf': 31, 'class_weight': 'balanced_subsample'}. Best is trial 185 with value: 0.8341865935515468.\n",
      "[I 2024-01-31 14:13:49,627] Trial 207 finished with value: 0.8115269773063997 and parameters: {'n_estimators': 26, 'max_depth': 32, 'min_samples_split': 37, 'min_samples_leaf': 27, 'class_weight': 'balanced_subsample'}. Best is trial 185 with value: 0.8341865935515468.\n",
      "[I 2024-01-31 14:13:50,098] Trial 206 finished with value: 0.8192168587374067 and parameters: {'n_estimators': 30, 'max_depth': 18, 'min_samples_split': 32, 'min_samples_leaf': 30, 'class_weight': 'balanced_subsample'}. Best is trial 185 with value: 0.8341865935515468.\n",
      "[I 2024-01-31 14:13:50,158] Trial 208 finished with value: 0.8162379972685763 and parameters: {'n_estimators': 22, 'max_depth': 18, 'min_samples_split': 37, 'min_samples_leaf': 36, 'class_weight': 'balanced_subsample'}. Best is trial 185 with value: 0.8341865935515468.\n",
      "[I 2024-01-31 14:13:51,590] Trial 210 finished with value: 0.8312809583475778 and parameters: {'n_estimators': 22, 'max_depth': 27, 'min_samples_split': 38, 'min_samples_leaf': 28, 'class_weight': 'balanced_subsample'}. Best is trial 185 with value: 0.8341865935515468.\n",
      "[I 2024-01-31 14:13:51,791] Trial 205 finished with value: 0.8135473635660141 and parameters: {'n_estimators': 34, 'max_depth': 30, 'min_samples_split': 39, 'min_samples_leaf': 2, 'class_weight': 'balanced_subsample'}. Best is trial 185 with value: 0.8341865935515468.\n",
      "[I 2024-01-31 14:13:52,776] Trial 209 finished with value: 0.8031082375822706 and parameters: {'n_estimators': 28, 'max_depth': 18, 'min_samples_split': 39, 'min_samples_leaf': 3, 'class_weight': 'balanced_subsample'}. Best is trial 185 with value: 0.8341865935515468.\n",
      "[I 2024-01-31 14:13:53,242] Trial 211 finished with value: 0.8219594748105387 and parameters: {'n_estimators': 23, 'max_depth': 3, 'min_samples_split': 38, 'min_samples_leaf': 36, 'class_weight': 'balanced_subsample'}. Best is trial 185 with value: 0.8341865935515468.\n",
      "[I 2024-01-31 14:13:53,714] Trial 212 finished with value: 0.8062318938076135 and parameters: {'n_estimators': 21, 'max_depth': 28, 'min_samples_split': 39, 'min_samples_leaf': 36, 'class_weight': 'balanced_subsample'}. Best is trial 185 with value: 0.8341865935515468.\n",
      "[I 2024-01-31 14:13:53,730] Trial 213 finished with value: 0.8241009886171176 and parameters: {'n_estimators': 20, 'max_depth': 5, 'min_samples_split': 18, 'min_samples_leaf': 28, 'class_weight': 'balanced_subsample'}. Best is trial 185 with value: 0.8341865935515468.\n",
      "[I 2024-01-31 14:13:55,258] Trial 214 finished with value: 0.8219602401359255 and parameters: {'n_estimators': 19, 'max_depth': 28, 'min_samples_split': 39, 'min_samples_leaf': 26, 'class_weight': 'balanced_subsample'}. Best is trial 185 with value: 0.8341865935515468.\n",
      "[I 2024-01-31 14:13:55,643] Trial 215 finished with value: 0.8078400148710216 and parameters: {'n_estimators': 21, 'max_depth': 3, 'min_samples_split': 40, 'min_samples_leaf': 26, 'class_weight': 'balanced_subsample'}. Best is trial 185 with value: 0.8341865935515468.\n",
      "[I 2024-01-31 14:13:56,557] Trial 216 finished with value: 0.8062352512695762 and parameters: {'n_estimators': 21, 'max_depth': 3, 'min_samples_split': 42, 'min_samples_leaf': 26, 'class_weight': 'balanced_subsample'}. Best is trial 185 with value: 0.8341865935515468.\n",
      "[I 2024-01-31 14:13:57,059] Trial 219 finished with value: 0.8188124722058825 and parameters: {'n_estimators': 18, 'max_depth': 4, 'min_samples_split': 35, 'min_samples_leaf': 26, 'class_weight': 'balanced_subsample'}. Best is trial 185 with value: 0.8341865935515468.\n",
      "[I 2024-01-31 14:13:57,089] Trial 217 finished with value: 0.8212473283062923 and parameters: {'n_estimators': 20, 'max_depth': 28, 'min_samples_split': 44, 'min_samples_leaf': 28, 'class_weight': 'balanced_subsample'}. Best is trial 185 with value: 0.8341865935515468.\n",
      "[I 2024-01-31 14:13:58,093] Trial 218 finished with value: 0.8231774081774083 and parameters: {'n_estimators': 24, 'max_depth': 4, 'min_samples_split': 21, 'min_samples_leaf': 26, 'class_weight': 'balanced_subsample'}. Best is trial 185 with value: 0.8341865935515468.\n",
      "[I 2024-01-31 14:13:59,018] Trial 220 finished with value: 0.822555324008469 and parameters: {'n_estimators': 21, 'max_depth': 3, 'min_samples_split': 35, 'min_samples_leaf': 30, 'class_weight': 'balanced_subsample'}. Best is trial 185 with value: 0.8341865935515468.\n",
      "[I 2024-01-31 14:13:59,537] Trial 221 finished with value: 0.8233249506857255 and parameters: {'n_estimators': 23, 'max_depth': 4, 'min_samples_split': 43, 'min_samples_leaf': 30, 'class_weight': 'balanced_subsample'}. Best is trial 185 with value: 0.8341865935515468.\n",
      "[I 2024-01-31 14:14:00,444] Trial 222 finished with value: 0.8112962782363932 and parameters: {'n_estimators': 22, 'max_depth': 25, 'min_samples_split': 19, 'min_samples_leaf': 30, 'class_weight': 'balanced_subsample'}. Best is trial 185 with value: 0.8341865935515468.\n",
      "[I 2024-01-31 14:14:00,967] Trial 224 finished with value: 0.807962159267497 and parameters: {'n_estimators': 23, 'max_depth': 5, 'min_samples_split': 20, 'min_samples_leaf': 32, 'class_weight': 'balanced_subsample'}. Best is trial 185 with value: 0.8341865935515468.\n",
      "[I 2024-01-31 14:14:02,150] Trial 223 finished with value: 0.8193943106572359 and parameters: {'n_estimators': 28, 'max_depth': 25, 'min_samples_split': 18, 'min_samples_leaf': 23, 'class_weight': 'balanced_subsample'}. Best is trial 185 with value: 0.8341865935515468.\n",
      "[I 2024-01-31 14:14:02,337] Trial 225 finished with value: 0.815101055806938 and parameters: {'n_estimators': 24, 'max_depth': 5, 'min_samples_split': 23, 'min_samples_leaf': 30, 'class_weight': 'balanced_subsample'}. Best is trial 185 with value: 0.8341865935515468.\n",
      "[I 2024-01-31 14:14:03,286] Trial 226 finished with value: 0.8201446738539471 and parameters: {'n_estimators': 23, 'max_depth': 5, 'min_samples_split': 21, 'min_samples_leaf': 23, 'class_weight': 'balanced_subsample'}. Best is trial 185 with value: 0.8341865935515468.\n",
      "[I 2024-01-31 14:14:03,683] Trial 227 finished with value: 0.8285186761452898 and parameters: {'n_estimators': 23, 'max_depth': 5, 'min_samples_split': 18, 'min_samples_leaf': 31, 'class_weight': 'balanced_subsample'}. Best is trial 185 with value: 0.8341865935515468.\n",
      "[I 2024-01-31 14:14:04,823] Trial 228 finished with value: 0.8139474219770267 and parameters: {'n_estimators': 23, 'max_depth': 5, 'min_samples_split': 50, 'min_samples_leaf': 31, 'class_weight': 'balanced_subsample'}. Best is trial 185 with value: 0.8341865935515468.\n",
      "[I 2024-01-31 14:14:05,287] Trial 229 finished with value: 0.8110617777284445 and parameters: {'n_estimators': 23, 'max_depth': 4, 'min_samples_split': 52, 'min_samples_leaf': 23, 'class_weight': 'balanced_subsample'}. Best is trial 185 with value: 0.8341865935515468.\n",
      "[I 2024-01-31 14:14:06,657] Trial 230 finished with value: 0.8065888216984106 and parameters: {'n_estimators': 24, 'max_depth': 5, 'min_samples_split': 43, 'min_samples_leaf': 28, 'class_weight': 'balanced_subsample'}. Best is trial 185 with value: 0.8341865935515468.\n",
      "[I 2024-01-31 14:14:06,696] Trial 232 finished with value: 0.8090354004779506 and parameters: {'n_estimators': 19, 'max_depth': 27, 'min_samples_split': 47, 'min_samples_leaf': 38, 'class_weight': 'balanced_subsample'}. Best is trial 185 with value: 0.8341865935515468.\n",
      "[I 2024-01-31 14:14:06,723] Trial 231 finished with value: 0.8149337787418283 and parameters: {'n_estimators': 23, 'max_depth': 30, 'min_samples_split': 43, 'min_samples_leaf': 28, 'class_weight': 'balanced_subsample'}. Best is trial 185 with value: 0.8341865935515468.\n",
      "[I 2024-01-31 14:14:07,865] Trial 233 finished with value: 0.8161567119084026 and parameters: {'n_estimators': 23, 'max_depth': 4, 'min_samples_split': 47, 'min_samples_leaf': 28, 'class_weight': 'balanced_subsample'}. Best is trial 185 with value: 0.8341865935515468.\n",
      "[I 2024-01-31 14:14:08,724] Trial 235 finished with value: 0.8088855472013365 and parameters: {'n_estimators': 20, 'max_depth': 26, 'min_samples_split': 16, 'min_samples_leaf': 37, 'class_weight': 'balanced_subsample'}. Best is trial 185 with value: 0.8341865935515468.\n",
      "[I 2024-01-31 14:14:09,120] Trial 234 finished with value: 0.8107718457805874 and parameters: {'n_estimators': 24, 'max_depth': 4, 'min_samples_split': 16, 'min_samples_leaf': 28, 'class_weight': 'balanced_subsample'}. Best is trial 185 with value: 0.8341865935515468.\n",
      "[I 2024-01-31 14:14:10,206] Trial 236 finished with value: 0.7976613756613757 and parameters: {'n_estimators': 20, 'max_depth': 4, 'min_samples_split': 18, 'min_samples_leaf': 34, 'class_weight': 'balanced_subsample'}. Best is trial 185 with value: 0.8341865935515468.\n",
      "[I 2024-01-31 14:14:11,188] Trial 237 finished with value: 0.8183652286410907 and parameters: {'n_estimators': 26, 'max_depth': 4, 'min_samples_split': 16, 'min_samples_leaf': 34, 'class_weight': 'balanced_subsample'}. Best is trial 185 with value: 0.8341865935515468.\n",
      "[I 2024-01-31 14:14:11,248] Trial 238 finished with value: 0.8111076627975604 and parameters: {'n_estimators': 26, 'max_depth': 4, 'min_samples_split': 17, 'min_samples_leaf': 34, 'class_weight': 'balanced_subsample'}. Best is trial 185 with value: 0.8341865935515468.\n",
      "[I 2024-01-31 14:14:12,550] Trial 239 finished with value: 0.8228778166617401 and parameters: {'n_estimators': 26, 'max_depth': 30, 'min_samples_split': 18, 'min_samples_leaf': 32, 'class_weight': 'balanced_subsample'}. Best is trial 185 with value: 0.8341865935515468.\n",
      "[I 2024-01-31 14:14:13,317] Trial 240 finished with value: 0.8167302457644581 and parameters: {'n_estimators': 26, 'max_depth': 29, 'min_samples_split': 17, 'min_samples_leaf': 34, 'class_weight': 'balanced_subsample'}. Best is trial 185 with value: 0.8341865935515468.\n",
      "[I 2024-01-31 14:14:13,727] Trial 241 finished with value: 0.8178929290783812 and parameters: {'n_estimators': 26, 'max_depth': 30, 'min_samples_split': 22, 'min_samples_leaf': 34, 'class_weight': 'balanced_subsample'}. Best is trial 185 with value: 0.8341865935515468.\n",
      "[I 2024-01-31 14:14:14,291] Trial 242 finished with value: 0.8167396704511087 and parameters: {'n_estimators': 26, 'max_depth': 30, 'min_samples_split': 22, 'min_samples_leaf': 42, 'class_weight': 'balanced_subsample'}. Best is trial 185 with value: 0.8341865935515468.\n",
      "[I 2024-01-31 14:14:15,506] Trial 243 finished with value: 0.8194295452916144 and parameters: {'n_estimators': 29, 'max_depth': 6, 'min_samples_split': 21, 'min_samples_leaf': 43, 'class_weight': 'balanced_subsample'}. Best is trial 185 with value: 0.8341865935515468.\n",
      "[I 2024-01-31 14:14:16,391] Trial 244 finished with value: 0.8182189749535397 and parameters: {'n_estimators': 28, 'max_depth': 30, 'min_samples_split': 22, 'min_samples_leaf': 25, 'class_weight': 'balanced_subsample'}. Best is trial 185 with value: 0.8341865935515468.\n",
      "[I 2024-01-31 14:14:17,330] Trial 245 finished with value: 0.821287976903567 and parameters: {'n_estimators': 31, 'max_depth': 6, 'min_samples_split': 22, 'min_samples_leaf': 42, 'class_weight': 'balanced_subsample'}. Best is trial 185 with value: 0.8341865935515468.\n",
      "[I 2024-01-31 14:14:18,093] Trial 247 finished with value: 0.8039519260639951 and parameters: {'n_estimators': 28, 'max_depth': 31, 'min_samples_split': 20, 'min_samples_leaf': 42, 'class_weight': 'balanced_subsample'}. Best is trial 185 with value: 0.8341865935515468.\n",
      "[I 2024-01-31 14:14:18,616] Trial 246 finished with value: 0.8252570110853602 and parameters: {'n_estimators': 29, 'max_depth': 6, 'min_samples_split': 20, 'min_samples_leaf': 31, 'class_weight': 'balanced_subsample'}. Best is trial 185 with value: 0.8341865935515468.\n",
      "[I 2024-01-31 14:14:19,689] Trial 248 finished with value: 0.8262498857759015 and parameters: {'n_estimators': 30, 'max_depth': 6, 'min_samples_split': 19, 'min_samples_leaf': 31, 'class_weight': 'balanced_subsample'}. Best is trial 185 with value: 0.8341865935515468.\n",
      "[I 2024-01-31 14:14:20,403] Trial 249 finished with value: 0.8198823272067264 and parameters: {'n_estimators': 31, 'max_depth': 32, 'min_samples_split': 19, 'min_samples_leaf': 38, 'class_weight': 'balanced_subsample'}. Best is trial 185 with value: 0.8341865935515468.\n",
      "[I 2024-01-31 14:14:21,329] Trial 250 finished with value: 0.8102636763936915 and parameters: {'n_estimators': 31, 'max_depth': 27, 'min_samples_split': 19, 'min_samples_leaf': 32, 'class_weight': 'balanced_subsample'}. Best is trial 185 with value: 0.8341865935515468.\n",
      "[I 2024-01-31 14:14:21,609] Trial 251 finished with value: 0.8123570644654983 and parameters: {'n_estimators': 25, 'max_depth': 27, 'min_samples_split': 19, 'min_samples_leaf': 31, 'class_weight': 'balanced_subsample'}. Best is trial 185 with value: 0.8341865935515468.\n",
      "[I 2024-01-31 14:14:21,713] Trial 252 finished with value: 0.8077299443823964 and parameters: {'n_estimators': 25, 'max_depth': 8, 'min_samples_split': 19, 'min_samples_leaf': 31, 'class_weight': 'balanced'}. Best is trial 185 with value: 0.8341865935515468.\n",
      "[I 2024-01-31 14:14:22,579] Trial 253 finished with value: 0.8132898410968095 and parameters: {'n_estimators': 32, 'max_depth': 27, 'min_samples_split': 30, 'min_samples_leaf': 39, 'class_weight': 'balanced'}. Best is trial 185 with value: 0.8341865935515468.\n",
      "[I 2024-01-31 14:14:23,757] Trial 254 finished with value: 0.8258381659808958 and parameters: {'n_estimators': 31, 'max_depth': 7, 'min_samples_split': 19, 'min_samples_leaf': 31, 'class_weight': 'balanced'}. Best is trial 185 with value: 0.8341865935515468.\n",
      "[I 2024-01-31 14:14:24,929] Trial 256 finished with value: 0.8105745565236658 and parameters: {'n_estimators': 29, 'max_depth': 7, 'min_samples_split': 27, 'min_samples_leaf': 30, 'class_weight': 'balanced'}. Best is trial 185 with value: 0.8341865935515468.\n",
      "[I 2024-01-31 14:14:25,179] Trial 255 finished with value: 0.8173845117310703 and parameters: {'n_estimators': 29, 'max_depth': 20, 'min_samples_split': 27, 'min_samples_leaf': 4, 'class_weight': 'balanced'}. Best is trial 185 with value: 0.8341865935515468.\n",
      "[I 2024-01-31 14:14:25,387] Trial 257 finished with value: 0.8106652553236853 and parameters: {'n_estimators': 29, 'max_depth': 7, 'min_samples_split': 33, 'min_samples_leaf': 30, 'class_weight': 'balanced'}. Best is trial 185 with value: 0.8341865935515468.\n",
      "[I 2024-01-31 14:14:26,021] Trial 260 finished with value: 0.8270953011979028 and parameters: {'n_estimators': 16, 'max_depth': 7, 'min_samples_split': 17, 'min_samples_leaf': 29, 'class_weight': 'balanced'}. Best is trial 185 with value: 0.8341865935515468.\n",
      "[I 2024-01-31 14:14:26,215] Trial 259 finished with value: 0.8172382023471403 and parameters: {'n_estimators': 29, 'max_depth': 24, 'min_samples_split': 21, 'min_samples_leaf': 30, 'class_weight': 'balanced'}. Best is trial 185 with value: 0.8341865935515468.\n",
      "[I 2024-01-31 14:14:26,648] Trial 258 finished with value: 0.7985527928861262 and parameters: {'n_estimators': 29, 'max_depth': 20, 'min_samples_split': 25, 'min_samples_leaf': 5, 'class_weight': 'balanced'}. Best is trial 185 with value: 0.8341865935515468.\n",
      "[I 2024-01-31 14:14:28,163] Trial 264 finished with value: 0.7879082352246909 and parameters: {'n_estimators': 14, 'max_depth': 8, 'min_samples_split': 17, 'min_samples_leaf': 36, 'class_weight': 'balanced'}. Best is trial 185 with value: 0.8341865935515468.\n",
      "[I 2024-01-31 14:14:28,225] Trial 262 finished with value: 0.7997807684103877 and parameters: {'n_estimators': 22, 'max_depth': 9, 'min_samples_split': 18, 'min_samples_leaf': 36, 'class_weight': 'balanced'}. Best is trial 185 with value: 0.8341865935515468.\n",
      "[I 2024-01-31 14:14:28,928] Trial 266 finished with value: 0.829260107262327 and parameters: {'n_estimators': 15, 'max_depth': 8, 'min_samples_split': 15, 'min_samples_leaf': 35, 'class_weight': 'balanced'}. Best is trial 185 with value: 0.8341865935515468.\n",
      "[I 2024-01-31 14:14:29,143] Trial 261 finished with value: 0.8209782182638815 and parameters: {'n_estimators': 29, 'max_depth': 9, 'min_samples_split': 18, 'min_samples_leaf': 29, 'class_weight': 'balanced'}. Best is trial 185 with value: 0.8341865935515468.\n",
      "[I 2024-01-31 14:14:29,993] Trial 265 finished with value: 0.8149201228878648 and parameters: {'n_estimators': 27, 'max_depth': 6, 'min_samples_split': 18, 'min_samples_leaf': 36, 'class_weight': 'balanced'}. Best is trial 185 with value: 0.8341865935515468.\n",
      "[I 2024-01-31 14:14:30,178] Trial 268 finished with value: 0.8128422989841754 and parameters: {'n_estimators': 12, 'max_depth': 6, 'min_samples_split': 15, 'min_samples_leaf': 46, 'class_weight': 'balanced'}. Best is trial 185 with value: 0.8341865935515468.\n",
      "[I 2024-01-31 14:14:30,705] Trial 267 finished with value: 0.8105891743391744 and parameters: {'n_estimators': 15, 'max_depth': 6, 'min_samples_split': 18, 'min_samples_leaf': 36, 'class_weight': 'balanced'}. Best is trial 185 with value: 0.8341865935515468.\n",
      "[I 2024-01-31 14:14:31,479] Trial 270 finished with value: 0.8093502712399214 and parameters: {'n_estimators': 15, 'max_depth': 8, 'min_samples_split': 14, 'min_samples_leaf': 39, 'class_weight': 'balanced'}. Best is trial 185 with value: 0.8341865935515468.\n",
      "[I 2024-01-31 14:14:31,616] Trial 269 finished with value: 0.7783477344573235 and parameters: {'n_estimators': 18, 'max_depth': 8, 'min_samples_split': 16, 'min_samples_leaf': 39, 'class_weight': 'balanced'}. Best is trial 185 with value: 0.8341865935515468.\n",
      "[I 2024-01-31 14:14:31,623] Trial 263 finished with value: 0.8156314638277324 and parameters: {'n_estimators': 38, 'max_depth': 9, 'min_samples_split': 15, 'min_samples_leaf': 36, 'class_weight': 'balanced_subsample'}. Best is trial 185 with value: 0.8341865935515468.\n",
      "[I 2024-01-31 14:14:33,842] Trial 276 finished with value: 0.8014110441529796 and parameters: {'n_estimators': 15, 'max_depth': 7, 'min_samples_split': 8, 'min_samples_leaf': 33, 'class_weight': 'balanced'}. Best is trial 185 with value: 0.8341865935515468.\n",
      "[I 2024-01-31 14:14:34,096] Trial 275 finished with value: 0.8223830695369921 and parameters: {'n_estimators': 17, 'max_depth': 7, 'min_samples_split': 8, 'min_samples_leaf': 33, 'class_weight': 'balanced'}. Best is trial 185 with value: 0.8341865935515468.\n",
      "[I 2024-01-31 14:14:34,871] Trial 271 finished with value: 0.8191647833316364 and parameters: {'n_estimators': 39, 'max_depth': 7, 'min_samples_split': 16, 'min_samples_leaf': 39, 'class_weight': 'balanced'}. Best is trial 185 with value: 0.8341865935515468.\n",
      "[I 2024-01-31 14:14:34,923] Trial 272 finished with value: 0.8119589380778136 and parameters: {'n_estimators': 36, 'max_depth': 8, 'min_samples_split': 17, 'min_samples_leaf': 39, 'class_weight': 'balanced'}. Best is trial 185 with value: 0.8341865935515468.\n",
      "[I 2024-01-31 14:14:35,531] Trial 273 finished with value: 0.8117233629773963 and parameters: {'n_estimators': 36, 'max_depth': 7, 'min_samples_split': 15, 'min_samples_leaf': 39, 'class_weight': 'balanced'}. Best is trial 185 with value: 0.8341865935515468.\n",
      "[I 2024-01-31 14:14:35,965] Trial 277 finished with value: 0.8119175012986437 and parameters: {'n_estimators': 13, 'max_depth': 7, 'min_samples_split': 20, 'min_samples_leaf': 32, 'class_weight': 'balanced'}. Best is trial 185 with value: 0.8341865935515468.\n",
      "[I 2024-01-31 14:14:36,438] Trial 278 finished with value: 0.7975617727541151 and parameters: {'n_estimators': 16, 'max_depth': 7, 'min_samples_split': 20, 'min_samples_leaf': 40, 'class_weight': 'balanced'}. Best is trial 185 with value: 0.8341865935515468.\n",
      "[I 2024-01-31 14:14:36,840] Trial 274 finished with value: 0.8237059935146013 and parameters: {'n_estimators': 39, 'max_depth': 8, 'min_samples_split': 16, 'min_samples_leaf': 33, 'class_weight': 'balanced'}. Best is trial 185 with value: 0.8341865935515468.\n",
      "[I 2024-01-31 14:14:37,014] Trial 279 finished with value: 0.8150546173375364 and parameters: {'n_estimators': 16, 'max_depth': 25, 'min_samples_split': 20, 'min_samples_leaf': 46, 'class_weight': 'balanced'}. Best is trial 185 with value: 0.8341865935515468.\n",
      "[I 2024-01-31 14:14:37,197] Trial 280 finished with value: 0.8168186762614006 and parameters: {'n_estimators': 13, 'max_depth': 25, 'min_samples_split': 20, 'min_samples_leaf': 32, 'class_weight': 'balanced'}. Best is trial 185 with value: 0.8341865935515468.\n",
      "[I 2024-01-31 14:14:38,326] Trial 282 finished with value: 0.8077979274377279 and parameters: {'n_estimators': 16, 'max_depth': 28, 'min_samples_split': 36, 'min_samples_leaf': 28, 'class_weight': 'balanced'}. Best is trial 185 with value: 0.8341865935515468.\n",
      "[I 2024-01-31 14:14:40,493] Trial 284 finished with value: 0.8172500080290707 and parameters: {'n_estimators': 32, 'max_depth': 25, 'min_samples_split': 36, 'min_samples_leaf': 46, 'class_weight': 'balanced'}. Best is trial 185 with value: 0.8341865935515468.\n",
      "[I 2024-01-31 14:14:41,313] Trial 286 finished with value: 0.8150311495835793 and parameters: {'n_estimators': 27, 'max_depth': 9, 'min_samples_split': 13, 'min_samples_leaf': 28, 'class_weight': 'balanced_subsample'}. Best is trial 185 with value: 0.8341865935515468.\n",
      "[I 2024-01-31 14:14:42,391] Trial 285 finished with value: 0.8145362323011396 and parameters: {'n_estimators': 44, 'max_depth': 9, 'min_samples_split': 13, 'min_samples_leaf': 34, 'class_weight': 'balanced'}. Best is trial 185 with value: 0.8341865935515468.\n",
      "[I 2024-01-31 14:14:43,921] Trial 281 finished with value: 0.8187223187446568 and parameters: {'n_estimators': 67, 'max_depth': 28, 'min_samples_split': 20, 'min_samples_leaf': 32, 'class_weight': 'balanced'}. Best is trial 185 with value: 0.8341865935515468.\n",
      "[I 2024-01-31 14:14:44,778] Trial 287 finished with value: 0.8154170483604446 and parameters: {'n_estimators': 44, 'max_depth': 9, 'min_samples_split': 35, 'min_samples_leaf': 33, 'class_weight': 'balanced_subsample'}. Best is trial 185 with value: 0.8341865935515468.\n",
      "[I 2024-01-31 14:14:45,142] Trial 283 finished with value: 0.816155596758324 and parameters: {'n_estimators': 66, 'max_depth': 25, 'min_samples_split': 36, 'min_samples_leaf': 28, 'class_weight': 'balanced'}. Best is trial 185 with value: 0.8341865935515468.\n",
      "[I 2024-01-31 14:14:45,980] Trial 289 finished with value: 0.815895100640787 and parameters: {'n_estimators': 31, 'max_depth': 8, 'min_samples_split': 17, 'min_samples_leaf': 34, 'class_weight': 'balanced_subsample'}. Best is trial 185 with value: 0.8341865935515468.\n",
      "[I 2024-01-31 14:14:46,655] Trial 288 finished with value: 0.8223544690603515 and parameters: {'n_estimators': 42, 'max_depth': 9, 'min_samples_split': 15, 'min_samples_leaf': 34, 'class_weight': 'balanced_subsample'}. Best is trial 185 with value: 0.8341865935515468.\n",
      "[I 2024-01-31 14:14:46,953] Trial 290 finished with value: 0.8142361546268255 and parameters: {'n_estimators': 30, 'max_depth': 8, 'min_samples_split': 16, 'min_samples_leaf': 35, 'class_weight': 'balanced_subsample'}. Best is trial 185 with value: 0.8341865935515468.\n",
      "[I 2024-01-31 14:14:48,673] Trial 291 finished with value: 0.8183759533525828 and parameters: {'n_estimators': 30, 'max_depth': 8, 'min_samples_split': 15, 'min_samples_leaf': 35, 'class_weight': 'balanced_subsample'}. Best is trial 185 with value: 0.8341865935515468.\n",
      "[I 2024-01-31 14:14:50,985] Trial 292 finished with value: 0.8111598620437505 and parameters: {'n_estimators': 30, 'max_depth': 29, 'min_samples_split': 17, 'min_samples_leaf': 8, 'class_weight': 'balanced_subsample'}. Best is trial 185 with value: 0.8341865935515468.\n",
      "[I 2024-01-31 14:14:51,285] Trial 296 finished with value: 0.8277780769058196 and parameters: {'n_estimators': 28, 'max_depth': 29, 'min_samples_split': 31, 'min_samples_leaf': 30, 'class_weight': 'balanced_subsample'}. Best is trial 185 with value: 0.8341865935515468.\n",
      "[I 2024-01-31 14:14:51,548] Trial 293 finished with value: 0.8144733044733045 and parameters: {'n_estimators': 41, 'max_depth': 8, 'min_samples_split': 31, 'min_samples_leaf': 35, 'class_weight': 'balanced_subsample'}. Best is trial 185 with value: 0.8341865935515468.\n",
      "[I 2024-01-31 14:14:52,164] Trial 294 finished with value: 0.8155716255787102 and parameters: {'n_estimators': 42, 'max_depth': 32, 'min_samples_split': 15, 'min_samples_leaf': 36, 'class_weight': 'balanced_subsample'}. Best is trial 185 with value: 0.8341865935515468.\n",
      "[I 2024-01-31 14:14:52,864] Trial 295 finished with value: 0.8082029794842391 and parameters: {'n_estimators': 33, 'max_depth': 31, 'min_samples_split': 9, 'min_samples_leaf': 9, 'class_weight': 'balanced_subsample'}. Best is trial 185 with value: 0.8341865935515468.\n",
      "[I 2024-01-31 14:14:53,039] Trial 297 finished with value: 0.8137109847539581 and parameters: {'n_estimators': 34, 'max_depth': 32, 'min_samples_split': 6, 'min_samples_leaf': 31, 'class_weight': 'balanced_subsample'}. Best is trial 185 with value: 0.8341865935515468.\n",
      "[I 2024-01-31 14:14:53,490] Trial 299 finished with value: 0.8107991619419856 and parameters: {'n_estimators': 27, 'max_depth': 29, 'min_samples_split': 31, 'min_samples_leaf': 30, 'class_weight': 'balanced_subsample'}. Best is trial 185 with value: 0.8341865935515468.\n",
      "[I 2024-01-31 14:14:53,501] Trial 298 finished with value: 0.82910408909972 and parameters: {'n_estimators': 33, 'max_depth': 23, 'min_samples_split': 6, 'min_samples_leaf': 30, 'class_weight': 'balanced_subsample'}. Best is trial 185 with value: 0.8341865935515468.\n",
      "[I 2024-01-31 14:14:53,502] Finished hyperparameter search!\n",
      "[I 2024-01-31 14:14:53,504] Refitting the estimator using 460 samples...\n",
      "[I 2024-01-31 14:14:53,556] Finished refitting! (elapsed time: 0.051 sec.)\n"
     ]
    },
    {
     "data": {
      "text/html": [
       "<style>#sk-container-id-1 {color: black;}#sk-container-id-1 pre{padding: 0;}#sk-container-id-1 div.sk-toggleable {background-color: white;}#sk-container-id-1 label.sk-toggleable__label {cursor: pointer;display: block;width: 100%;margin-bottom: 0;padding: 0.3em;box-sizing: border-box;text-align: center;}#sk-container-id-1 label.sk-toggleable__label-arrow:before {content: \"▸\";float: left;margin-right: 0.25em;color: #696969;}#sk-container-id-1 label.sk-toggleable__label-arrow:hover:before {color: black;}#sk-container-id-1 div.sk-estimator:hover label.sk-toggleable__label-arrow:before {color: black;}#sk-container-id-1 div.sk-toggleable__content {max-height: 0;max-width: 0;overflow: hidden;text-align: left;background-color: #f0f8ff;}#sk-container-id-1 div.sk-toggleable__content pre {margin: 0.2em;color: black;border-radius: 0.25em;background-color: #f0f8ff;}#sk-container-id-1 input.sk-toggleable__control:checked~div.sk-toggleable__content {max-height: 200px;max-width: 100%;overflow: auto;}#sk-container-id-1 input.sk-toggleable__control:checked~label.sk-toggleable__label-arrow:before {content: \"▾\";}#sk-container-id-1 div.sk-estimator input.sk-toggleable__control:checked~label.sk-toggleable__label {background-color: #d4ebff;}#sk-container-id-1 div.sk-label input.sk-toggleable__control:checked~label.sk-toggleable__label {background-color: #d4ebff;}#sk-container-id-1 input.sk-hidden--visually {border: 0;clip: rect(1px 1px 1px 1px);clip: rect(1px, 1px, 1px, 1px);height: 1px;margin: -1px;overflow: hidden;padding: 0;position: absolute;width: 1px;}#sk-container-id-1 div.sk-estimator {font-family: monospace;background-color: #f0f8ff;border: 1px dotted black;border-radius: 0.25em;box-sizing: border-box;margin-bottom: 0.5em;}#sk-container-id-1 div.sk-estimator:hover {background-color: #d4ebff;}#sk-container-id-1 div.sk-parallel-item::after {content: \"\";width: 100%;border-bottom: 1px solid gray;flex-grow: 1;}#sk-container-id-1 div.sk-label:hover label.sk-toggleable__label {background-color: #d4ebff;}#sk-container-id-1 div.sk-serial::before {content: \"\";position: absolute;border-left: 1px solid gray;box-sizing: border-box;top: 0;bottom: 0;left: 50%;z-index: 0;}#sk-container-id-1 div.sk-serial {display: flex;flex-direction: column;align-items: center;background-color: white;padding-right: 0.2em;padding-left: 0.2em;position: relative;}#sk-container-id-1 div.sk-item {position: relative;z-index: 1;}#sk-container-id-1 div.sk-parallel {display: flex;align-items: stretch;justify-content: center;background-color: white;position: relative;}#sk-container-id-1 div.sk-item::before, #sk-container-id-1 div.sk-parallel-item::before {content: \"\";position: absolute;border-left: 1px solid gray;box-sizing: border-box;top: 0;bottom: 0;left: 50%;z-index: -1;}#sk-container-id-1 div.sk-parallel-item {display: flex;flex-direction: column;z-index: 1;position: relative;background-color: white;}#sk-container-id-1 div.sk-parallel-item:first-child::after {align-self: flex-end;width: 50%;}#sk-container-id-1 div.sk-parallel-item:last-child::after {align-self: flex-start;width: 50%;}#sk-container-id-1 div.sk-parallel-item:only-child::after {width: 0;}#sk-container-id-1 div.sk-dashed-wrapped {border: 1px dashed gray;margin: 0 0.4em 0.5em 0.4em;box-sizing: border-box;padding-bottom: 0.4em;background-color: white;}#sk-container-id-1 div.sk-label label {font-family: monospace;font-weight: bold;display: inline-block;line-height: 1.2em;}#sk-container-id-1 div.sk-label-container {text-align: center;}#sk-container-id-1 div.sk-container {/* jupyter's `normalize.less` sets `[hidden] { display: none; }` but bootstrap.min.css set `[hidden] { display: none !important; }` so we also need the `!important` here to be able to override the default hidden behavior on the sphinx rendered scikit-learn.org. See: https://github.com/scikit-learn/scikit-learn/issues/21755 */display: inline-block !important;position: relative;}#sk-container-id-1 div.sk-text-repr-fallback {display: none;}</style><div id=\"sk-container-id-1\" class=\"sk-top-container\"><div class=\"sk-text-repr-fallback\"><pre>OptunaSearchCV(cv=StratifiedKFold(n_splits=5, random_state=None, shuffle=False),\n",
       "               estimator=RandomForestClassifier(), n_jobs=-1, n_trials=300,\n",
       "               param_distributions={&#x27;class_weight&#x27;: CategoricalDistribution(choices=(&#x27;balanced&#x27;, &#x27;balanced_subsample&#x27;)),\n",
       "                                    &#x27;max_depth&#x27;: IntDistribution(high=32, log=True, low=2, step=1),\n",
       "                                    &#x27;min_samples_leaf&#x27;: IntDistribution(high=64, log=True, low=2, step=1),\n",
       "                                    &#x27;min_samples_split&#x27;: IntDistribution(high=64, log=True, low=2, step=1),\n",
       "                                    &#x27;n_estimators&#x27;: IntDistribution(high=100, log=True, low=10, step=1)},\n",
       "               random_state=42, return_train_score=True, scoring=&#x27;precision&#x27;,\n",
       "               verbose=5)</pre><b>In a Jupyter environment, please rerun this cell to show the HTML representation or trust the notebook. <br />On GitHub, the HTML representation is unable to render, please try loading this page with nbviewer.org.</b></div><div class=\"sk-container\" hidden><div class=\"sk-item sk-dashed-wrapped\"><div class=\"sk-label-container\"><div class=\"sk-label sk-toggleable\"><input class=\"sk-toggleable__control sk-hidden--visually\" id=\"sk-estimator-id-1\" type=\"checkbox\" ><label for=\"sk-estimator-id-1\" class=\"sk-toggleable__label sk-toggleable__label-arrow\">OptunaSearchCV</label><div class=\"sk-toggleable__content\"><pre>OptunaSearchCV(cv=StratifiedKFold(n_splits=5, random_state=None, shuffle=False),\n",
       "               estimator=RandomForestClassifier(), n_jobs=-1, n_trials=300,\n",
       "               param_distributions={&#x27;class_weight&#x27;: CategoricalDistribution(choices=(&#x27;balanced&#x27;, &#x27;balanced_subsample&#x27;)),\n",
       "                                    &#x27;max_depth&#x27;: IntDistribution(high=32, log=True, low=2, step=1),\n",
       "                                    &#x27;min_samples_leaf&#x27;: IntDistribution(high=64, log=True, low=2, step=1),\n",
       "                                    &#x27;min_samples_split&#x27;: IntDistribution(high=64, log=True, low=2, step=1),\n",
       "                                    &#x27;n_estimators&#x27;: IntDistribution(high=100, log=True, low=10, step=1)},\n",
       "               random_state=42, return_train_score=True, scoring=&#x27;precision&#x27;,\n",
       "               verbose=5)</pre></div></div></div><div class=\"sk-parallel\"><div class=\"sk-parallel-item\"><div class=\"sk-item\"><div class=\"sk-label-container\"><div class=\"sk-label sk-toggleable\"><input class=\"sk-toggleable__control sk-hidden--visually\" id=\"sk-estimator-id-2\" type=\"checkbox\" ><label for=\"sk-estimator-id-2\" class=\"sk-toggleable__label sk-toggleable__label-arrow\">estimator: RandomForestClassifier</label><div class=\"sk-toggleable__content\"><pre>RandomForestClassifier()</pre></div></div></div><div class=\"sk-serial\"><div class=\"sk-item\"><div class=\"sk-estimator sk-toggleable\"><input class=\"sk-toggleable__control sk-hidden--visually\" id=\"sk-estimator-id-3\" type=\"checkbox\" ><label for=\"sk-estimator-id-3\" class=\"sk-toggleable__label sk-toggleable__label-arrow\">RandomForestClassifier</label><div class=\"sk-toggleable__content\"><pre>RandomForestClassifier()</pre></div></div></div></div></div></div></div></div></div></div>"
      ],
      "text/plain": [
       "OptunaSearchCV(cv=StratifiedKFold(n_splits=5, random_state=None, shuffle=False),\n",
       "               estimator=RandomForestClassifier(), n_jobs=-1, n_trials=300,\n",
       "               param_distributions={'class_weight': CategoricalDistribution(choices=('balanced', 'balanced_subsample')),\n",
       "                                    'max_depth': IntDistribution(high=32, log=True, low=2, step=1),\n",
       "                                    'min_samples_leaf': IntDistribution(high=64, log=True, low=2, step=1),\n",
       "                                    'min_samples_split': IntDistribution(high=64, log=True, low=2, step=1),\n",
       "                                    'n_estimators': IntDistribution(high=100, log=True, low=10, step=1)},\n",
       "               random_state=42, return_train_score=True, scoring='precision',\n",
       "               verbose=5)"
      ]
     },
     "execution_count": 7,
     "metadata": {},
     "output_type": "execute_result"
    }
   ],
   "source": [
    "param_distributions = {\n",
    "    \"n_estimators\": optuna.distributions.IntDistribution(10, 100, log=True, step=1),\n",
    "    \"max_depth\": optuna.distributions.IntDistribution(2, 32, log=True, step=1),\n",
    "    \"min_samples_split\": optuna.distributions.IntDistribution(2, 64, log=True, step=1),\n",
    "    \"min_samples_leaf\": optuna.distributions.IntDistribution(2, 64, log=True, step=1),\n",
    "    \"class_weight\": optuna.distributions.CategoricalDistribution([\"balanced\", 'balanced_subsample'])\n",
    "}\n",
    "optuna_search = optuna.integration.OptunaSearchCV(\n",
    "    RandomForestClassifier(), \n",
    "    param_distributions, \n",
    "    cv=StratifiedKFold(n_splits=5),\n",
    "    enable_pruning=False,\n",
    "    refit=True,\n",
    "    verbose=5,\n",
    "    return_train_score=True,\n",
    "    scoring='precision',\n",
    "    n_trials=300,\n",
    "    n_jobs=-1,\n",
    "    random_state=42,\n",
    ")\n",
    "optuna_search.fit(X_train, y_train)"
   ]
  },
  {
   "cell_type": "code",
   "execution_count": 8,
   "id": "e28d6bba-d5b0-44f5-ac3e-be827f8a1831",
   "metadata": {
    "tags": []
   },
   "outputs": [
    {
     "data": {
      "text/plain": [
       "{'n_estimators': 28,\n",
       " 'max_depth': 27,\n",
       " 'min_samples_split': 9,\n",
       " 'min_samples_leaf': 40,\n",
       " 'class_weight': 'balanced'}"
      ]
     },
     "execution_count": 8,
     "metadata": {},
     "output_type": "execute_result"
    }
   ],
   "source": [
    "optuna_search.best_params_"
   ]
  },
  {
   "cell_type": "code",
   "execution_count": 10,
   "id": "f9bac789-b6b7-49af-b88e-78c17964d461",
   "metadata": {
    "tags": []
   },
   "outputs": [],
   "source": [
    "y_pred = optuna_search.predict(X_test)"
   ]
  },
  {
   "cell_type": "code",
   "execution_count": 11,
   "id": "6e6cbc10-ee84-4ba0-bad6-de48c3d915c5",
   "metadata": {
    "tags": []
   },
   "outputs": [],
   "source": [
    "y_pred_proba = optuna_search.predict_proba(X_test)"
   ]
  },
  {
   "cell_type": "code",
   "execution_count": 12,
   "id": "47db391c-0ec1-4102-bf9b-3a9ede494592",
   "metadata": {
    "tags": []
   },
   "outputs": [
    {
     "data": {
      "text/plain": [
       "0.7625925925925926"
      ]
     },
     "execution_count": 12,
     "metadata": {},
     "output_type": "execute_result"
    }
   ],
   "source": [
    "roc_auc_score(y_test, y_pred_proba[:, 1])"
   ]
  },
  {
   "cell_type": "code",
   "execution_count": 14,
   "id": "3af73c34-2cb8-4e1b-a6cb-4955cd7e483b",
   "metadata": {
    "tags": []
   },
   "outputs": [],
   "source": [
    "fpr, tpr, thresholds = roc_curve(y_test, y_pred_proba[:, 1])\n",
    "#tpr = recall = sensitivity"
   ]
  },
  {
   "cell_type": "code",
   "execution_count": 15,
   "id": "aecf21bd-bdc8-4817-9bac-1b025de9f8e5",
   "metadata": {
    "tags": []
   },
   "outputs": [
    {
     "data": {
      "text/plain": [
       "<sklearn.metrics._plot.roc_curve.RocCurveDisplay at 0x7f0c29d1b010>"
      ]
     },
     "execution_count": 15,
     "metadata": {},
     "output_type": "execute_result"
    },
    {
     "data": {
      "image/png": "[encoded data removed]",
      "text/plain": [
       "<Figure size 640x480 with 1 Axes>"
      ]
     },
     "metadata": {},
     "output_type": "display_data"
    }
   ],
   "source": [
    "roc_auc = auc(fpr, tpr)\n",
    "display = RocCurveDisplay(fpr=fpr, tpr=tpr, roc_auc=roc_auc, estimator_name='RandomForestClassifier')\n",
    "display.plot()"
   ]
  },
  {
   "cell_type": "code",
   "execution_count": 16,
   "id": "c4b439eb-8346-4971-9b26-966bb0e7589f",
   "metadata": {},
   "outputs": [],
   "source": [
    "# MEN Train"
   ]
  },
  {
   "cell_type": "code",
   "execution_count": 17,
   "id": "00bb1f01-debb-4a22-8b57-8fc15e993951",
   "metadata": {},
   "outputs": [],
   "source": [
    "all_data_men_train = X_train\n",
    "all_data_men_train[\"Paidback\"] = y_train\n",
    "X_men_train=all_data_men_train[all_data_men_train.Gender == 1]\n",
    "y_men_train=X_men_train.Paidback\n",
    "X_men_train = X_men_train.drop(columns=[\"Paidback\"])"
   ]
  },
  {
   "cell_type": "code",
   "execution_count": 18,
   "id": "b8bb0189-285e-4dad-8bd4-cf2ed285f307",
   "metadata": {
    "tags": []
   },
   "outputs": [
    {
     "data": {
      "text/plain": [
       "<sklearn.metrics._plot.roc_curve.RocCurveDisplay at 0x7f0c31103b80>"
      ]
     },
     "execution_count": 18,
     "metadata": {},
     "output_type": "execute_result"
    },
    {
     "data": {
      "image/png": "[encoded data removed]",
      "text/plain": [
       "<Figure size 640x480 with 1 Axes>"
      ]
     },
     "metadata": {},
     "output_type": "display_data"
    }
   ],
   "source": [
    "y_pred_proba_men_train = optuna_search.predict_proba(X_men_train)\n",
    "roc_auc_score(y_men_train, y_pred_proba_men_train[:, 1])\n",
    "fpr_men_train, tpr_men_train, thresholds_men_train = roc_curve(y_men_train, y_pred_proba_men_train[:, 1])\n",
    "roc_auc_men_train = auc(fpr_men_train, tpr_men_train)\n",
    "#print(thresholds_men_train[np.argmax(tpr_men_train - tpr_women_train)])\n",
    "display_men_train = RocCurveDisplay(fpr=fpr_men_train, tpr=tpr_men_train, roc_auc=roc_auc_men_train, estimator_name='RandomForestClassifier')\n",
    "display_men_train.plot(marker='.', color=\"darkgreen\")"
   ]
  },
  {
   "cell_type": "code",
   "execution_count": 19,
   "id": "0f76083a-dbef-40eb-8dbb-b58bbd2503f4",
   "metadata": {},
   "outputs": [],
   "source": [
    "# MEN Test"
   ]
  },
  {
   "cell_type": "code",
   "execution_count": 20,
   "id": "8fef8a91-b480-493c-a55a-8cf92c7dd327",
   "metadata": {},
   "outputs": [],
   "source": [
    "all_data_men_test = X_test\n",
    "all_data_men_test[\"Paidback\"] = y_test\n",
    "X_men_test=all_data_men_test[all_data_men_test.Gender == 1]\n",
    "y_men_test=X_men_test.Paidback\n",
    "X_men_test = X_men_test.drop(columns=[\"Paidback\"])"
   ]
  },
  {
   "cell_type": "code",
   "execution_count": 21,
   "id": "51aeff2c-0a99-4e31-bbe6-b9e7f5e9129a",
   "metadata": {},
   "outputs": [
    {
     "data": {
      "text/plain": [
       "<sklearn.metrics._plot.roc_curve.RocCurveDisplay at 0x7f0c29dcebf0>"
      ]
     },
     "execution_count": 21,
     "metadata": {},
     "output_type": "execute_result"
    },
    {
     "data": {
      "image/png": "[encoded data removed]",
      "text/plain": [
       "<Figure size 640x480 with 1 Axes>"
      ]
     },
     "metadata": {},
     "output_type": "display_data"
    }
   ],
   "source": [
    "y_pred_proba_men_test = optuna_search.predict_proba(X_men_test)\n",
    "roc_auc_score(y_men_test, y_pred_proba_men_test[:, 1])\n",
    "fpr_men_test, tpr_men_test, thresholds_men_test = roc_curve(y_men_test, y_pred_proba_men_test[:, 1])\n",
    "roc_auc_men_test = auc(fpr_men_test, tpr_men_test)\n",
    "display_men_test = RocCurveDisplay(fpr=fpr_men_test, tpr=tpr_men_test, roc_auc=roc_auc_men_test, estimator_name='RandomForestClassifier')\n",
    "display_men_test.plot(marker='.', color=\"darkcyan\")"
   ]
  },
  {
   "cell_type": "code",
   "execution_count": 22,
   "id": "a1642760-ce33-48ad-b824-cd16b8507b7c",
   "metadata": {
    "tags": []
   },
   "outputs": [],
   "source": [
    "# Women Train"
   ]
  },
  {
   "cell_type": "code",
   "execution_count": 23,
   "id": "f5221d4f-0e5c-4809-82aa-e2465ea498e5",
   "metadata": {},
   "outputs": [],
   "source": [
    "all_data_women_train = X_train\n",
    "all_data_women_train[\"Paidback\"] = y_train\n",
    "X_women_train=all_data_women_train[all_data_women_train.Gender == 0]\n",
    "y_women_train=X_women_train.Paidback\n",
    "X_women_train = X_women_train.drop(columns=[\"Paidback\"])"
   ]
  },
  {
   "cell_type": "code",
   "execution_count": 24,
   "id": "3ea1e6c6-1f13-4791-b0f0-119d087f39ae",
   "metadata": {},
   "outputs": [
    {
     "data": {
      "text/plain": [
       "<sklearn.metrics._plot.roc_curve.RocCurveDisplay at 0x7f0c29fdd5d0>"
      ]
     },
     "execution_count": 24,
     "metadata": {},
     "output_type": "execute_result"
    },
    {
     "data": {
      "image/png": "[encoded data removed]",
      "text/plain": [
       "<Figure size 640x480 with 1 Axes>"
      ]
     },
     "metadata": {},
     "output_type": "display_data"
    }
   ],
   "source": [
    "y_pred_proba_women_train = optuna_search.predict_proba(X_women_train)\n",
    "roc_auc_score(y_women_train, y_pred_proba_women_train[:, 1])\n",
    "fpr_women_train, tpr_women_train, thresholds_women_train = roc_curve(y_women_train, y_pred_proba_women_train[:, 1])\n",
    "roc_auc_women_train = auc(fpr_women_train, tpr_women_train)\n",
    "display_women_train = RocCurveDisplay(fpr=fpr_women_train, tpr=tpr_women_train, roc_auc=roc_auc_women_train, estimator_name='RandomForestClassifier')\n",
    "display_women_train.plot(marker='.', color='darkred')"
   ]
  },
  {
   "cell_type": "code",
   "execution_count": 25,
   "id": "af1bc39a-e4ae-4008-b8ff-7f8ef998d391",
   "metadata": {},
   "outputs": [],
   "source": [
    "# Women Test"
   ]
  },
  {
   "cell_type": "code",
   "execution_count": 26,
   "id": "5aae3154-c401-41a1-a391-d3c42d167317",
   "metadata": {},
   "outputs": [],
   "source": [
    "all_data_women_test = X_test\n",
    "all_data_women_test[\"Paidback\"] = y_test\n",
    "X_women_test=all_data_women_test[all_data_women_test.Gender == 0]\n",
    "y_women_test=X_women_test.Paidback\n",
    "X_women_test = X_women_test.drop(columns=[\"Paidback\"])"
   ]
  },
  {
   "cell_type": "code",
   "execution_count": 27,
   "id": "0b53f572-02f4-421d-b3ae-836e62def497",
   "metadata": {
    "tags": []
   },
   "outputs": [
    {
     "data": {
      "text/plain": [
       "<sklearn.metrics._plot.roc_curve.RocCurveDisplay at 0x7f0c2be9f280>"
      ]
     },
     "execution_count": 27,
     "metadata": {},
     "output_type": "execute_result"
    },
    {
     "data": {
      "image/png": "[encoded data removed]",
      "text/plain": [
       "<Figure size 640x480 with 1 Axes>"
      ]
     },
     "metadata": {},
     "output_type": "display_data"
    }
   ],
   "source": [
    "y_pred_proba_women_test = optuna_search.predict_proba(X_women_test)\n",
    "roc_auc_score(y_women_test, y_pred_proba_women_test[:, 1])\n",
    "fpr_women_test, tpr_women_test, thresholds_women_test = roc_curve(y_women_test, y_pred_proba_women_test[:, 1])\n",
    "roc_auc_women_test = auc(fpr_women_test, tpr_women_test)\n",
    "display_women_test = RocCurveDisplay(fpr=fpr_women_test, tpr=tpr_women_test, roc_auc=roc_auc_women_test, estimator_name='RandomForestClassifier')\n",
    "display_women_test.plot(marker='.', color='darkblue')"
   ]
  },
  {
   "cell_type": "code",
   "execution_count": 28,
   "id": "10d4e59e-b15a-443f-a372-3938bed82e59",
   "metadata": {
    "tags": []
   },
   "outputs": [
    {
     "data": {
      "image/png": "[encoded data removed]",
      "text/plain": [
       "<Figure size 640x480 with 1 Axes>"
      ]
     },
     "metadata": {},
     "output_type": "display_data"
    }
   ],
   "source": [
    "import matplotlib.pyplot as plt\n",
    "plt.plot(fpr_men_test, tpr_men_test, label= \"Men\")\n",
    "plt.plot(fpr_women_test, tpr_women_test, label= \"Women\")\n",
    "plt.legend()\n",
    "plt.xlabel(\"FPR\")\n",
    "plt.ylabel(\"TPR\")\n",
    "plt.title('Receiver Operating Characteristic')\n",
    "plt.show()"
   ]
  },
  {
   "cell_type": "code",
   "execution_count": 29,
   "id": "e62c74aa-3f73-4df8-b8d9-318a31ff3ccc",
   "metadata": {
    "tags": []
   },
   "outputs": [],
   "source": [
    "women=pd.DataFrame(data=y_pred_proba_women_test, columns=[\"no_payback\", \"payback\"])\n",
    "women[\"real_values\"]=y_women_test.reset_index().Paidback\n",
    "women = women.sort_values(by=\"payback\", ascending=False)"
   ]
  },
  {
   "cell_type": "code",
   "execution_count": 30,
   "id": "a7c18080-d594-4d18-a758-4e7913a11a67",
   "metadata": {
    "tags": []
   },
   "outputs": [],
   "source": [
    "men=pd.DataFrame(data=y_pred_proba_men_test, columns=[\"no_payback\", \"payback\"])\n",
    "men[\"real_values\"]=y_men_test.reset_index().Paidback\n",
    "men = men.sort_values(by=\"payback\", ascending=False)"
   ]
  },
  {
   "cell_type": "code",
   "execution_count": 31,
   "id": "235af41d-71ca-4022-a836-7260f07653bc",
   "metadata": {
    "tags": []
   },
   "outputs": [
    {
     "name": "stderr",
     "output_type": "stream",
     "text": [
      "[I 2024-01-31 14:14:55,918] A new study created in RDB with name: equality_new\n"
     ]
    }
   ],
   "source": [
    "study_name = \"equality_new\"  # Unique identifier of the study.\n",
    "storage_name = \"sqlite:///equality_new.db\"\n",
    "study = optuna.create_study(study_name=study_name, storage=storage_name, load_if_exists=True, direction=\"minimize\")"
   ]
  },
  {
   "cell_type": "code",
   "execution_count": 32,
   "id": "46d65681-03a0-4179-82b7-01a2b0a05cd4",
   "metadata": {
    "tags": []
   },
   "outputs": [
    {
     "name": "stderr",
     "output_type": "stream",
     "text": [
      "[I 2024-01-31 14:14:56,019] Trial 0 pruned. \n",
      "[I 2024-01-31 14:14:56,133] Trial 1 finished with value: 0.3100840336134453 and parameters: {'threshold_men': 0.46, 'threshold_women': 0.5}. Best is trial 1 with value: 0.3100840336134453.\n",
      "[I 2024-01-31 14:14:56,236] Trial 2 finished with value: 0.27815126050420175 and parameters: {'threshold_men': 0.5800000000000001, 'threshold_women': 0.5}. Best is trial 2 with value: 0.27815126050420175.\n"
     ]
    },
    {
     "name": "stdout",
     "output_type": "stream",
     "text": [
      "tpr_women:  0.6428571428571429\n",
      "tpr_men:  0.9529411764705882\n",
      "tpr_women:  0.6428571428571429\n",
      "tpr_men:  0.36470588235294116\n"
     ]
    },
    {
     "name": "stderr",
     "output_type": "stream",
     "text": [
      "[I 2024-01-31 14:14:56,298] Trial 3 pruned. \n",
      "[I 2024-01-31 14:14:56,361] Trial 4 pruned. \n",
      "[I 2024-01-31 14:14:56,423] Trial 5 pruned. \n",
      "[I 2024-01-31 14:14:56,489] Trial 6 pruned. \n",
      "[I 2024-01-31 14:14:56,593] Trial 7 finished with value: 0.4050420168067227 and parameters: {'threshold_men': 0.45, 'threshold_women': 0.51}. Best is trial 2 with value: 0.27815126050420175.\n",
      "[I 2024-01-31 14:14:56,654] Trial 8 pruned. \n"
     ]
    },
    {
     "name": "stdout",
     "output_type": "stream",
     "text": [
      "tpr_women:  0.5714285714285714\n",
      "tpr_men:  0.9764705882352941\n",
      "tpr_women:  0.5714285714285714\n",
      "tpr_men:  0.9764705882352941\n"
     ]
    },
    {
     "name": "stderr",
     "output_type": "stream",
     "text": [
      "[I 2024-01-31 14:14:56,755] Trial 9 finished with value: 0.4050420168067227 and parameters: {'threshold_men': 0.45, 'threshold_women': 0.51}. Best is trial 2 with value: 0.27815126050420175.\n",
      "[I 2024-01-31 14:14:56,835] Trial 10 pruned. \n",
      "[I 2024-01-31 14:14:56,956] Trial 11 finished with value: 0.1739495798319327 and parameters: {'threshold_men': 0.54, 'threshold_women': 0.49}. Best is trial 11 with value: 0.1739495798319327.\n",
      "[I 2024-01-31 14:14:57,077] Trial 12 finished with value: 0.38739495798319334 and parameters: {'threshold_men': 0.55, 'threshold_women': 0.47000000000000003}. Best is trial 11 with value: 0.1739495798319327.\n"
     ]
    },
    {
     "name": "stdout",
     "output_type": "stream",
     "text": [
      "tpr_women:  0.7857142857142857\n",
      "tpr_men:  0.611764705882353\n",
      "tpr_women:  0.9285714285714286\n",
      "tpr_men:  0.5411764705882353\n"
     ]
    },
    {
     "name": "stderr",
     "output_type": "stream",
     "text": [
      "[I 2024-01-31 14:14:57,159] Trial 13 pruned. \n",
      "[I 2024-01-31 14:14:57,237] Trial 14 pruned. \n",
      "[I 2024-01-31 14:14:57,361] Trial 15 finished with value: 0.22941176470588232 and parameters: {'threshold_men': 0.52, 'threshold_women': 0.53}. Best is trial 11 with value: 0.1739495798319327.\n",
      "[I 2024-01-31 14:14:57,441] Trial 16 pruned. \n"
     ]
    },
    {
     "name": "stdout",
     "output_type": "stream",
     "text": [
      "tpr_women:  0.5\n",
      "tpr_men:  0.7294117647058823\n"
     ]
    },
    {
     "name": "stderr",
     "output_type": "stream",
     "text": [
      "[I 2024-01-31 14:14:57,564] Trial 17 finished with value: 0.3831932773109244 and parameters: {'threshold_men': 0.51, 'threshold_women': 0.54}. Best is trial 11 with value: 0.1739495798319327.\n",
      "[I 2024-01-31 14:14:57,642] Trial 18 pruned. \n"
     ]
    },
    {
     "name": "stdout",
     "output_type": "stream",
     "text": [
      "tpr_women:  0.42857142857142855\n",
      "tpr_men:  0.8117647058823529\n"
     ]
    },
    {
     "name": "stderr",
     "output_type": "stream",
     "text": [
      "[I 2024-01-31 14:14:57,722] Trial 19 pruned. \n",
      "[I 2024-01-31 14:14:57,843] Trial 20 finished with value: 0.5596638655462185 and parameters: {'threshold_men': 0.4, 'threshold_women': 0.54}. Best is trial 11 with value: 0.1739495798319327.\n",
      "[I 2024-01-31 14:14:57,962] Trial 21 finished with value: 0.42100840336134454 and parameters: {'threshold_men': 0.5800000000000001, 'threshold_women': 0.49}. Best is trial 11 with value: 0.1739495798319327.\n"
     ]
    },
    {
     "name": "stdout",
     "output_type": "stream",
     "text": [
      "tpr_women:  0.42857142857142855\n",
      "tpr_men:  0.9882352941176471\n",
      "tpr_women:  0.7857142857142857\n",
      "tpr_men:  0.36470588235294116\n"
     ]
    },
    {
     "name": "stderr",
     "output_type": "stream",
     "text": [
      "[I 2024-01-31 14:14:58,080] Trial 22 finished with value: 0.22941176470588237 and parameters: {'threshold_men': 0.6000000000000001, 'threshold_women': 0.53}. Best is trial 11 with value: 0.1739495798319327.\n",
      "[I 2024-01-31 14:14:58,161] Trial 23 pruned. \n"
     ]
    },
    {
     "name": "stdout",
     "output_type": "stream",
     "text": [
      "tpr_women:  0.5\n",
      "tpr_men:  0.27058823529411763\n",
      "tpr_women:  0.35714285714285715\n",
      "tpr_men:  0.7058823529411765\n"
     ]
    },
    {
     "name": "stderr",
     "output_type": "stream",
     "text": [
      "[I 2024-01-31 14:14:58,291] Trial 24 finished with value: 0.34873949579831937 and parameters: {'threshold_men': 0.53, 'threshold_women': 0.56}. Best is trial 11 with value: 0.1739495798319327.\n",
      "[I 2024-01-31 14:14:58,379] Trial 25 pruned. \n",
      "[I 2024-01-31 14:14:58,464] Trial 26 pruned. \n",
      "[I 2024-01-31 14:14:58,596] Trial 27 finished with value: 0.04117647058823526 and parameters: {'threshold_men': 0.55, 'threshold_women': 0.53}. Best is trial 27 with value: 0.04117647058823526.\n",
      "[I 2024-01-31 14:14:58,682] Trial 28 pruned. \n"
     ]
    },
    {
     "name": "stdout",
     "output_type": "stream",
     "text": [
      "tpr_women:  0.5\n",
      "tpr_men:  0.5411764705882353\n"
     ]
    },
    {
     "name": "stderr",
     "output_type": "stream",
     "text": [
      "[I 2024-01-31 14:14:58,806] Trial 29 finished with value: 0.03445378151260503 and parameters: {'threshold_men': 0.48000000000000004, 'threshold_women': 0.48000000000000004}. Best is trial 29 with value: 0.03445378151260503.\n",
      "[I 2024-01-31 14:14:58,888] Trial 30 pruned. \n"
     ]
    },
    {
     "name": "stdout",
     "output_type": "stream",
     "text": [
      "tpr_women:  0.9285714285714286\n",
      "tpr_men:  0.8941176470588236\n"
     ]
    },
    {
     "name": "stderr",
     "output_type": "stream",
     "text": [
      "[I 2024-01-31 14:14:59,013] Trial 31 finished with value: 0.2226890756302521 and parameters: {'threshold_men': 0.53, 'threshold_women': 0.48000000000000004}. Best is trial 29 with value: 0.03445378151260503.\n",
      "[I 2024-01-31 14:14:59,138] Trial 32 finished with value: 0.07983193277310918 and parameters: {'threshold_men': 0.53, 'threshold_women': 0.49}. Best is trial 29 with value: 0.03445378151260503.\n"
     ]
    },
    {
     "name": "stdout",
     "output_type": "stream",
     "text": [
      "tpr_women:  0.9285714285714286\n",
      "tpr_men:  0.7058823529411765\n",
      "tpr_women:  0.7857142857142857\n",
      "tpr_men:  0.7058823529411765\n"
     ]
    },
    {
     "name": "stderr",
     "output_type": "stream",
     "text": [
      "[I 2024-01-31 14:14:59,265] Trial 33 finished with value: 0.3815126050420168 and parameters: {'threshold_men': 0.47000000000000003, 'threshold_women': 0.51}. Best is trial 29 with value: 0.03445378151260503.\n",
      "[I 2024-01-31 14:14:59,387] Trial 34 finished with value: 0.3033613445378151 and parameters: {'threshold_men': 0.56, 'threshold_women': 0.49}. Best is trial 29 with value: 0.03445378151260503.\n"
     ]
    },
    {
     "name": "stdout",
     "output_type": "stream",
     "text": [
      "tpr_women:  0.5714285714285714\n",
      "tpr_men:  0.9529411764705882\n",
      "tpr_women:  0.7857142857142857\n",
      "tpr_men:  0.4823529411764706\n"
     ]
    },
    {
     "name": "stderr",
     "output_type": "stream",
     "text": [
      "[I 2024-01-31 14:14:59,471] Trial 35 pruned. \n",
      "[I 2024-01-31 14:14:59,592] Trial 36 finished with value: 0.3168067226890756 and parameters: {'threshold_men': 0.54, 'threshold_women': 0.48000000000000004}. Best is trial 29 with value: 0.03445378151260503.\n",
      "[I 2024-01-31 14:14:59,719] Trial 37 finished with value: 0.20420168067226885 and parameters: {'threshold_men': 0.5, 'threshold_women': 0.5}. Best is trial 29 with value: 0.03445378151260503.\n"
     ]
    },
    {
     "name": "stdout",
     "output_type": "stream",
     "text": [
      "tpr_women:  0.9285714285714286\n",
      "tpr_men:  0.611764705882353\n",
      "tpr_women:  0.6428571428571429\n",
      "tpr_men:  0.8470588235294118\n"
     ]
    },
    {
     "name": "stderr",
     "output_type": "stream",
     "text": [
      "[I 2024-01-31 14:14:59,806] Trial 38 pruned. \n",
      "[I 2024-01-31 14:14:59,931] Trial 39 finished with value: 0.28739495798319326 and parameters: {'threshold_men': 0.49, 'threshold_women': 0.52}. Best is trial 29 with value: 0.03445378151260503.\n",
      "[I 2024-01-31 14:15:00,023] Trial 40 pruned. \n"
     ]
    },
    {
     "name": "stdout",
     "output_type": "stream",
     "text": [
      "tpr_women:  0.5714285714285714\n",
      "tpr_men:  0.8588235294117647\n"
     ]
    },
    {
     "name": "stderr",
     "output_type": "stream",
     "text": [
      "[I 2024-01-31 14:15:00,148] Trial 41 finished with value: 0.20420168067226885 and parameters: {'threshold_men': 0.5, 'threshold_women': 0.5}. Best is trial 29 with value: 0.03445378151260503.\n",
      "[I 2024-01-31 14:15:00,272] Trial 42 finished with value: 0.16722689075630248 and parameters: {'threshold_men': 0.47000000000000003, 'threshold_women': 0.49}. Best is trial 29 with value: 0.03445378151260503.\n"
     ]
    },
    {
     "name": "stdout",
     "output_type": "stream",
     "text": [
      "tpr_women:  0.6428571428571429\n",
      "tpr_men:  0.8470588235294118\n",
      "tpr_women:  0.7857142857142857\n",
      "tpr_men:  0.9529411764705882\n"
     ]
    },
    {
     "name": "stderr",
     "output_type": "stream",
     "text": [
      "[I 2024-01-31 14:15:00,402] Trial 43 finished with value: 0.04789915966386549 and parameters: {'threshold_men': 0.44, 'threshold_women': 0.48000000000000004}. Best is trial 29 with value: 0.03445378151260503.\n",
      "[I 2024-01-31 14:15:00,530] Trial 44 finished with value: 0.04789915966386549 and parameters: {'threshold_men': 0.44, 'threshold_women': 0.47000000000000003}. Best is trial 29 with value: 0.03445378151260503.\n"
     ]
    },
    {
     "name": "stdout",
     "output_type": "stream",
     "text": [
      "tpr_women:  0.9285714285714286\n",
      "tpr_men:  0.9764705882352941\n",
      "tpr_women:  0.9285714285714286\n",
      "tpr_men:  0.9764705882352941\n"
     ]
    },
    {
     "name": "stderr",
     "output_type": "stream",
     "text": [
      "[I 2024-01-31 14:15:00,659] Trial 45 finished with value: 0.04789915966386549 and parameters: {'threshold_men': 0.44, 'threshold_women': 0.47000000000000003}. Best is trial 29 with value: 0.03445378151260503.\n",
      "[I 2024-01-31 14:15:00,741] Trial 46 pruned. \n"
     ]
    },
    {
     "name": "stdout",
     "output_type": "stream",
     "text": [
      "tpr_women:  0.9285714285714286\n",
      "tpr_men:  0.9764705882352941\n"
     ]
    },
    {
     "name": "stderr",
     "output_type": "stream",
     "text": [
      "[I 2024-01-31 14:15:00,862] Trial 47 finished with value: 0.04789915966386549 and parameters: {'threshold_men': 0.45, 'threshold_women': 0.47000000000000003}. Best is trial 29 with value: 0.03445378151260503.\n",
      "[I 2024-01-31 14:15:00,939] Trial 48 pruned. \n"
     ]
    },
    {
     "name": "stdout",
     "output_type": "stream",
     "text": [
      "tpr_women:  0.9285714285714286\n",
      "tpr_men:  0.9764705882352941\n"
     ]
    },
    {
     "name": "stderr",
     "output_type": "stream",
     "text": [
      "[I 2024-01-31 14:15:01,018] Trial 49 pruned. \n",
      "[I 2024-01-31 14:15:01,136] Trial 50 finished with value: 0.024369747899159577 and parameters: {'threshold_men': 0.46, 'threshold_women': 0.47000000000000003}. Best is trial 50 with value: 0.024369747899159577.\n",
      "[I 2024-01-31 14:15:01,257] Trial 51 finished with value: 0.024369747899159577 and parameters: {'threshold_men': 0.46, 'threshold_women': 0.47000000000000003}. Best is trial 50 with value: 0.024369747899159577.\n"
     ]
    },
    {
     "name": "stdout",
     "output_type": "stream",
     "text": [
      "tpr_women:  0.9285714285714286\n",
      "tpr_men:  0.9529411764705882\n",
      "tpr_women:  0.9285714285714286\n",
      "tpr_men:  0.9529411764705882\n"
     ]
    },
    {
     "name": "stderr",
     "output_type": "stream",
     "text": [
      "[I 2024-01-31 14:15:01,338] Trial 52 pruned. \n",
      "[I 2024-01-31 14:15:01,463] Trial 53 finished with value: 0.3815126050420168 and parameters: {'threshold_men': 0.47000000000000003, 'threshold_women': 0.51}. Best is trial 50 with value: 0.024369747899159577.\n",
      "[I 2024-01-31 14:15:01,548] Trial 54 pruned. \n"
     ]
    },
    {
     "name": "stdout",
     "output_type": "stream",
     "text": [
      "tpr_women:  0.5714285714285714\n",
      "tpr_men:  0.9529411764705882\n"
     ]
    },
    {
     "name": "stderr",
     "output_type": "stream",
     "text": [
      "[I 2024-01-31 14:15:01,692] Trial 55 finished with value: 0.04789915966386549 and parameters: {'threshold_men': 0.45, 'threshold_women': 0.47000000000000003}. Best is trial 50 with value: 0.024369747899159577.\n",
      "[I 2024-01-31 14:15:01,783] Trial 56 pruned. \n"
     ]
    },
    {
     "name": "stdout",
     "output_type": "stream",
     "text": [
      "tpr_women:  0.9285714285714286\n",
      "tpr_men:  0.9764705882352941\n"
     ]
    },
    {
     "name": "stderr",
     "output_type": "stream",
     "text": [
      "[I 2024-01-31 14:15:01,923] Trial 57 finished with value: 0.4168067226890757 and parameters: {'threshold_men': 0.41000000000000003, 'threshold_women': 0.52}. Best is trial 50 with value: 0.024369747899159577.\n",
      "[I 2024-01-31 14:15:02,007] Trial 58 pruned. \n"
     ]
    },
    {
     "name": "stdout",
     "output_type": "stream",
     "text": [
      "tpr_women:  0.5714285714285714\n",
      "tpr_men:  0.9882352941176471\n"
     ]
    },
    {
     "name": "stderr",
     "output_type": "stream",
     "text": [
      "[I 2024-01-31 14:15:02,134] Trial 59 finished with value: 0.5369747899159665 and parameters: {'threshold_men': 0.48000000000000004, 'threshold_women': 0.56}. Best is trial 50 with value: 0.024369747899159577.\n",
      "[I 2024-01-31 14:15:02,219] Trial 60 pruned. \n"
     ]
    },
    {
     "name": "stdout",
     "output_type": "stream",
     "text": [
      "tpr_women:  0.35714285714285715\n",
      "tpr_men:  0.8941176470588236\n"
     ]
    },
    {
     "name": "stderr",
     "output_type": "stream",
     "text": [
      "[I 2024-01-31 14:15:02,347] Trial 61 finished with value: 0.04789915966386549 and parameters: {'threshold_men': 0.43000000000000005, 'threshold_women': 0.47000000000000003}. Best is trial 50 with value: 0.024369747899159577.\n",
      "[I 2024-01-31 14:15:02,436] Trial 62 pruned. \n"
     ]
    },
    {
     "name": "stdout",
     "output_type": "stream",
     "text": [
      "tpr_women:  0.9285714285714286\n",
      "tpr_men:  0.9764705882352941\n"
     ]
    },
    {
     "name": "stderr",
     "output_type": "stream",
     "text": [
      "[I 2024-01-31 14:15:02,526] Trial 63 pruned. \n",
      "[I 2024-01-31 14:15:02,660] Trial 64 finished with value: 0.03445378151260503 and parameters: {'threshold_men': 0.48000000000000004, 'threshold_women': 0.48000000000000004}. Best is trial 50 with value: 0.024369747899159577.\n",
      "[I 2024-01-31 14:15:02,748] Trial 65 pruned. \n"
     ]
    },
    {
     "name": "stdout",
     "output_type": "stream",
     "text": [
      "tpr_women:  0.9285714285714286\n",
      "tpr_men:  0.8941176470588236\n"
     ]
    },
    {
     "name": "stderr",
     "output_type": "stream",
     "text": [
      "[I 2024-01-31 14:15:02,885] Trial 66 finished with value: 0.08151260504201685 and parameters: {'threshold_men': 0.5, 'threshold_women': 0.48000000000000004}. Best is trial 50 with value: 0.024369747899159577.\n",
      "[I 2024-01-31 14:15:03,016] Trial 67 finished with value: 0.3100840336134453 and parameters: {'threshold_men': 0.46, 'threshold_women': 0.5}. Best is trial 50 with value: 0.024369747899159577.\n"
     ]
    },
    {
     "name": "stdout",
     "output_type": "stream",
     "text": [
      "tpr_women:  0.9285714285714286\n",
      "tpr_men:  0.8470588235294118\n",
      "tpr_women:  0.6428571428571429\n",
      "tpr_men:  0.9529411764705882\n"
     ]
    },
    {
     "name": "stderr",
     "output_type": "stream",
     "text": [
      "[I 2024-01-31 14:15:03,159] Trial 68 finished with value: 0.3831932773109244 and parameters: {'threshold_men': 0.51, 'threshold_women': 0.54}. Best is trial 50 with value: 0.024369747899159577.\n"
     ]
    },
    {
     "name": "stdout",
     "output_type": "stream",
     "text": [
      "tpr_women:  0.42857142857142855\n",
      "tpr_men:  0.8117647058823529\n",
      "tpr_women:  0.5714285714285714\n",
      "tpr_men:  0.9529411764705882\n"
     ]
    },
    {
     "name": "stderr",
     "output_type": "stream",
     "text": [
      "[I 2024-01-31 14:15:03,305] Trial 69 finished with value: 0.3815126050420168 and parameters: {'threshold_men': 0.47000000000000003, 'threshold_women': 0.52}. Best is trial 50 with value: 0.024369747899159577.\n",
      "[I 2024-01-31 14:15:03,402] Trial 70 pruned. \n",
      "[I 2024-01-31 14:15:03,523] Trial 71 finished with value: 0.04789915966386549 and parameters: {'threshold_men': 0.42000000000000004, 'threshold_women': 0.48000000000000004}. Best is trial 50 with value: 0.024369747899159577.\n",
      "[I 2024-01-31 14:15:03,645] Trial 72 finished with value: 0.04789915966386549 and parameters: {'threshold_men': 0.44, 'threshold_women': 0.47000000000000003}. Best is trial 50 with value: 0.024369747899159577.\n"
     ]
    },
    {
     "name": "stdout",
     "output_type": "stream",
     "text": [
      "tpr_women:  0.9285714285714286\n",
      "tpr_men:  0.9764705882352941\n",
      "tpr_women:  0.9285714285714286\n",
      "tpr_men:  0.9764705882352941\n"
     ]
    },
    {
     "name": "stderr",
     "output_type": "stream",
     "text": [
      "[I 2024-01-31 14:15:03,729] Trial 73 pruned. \n",
      "[I 2024-01-31 14:15:03,854] Trial 74 finished with value: 0.3100840336134453 and parameters: {'threshold_men': 0.46, 'threshold_women': 0.5}. Best is trial 50 with value: 0.024369747899159577.\n",
      "[I 2024-01-31 14:15:03,978] Trial 75 finished with value: 0.07310924369747895 and parameters: {'threshold_men': 0.49, 'threshold_women': 0.49}. Best is trial 50 with value: 0.024369747899159577.\n"
     ]
    },
    {
     "name": "stdout",
     "output_type": "stream",
     "text": [
      "tpr_women:  0.6428571428571429\n",
      "tpr_men:  0.9529411764705882\n",
      "tpr_women:  0.7857142857142857\n",
      "tpr_men:  0.8588235294117647\n"
     ]
    },
    {
     "name": "stderr",
     "output_type": "stream",
     "text": [
      "[I 2024-01-31 14:15:04,070] Trial 76 pruned. \n",
      "[I 2024-01-31 14:15:04,161] Trial 77 pruned. \n",
      "[I 2024-01-31 14:15:04,244] Trial 78 pruned. \n",
      "[I 2024-01-31 14:15:04,373] Trial 79 finished with value: 0.04789915966386549 and parameters: {'threshold_men': 0.45, 'threshold_women': 0.48000000000000004}. Best is trial 50 with value: 0.024369747899159577.\n",
      "[I 2024-01-31 14:15:04,458] Trial 80 pruned. \n"
     ]
    },
    {
     "name": "stdout",
     "output_type": "stream",
     "text": [
      "tpr_women:  0.9285714285714286\n",
      "tpr_men:  0.9764705882352941\n"
     ]
    },
    {
     "name": "stderr",
     "output_type": "stream",
     "text": [
      "[I 2024-01-31 14:15:04,543] Trial 81 pruned. \n",
      "[I 2024-01-31 14:15:04,674] Trial 82 finished with value: 0.04789915966386549 and parameters: {'threshold_men': 0.45, 'threshold_women': 0.47000000000000003}. Best is trial 50 with value: 0.024369747899159577.\n",
      "[I 2024-01-31 14:15:04,799] Trial 83 finished with value: 0.16722689075630248 and parameters: {'threshold_men': 0.46, 'threshold_women': 0.49}. Best is trial 50 with value: 0.024369747899159577.\n"
     ]
    },
    {
     "name": "stdout",
     "output_type": "stream",
     "text": [
      "tpr_women:  0.9285714285714286\n",
      "tpr_men:  0.9764705882352941\n",
      "tpr_women:  0.7857142857142857\n",
      "tpr_men:  0.9529411764705882\n"
     ]
    },
    {
     "name": "stderr",
     "output_type": "stream",
     "text": [
      "[I 2024-01-31 14:15:04,922] Trial 84 finished with value: 0.4050420168067227 and parameters: {'threshold_men': 0.42000000000000004, 'threshold_women': 0.51}. Best is trial 50 with value: 0.024369747899159577.\n",
      "[I 2024-01-31 14:15:05,040] Trial 85 finished with value: 0.21596638655462175 and parameters: {'threshold_men': 0.49, 'threshold_women': 0.5}. Best is trial 50 with value: 0.024369747899159577.\n"
     ]
    },
    {
     "name": "stdout",
     "output_type": "stream",
     "text": [
      "tpr_women:  0.5714285714285714\n",
      "tpr_men:  0.9764705882352941\n",
      "tpr_women:  0.6428571428571429\n",
      "tpr_men:  0.8588235294117647\n"
     ]
    },
    {
     "name": "stderr",
     "output_type": "stream",
     "text": [
      "[I 2024-01-31 14:15:05,161] Trial 86 finished with value: 0.49327731092436977 and parameters: {'threshold_men': 0.5700000000000001, 'threshold_women': 0.47000000000000003}. Best is trial 50 with value: 0.024369747899159577.\n",
      "[I 2024-01-31 14:15:05,283] Trial 87 finished with value: 0.2747899159663866 and parameters: {'threshold_men': 0.63, 'threshold_women': 0.55}. Best is trial 50 with value: 0.024369747899159577.\n"
     ]
    },
    {
     "name": "stdout",
     "output_type": "stream",
     "text": [
      "tpr_women:  0.9285714285714286\n",
      "tpr_men:  0.43529411764705883\n",
      "tpr_women:  0.35714285714285715\n",
      "tpr_men:  0.08235294117647059\n"
     ]
    },
    {
     "name": "stderr",
     "output_type": "stream",
     "text": [
      "[I 2024-01-31 14:15:05,364] Trial 88 pruned. \n",
      "[I 2024-01-31 14:15:05,487] Trial 89 finished with value: 0.04789915966386549 and parameters: {'threshold_men': 0.45, 'threshold_women': 0.48000000000000004}. Best is trial 50 with value: 0.024369747899159577.\n",
      "[I 2024-01-31 14:15:05,574] Trial 90 pruned. \n"
     ]
    },
    {
     "name": "stdout",
     "output_type": "stream",
     "text": [
      "tpr_women:  0.9285714285714286\n",
      "tpr_men:  0.9764705882352941\n"
     ]
    },
    {
     "name": "stderr",
     "output_type": "stream",
     "text": [
      "[I 2024-01-31 14:15:05,696] Trial 91 finished with value: 0.04789915966386549 and parameters: {'threshold_men': 0.45, 'threshold_women': 0.47000000000000003}. Best is trial 50 with value: 0.024369747899159577.\n",
      "[I 2024-01-31 14:15:05,781] Trial 92 pruned. \n"
     ]
    },
    {
     "name": "stdout",
     "output_type": "stream",
     "text": [
      "tpr_women:  0.9285714285714286\n",
      "tpr_men:  0.9764705882352941\n"
     ]
    },
    {
     "name": "stderr",
     "output_type": "stream",
     "text": [
      "[I 2024-01-31 14:15:05,861] Trial 93 pruned. \n",
      "[I 2024-01-31 14:15:05,943] Trial 94 pruned. \n",
      "[I 2024-01-31 14:15:06,065] Trial 95 finished with value: 0.1991596638655463 and parameters: {'threshold_men': 0.52, 'threshold_women': 0.48000000000000004}. Best is trial 50 with value: 0.024369747899159577.\n",
      "[I 2024-01-31 14:15:06,188] Trial 96 finished with value: 0.1907563025210084 and parameters: {'threshold_men': 0.44, 'threshold_women': 0.49}. Best is trial 50 with value: 0.024369747899159577.\n"
     ]
    },
    {
     "name": "stdout",
     "output_type": "stream",
     "text": [
      "tpr_women:  0.9285714285714286\n",
      "tpr_men:  0.7294117647058823\n",
      "tpr_women:  0.7857142857142857\n",
      "tpr_men:  0.9764705882352941\n"
     ]
    },
    {
     "name": "stderr",
     "output_type": "stream",
     "text": [
      "[I 2024-01-31 14:15:06,313] Trial 97 finished with value: 0.1907563025210084 and parameters: {'threshold_men': 0.45, 'threshold_women': 0.49}. Best is trial 50 with value: 0.024369747899159577.\n",
      "[I 2024-01-31 14:15:06,436] Trial 98 finished with value: 0.4050420168067227 and parameters: {'threshold_men': 0.42000000000000004, 'threshold_women': 0.51}. Best is trial 50 with value: 0.024369747899159577.\n"
     ]
    },
    {
     "name": "stdout",
     "output_type": "stream",
     "text": [
      "tpr_women:  0.7857142857142857\n",
      "tpr_men:  0.9764705882352941\n",
      "tpr_women:  0.5714285714285714\n",
      "tpr_men:  0.9764705882352941\n"
     ]
    },
    {
     "name": "stderr",
     "output_type": "stream",
     "text": [
      "[I 2024-01-31 14:15:06,563] Trial 99 finished with value: 0.024369747899159577 and parameters: {'threshold_men': 0.47000000000000003, 'threshold_women': 0.47000000000000003}. Best is trial 50 with value: 0.024369747899159577.\n",
      "[I 2024-01-31 14:15:06,648] Trial 100 pruned. \n"
     ]
    },
    {
     "name": "stdout",
     "output_type": "stream",
     "text": [
      "tpr_women:  0.9285714285714286\n",
      "tpr_men:  0.9529411764705882\n"
     ]
    },
    {
     "name": "stderr",
     "output_type": "stream",
     "text": [
      "[I 2024-01-31 14:15:06,772] Trial 101 finished with value: 0.024369747899159577 and parameters: {'threshold_men': 0.47000000000000003, 'threshold_women': 0.47000000000000003}. Best is trial 50 with value: 0.024369747899159577.\n",
      "[I 2024-01-31 14:15:06,893] Trial 102 finished with value: 0.024369747899159577 and parameters: {'threshold_men': 0.47000000000000003, 'threshold_women': 0.47000000000000003}. Best is trial 50 with value: 0.024369747899159577.\n"
     ]
    },
    {
     "name": "stdout",
     "output_type": "stream",
     "text": [
      "tpr_women:  0.9285714285714286\n",
      "tpr_men:  0.9529411764705882\n",
      "tpr_women:  0.9285714285714286\n",
      "tpr_men:  0.9529411764705882\n"
     ]
    },
    {
     "name": "stderr",
     "output_type": "stream",
     "text": [
      "[I 2024-01-31 14:15:07,013] Trial 103 finished with value: 0.024369747899159577 and parameters: {'threshold_men': 0.47000000000000003, 'threshold_women': 0.48000000000000004}. Best is trial 50 with value: 0.024369747899159577.\n",
      "[I 2024-01-31 14:15:07,094] Trial 104 pruned. \n"
     ]
    },
    {
     "name": "stdout",
     "output_type": "stream",
     "text": [
      "tpr_women:  0.9285714285714286\n",
      "tpr_men:  0.9529411764705882\n",
      "tpr_women:  0.6428571428571429\n",
      "tpr_men:  0.8588235294117647\n"
     ]
    },
    {
     "name": "stderr",
     "output_type": "stream",
     "text": [
      "[I 2024-01-31 14:15:07,218] Trial 105 finished with value: 0.21596638655462175 and parameters: {'threshold_men': 0.49, 'threshold_women': 0.5}. Best is trial 50 with value: 0.024369747899159577.\n",
      "[I 2024-01-31 14:15:07,343] Trial 106 finished with value: 0.024369747899159577 and parameters: {'threshold_men': 0.47000000000000003, 'threshold_women': 0.48000000000000004}. Best is trial 50 with value: 0.024369747899159577.\n",
      "[I 2024-01-31 14:15:07,472] Trial 107 finished with value: 0.024369747899159577 and parameters: {'threshold_men': 0.47000000000000003, 'threshold_women': 0.48000000000000004}. Best is trial 50 with value: 0.024369747899159577.\n"
     ]
    },
    {
     "name": "stdout",
     "output_type": "stream",
     "text": [
      "tpr_women:  0.9285714285714286\n",
      "tpr_men:  0.9529411764705882\n",
      "tpr_women:  0.9285714285714286\n",
      "tpr_men:  0.9529411764705882\n"
     ]
    },
    {
     "name": "stderr",
     "output_type": "stream",
     "text": [
      "[I 2024-01-31 14:15:07,599] Trial 108 finished with value: 0.026050420168067245 and parameters: {'threshold_men': 0.51, 'threshold_women': 0.49}. Best is trial 50 with value: 0.024369747899159577.\n",
      "[I 2024-01-31 14:15:07,724] Trial 109 finished with value: 0.026050420168067245 and parameters: {'threshold_men': 0.51, 'threshold_women': 0.49}. Best is trial 50 with value: 0.024369747899159577.\n"
     ]
    },
    {
     "name": "stdout",
     "output_type": "stream",
     "text": [
      "tpr_women:  0.7857142857142857\n",
      "tpr_men:  0.8117647058823529\n",
      "tpr_women:  0.7857142857142857\n",
      "tpr_men:  0.8117647058823529\n"
     ]
    },
    {
     "name": "stderr",
     "output_type": "stream",
     "text": [
      "[I 2024-01-31 14:15:07,849] Trial 110 finished with value: 0.026050420168067245 and parameters: {'threshold_men': 0.51, 'threshold_women': 0.49}. Best is trial 50 with value: 0.024369747899159577.\n",
      "[I 2024-01-31 14:15:07,971] Trial 111 finished with value: 0.026050420168067245 and parameters: {'threshold_men': 0.51, 'threshold_women': 0.49}. Best is trial 50 with value: 0.024369747899159577.\n"
     ]
    },
    {
     "name": "stdout",
     "output_type": "stream",
     "text": [
      "tpr_women:  0.7857142857142857\n",
      "tpr_men:  0.8117647058823529\n",
      "tpr_women:  0.7857142857142857\n",
      "tpr_men:  0.8117647058823529\n"
     ]
    },
    {
     "name": "stderr",
     "output_type": "stream",
     "text": [
      "[I 2024-01-31 14:15:08,097] Trial 112 finished with value: 0.026050420168067245 and parameters: {'threshold_men': 0.51, 'threshold_women': 0.49}. Best is trial 50 with value: 0.024369747899159577.\n",
      "[I 2024-01-31 14:15:08,224] Trial 113 finished with value: 0.031092436974789917 and parameters: {'threshold_men': 0.54, 'threshold_women': 0.5}. Best is trial 50 with value: 0.024369747899159577.\n"
     ]
    },
    {
     "name": "stdout",
     "output_type": "stream",
     "text": [
      "tpr_women:  0.7857142857142857\n",
      "tpr_men:  0.8117647058823529\n",
      "tpr_women:  0.6428571428571429\n",
      "tpr_men:  0.611764705882353\n"
     ]
    },
    {
     "name": "stderr",
     "output_type": "stream",
     "text": [
      "[I 2024-01-31 14:15:08,352] Trial 114 finished with value: 0.026050420168067245 and parameters: {'threshold_men': 0.51, 'threshold_women': 0.49}. Best is trial 50 with value: 0.024369747899159577.\n",
      "[I 2024-01-31 14:15:08,479] Trial 115 finished with value: 0.08151260504201685 and parameters: {'threshold_men': 0.5, 'threshold_women': 0.48000000000000004}. Best is trial 50 with value: 0.024369747899159577.\n"
     ]
    },
    {
     "name": "stdout",
     "output_type": "stream",
     "text": [
      "tpr_women:  0.7857142857142857\n",
      "tpr_men:  0.8117647058823529\n",
      "tpr_women:  0.9285714285714286\n",
      "tpr_men:  0.8470588235294118\n"
     ]
    },
    {
     "name": "stderr",
     "output_type": "stream",
     "text": [
      "[I 2024-01-31 14:15:08,606] Trial 116 finished with value: 0.13445378151260512 and parameters: {'threshold_men': 0.53, 'threshold_women': 0.52}. Best is trial 50 with value: 0.024369747899159577.\n",
      "[I 2024-01-31 14:15:08,732] Trial 117 finished with value: 0.15798319327731092 and parameters: {'threshold_men': 0.52, 'threshold_women': 0.51}. Best is trial 50 with value: 0.024369747899159577.\n"
     ]
    },
    {
     "name": "stdout",
     "output_type": "stream",
     "text": [
      "tpr_women:  0.5714285714285714\n",
      "tpr_men:  0.7058823529411765\n",
      "tpr_women:  0.5714285714285714\n",
      "tpr_men:  0.7294117647058823\n"
     ]
    },
    {
     "name": "stderr",
     "output_type": "stream",
     "text": [
      "[I 2024-01-31 14:15:08,816] Trial 118 pruned. \n",
      "[I 2024-01-31 14:15:08,938] Trial 119 finished with value: 0.061344537815126055 and parameters: {'threshold_men': 0.5, 'threshold_women': 0.49}. Best is trial 50 with value: 0.024369747899159577.\n",
      "[I 2024-01-31 14:15:09,065] Trial 120 finished with value: 0.024369747899159577 and parameters: {'threshold_men': 0.47000000000000003, 'threshold_women': 0.47000000000000003}. Best is trial 50 with value: 0.024369747899159577.\n"
     ]
    },
    {
     "name": "stdout",
     "output_type": "stream",
     "text": [
      "tpr_women:  0.7857142857142857\n",
      "tpr_men:  0.8470588235294118\n",
      "tpr_women:  0.9285714285714286\n",
      "tpr_men:  0.9529411764705882\n"
     ]
    },
    {
     "name": "stderr",
     "output_type": "stream",
     "text": [
      "[I 2024-01-31 14:15:09,190] Trial 121 finished with value: 0.024369747899159577 and parameters: {'threshold_men': 0.47000000000000003, 'threshold_women': 0.47000000000000003}. Best is trial 50 with value: 0.024369747899159577.\n",
      "[I 2024-01-31 14:15:09,313] Trial 122 finished with value: 0.024369747899159577 and parameters: {'threshold_men': 0.47000000000000003, 'threshold_women': 0.47000000000000003}. Best is trial 50 with value: 0.024369747899159577.\n"
     ]
    },
    {
     "name": "stdout",
     "output_type": "stream",
     "text": [
      "tpr_women:  0.9285714285714286\n",
      "tpr_men:  0.9529411764705882\n",
      "tpr_women:  0.9285714285714286\n",
      "tpr_men:  0.9529411764705882\n"
     ]
    },
    {
     "name": "stderr",
     "output_type": "stream",
     "text": [
      "[I 2024-01-31 14:15:09,437] Trial 123 finished with value: 0.024369747899159577 and parameters: {'threshold_men': 0.47000000000000003, 'threshold_women': 0.47000000000000003}. Best is trial 50 with value: 0.024369747899159577.\n",
      "[I 2024-01-31 14:15:09,563] Trial 124 finished with value: 0.024369747899159577 and parameters: {'threshold_men': 0.47000000000000003, 'threshold_women': 0.47000000000000003}. Best is trial 50 with value: 0.024369747899159577.\n"
     ]
    },
    {
     "name": "stdout",
     "output_type": "stream",
     "text": [
      "tpr_women:  0.9285714285714286\n",
      "tpr_men:  0.9529411764705882\n",
      "tpr_women:  0.9285714285714286\n",
      "tpr_men:  0.9529411764705882\n"
     ]
    },
    {
     "name": "stderr",
     "output_type": "stream",
     "text": [
      "[I 2024-01-31 14:15:09,650] Trial 125 pruned. \n",
      "[I 2024-01-31 14:15:09,780] Trial 126 finished with value: 0.024369747899159577 and parameters: {'threshold_men': 0.46, 'threshold_women': 0.47000000000000003}. Best is trial 50 with value: 0.024369747899159577.\n",
      "[I 2024-01-31 14:15:09,864] Trial 127 pruned. \n"
     ]
    },
    {
     "name": "stdout",
     "output_type": "stream",
     "text": [
      "tpr_women:  0.9285714285714286\n",
      "tpr_men:  0.9529411764705882\n"
     ]
    },
    {
     "name": "stderr",
     "output_type": "stream",
     "text": [
      "[I 2024-01-31 14:15:09,946] Trial 128 pruned. \n",
      "[I 2024-01-31 14:15:10,063] Trial 129 finished with value: 0.03445378151260503 and parameters: {'threshold_men': 0.48000000000000004, 'threshold_women': 0.47000000000000003}. Best is trial 50 with value: 0.024369747899159577.\n",
      "[I 2024-01-31 14:15:10,146] Trial 130 pruned. \n"
     ]
    },
    {
     "name": "stdout",
     "output_type": "stream",
     "text": [
      "tpr_women:  0.9285714285714286\n",
      "tpr_men:  0.8941176470588236\n"
     ]
    },
    {
     "name": "stderr",
     "output_type": "stream",
     "text": [
      "[I 2024-01-31 14:15:10,271] Trial 131 finished with value: 0.024369747899159577 and parameters: {'threshold_men': 0.46, 'threshold_women': 0.47000000000000003}. Best is trial 50 with value: 0.024369747899159577.\n",
      "[I 2024-01-31 14:15:10,398] Trial 132 finished with value: 0.024369747899159577 and parameters: {'threshold_men': 0.46, 'threshold_women': 0.47000000000000003}. Best is trial 50 with value: 0.024369747899159577.\n"
     ]
    },
    {
     "name": "stdout",
     "output_type": "stream",
     "text": [
      "tpr_women:  0.9285714285714286\n",
      "tpr_men:  0.9529411764705882\n",
      "tpr_women:  0.9285714285714286\n",
      "tpr_men:  0.9529411764705882\n"
     ]
    },
    {
     "name": "stderr",
     "output_type": "stream",
     "text": [
      "[I 2024-01-31 14:15:10,525] Trial 133 finished with value: 0.024369747899159577 and parameters: {'threshold_men': 0.47000000000000003, 'threshold_women': 0.48000000000000004}. Best is trial 50 with value: 0.024369747899159577.\n",
      "[I 2024-01-31 14:15:10,612] Trial 134 pruned. \n"
     ]
    },
    {
     "name": "stdout",
     "output_type": "stream",
     "text": [
      "tpr_women:  0.9285714285714286\n",
      "tpr_men:  0.9529411764705882\n"
     ]
    },
    {
     "name": "stderr",
     "output_type": "stream",
     "text": [
      "[I 2024-01-31 14:15:10,742] Trial 135 finished with value: 0.024369747899159577 and parameters: {'threshold_men': 0.46, 'threshold_women': 0.47000000000000003}. Best is trial 50 with value: 0.024369747899159577.\n",
      "[I 2024-01-31 14:15:10,829] Trial 136 pruned. \n"
     ]
    },
    {
     "name": "stdout",
     "output_type": "stream",
     "text": [
      "tpr_women:  0.9285714285714286\n",
      "tpr_men:  0.9529411764705882\n"
     ]
    },
    {
     "name": "stderr",
     "output_type": "stream",
     "text": [
      "[I 2024-01-31 14:15:10,956] Trial 137 finished with value: 0.024369747899159577 and parameters: {'threshold_men': 0.47000000000000003, 'threshold_women': 0.48000000000000004}. Best is trial 50 with value: 0.024369747899159577.\n",
      "[I 2024-01-31 14:15:11,080] Trial 138 finished with value: 0.024369747899159577 and parameters: {'threshold_men': 0.47000000000000003, 'threshold_women': 0.47000000000000003}. Best is trial 50 with value: 0.024369747899159577.\n"
     ]
    },
    {
     "name": "stdout",
     "output_type": "stream",
     "text": [
      "tpr_women:  0.9285714285714286\n",
      "tpr_men:  0.9529411764705882\n",
      "tpr_women:  0.9285714285714286\n",
      "tpr_men:  0.9529411764705882\n"
     ]
    },
    {
     "name": "stderr",
     "output_type": "stream",
     "text": [
      "[I 2024-01-31 14:15:11,167] Trial 139 pruned. \n",
      "[I 2024-01-31 14:15:11,297] Trial 140 finished with value: 0.024369747899159577 and parameters: {'threshold_men': 0.46, 'threshold_women': 0.48000000000000004}. Best is trial 50 with value: 0.024369747899159577.\n",
      "[I 2024-01-31 14:15:11,380] Trial 141 pruned. \n"
     ]
    },
    {
     "name": "stdout",
     "output_type": "stream",
     "text": [
      "tpr_women:  0.9285714285714286\n",
      "tpr_men:  0.9529411764705882\n"
     ]
    },
    {
     "name": "stderr",
     "output_type": "stream",
     "text": [
      "[I 2024-01-31 14:15:11,507] Trial 142 finished with value: 0.024369747899159577 and parameters: {'threshold_men': 0.47000000000000003, 'threshold_women': 0.47000000000000003}. Best is trial 50 with value: 0.024369747899159577.\n",
      "[I 2024-01-31 14:15:11,591] Trial 143 pruned. \n"
     ]
    },
    {
     "name": "stdout",
     "output_type": "stream",
     "text": [
      "tpr_women:  0.9285714285714286\n",
      "tpr_men:  0.9529411764705882\n"
     ]
    },
    {
     "name": "stderr",
     "output_type": "stream",
     "text": [
      "[I 2024-01-31 14:15:11,721] Trial 144 finished with value: 0.03445378151260503 and parameters: {'threshold_men': 0.48000000000000004, 'threshold_women': 0.47000000000000003}. Best is trial 50 with value: 0.024369747899159577.\n",
      "[I 2024-01-31 14:15:11,851] Trial 145 finished with value: 0.04789915966386549 and parameters: {'threshold_men': 0.45, 'threshold_women': 0.48000000000000004}. Best is trial 50 with value: 0.024369747899159577.\n"
     ]
    },
    {
     "name": "stdout",
     "output_type": "stream",
     "text": [
      "tpr_women:  0.9285714285714286\n",
      "tpr_men:  0.8941176470588236\n",
      "tpr_women:  0.9285714285714286\n",
      "tpr_men:  0.9764705882352941\n"
     ]
    },
    {
     "name": "stderr",
     "output_type": "stream",
     "text": [
      "[I 2024-01-31 14:15:11,936] Trial 146 pruned. \n",
      "[I 2024-01-31 14:15:12,062] Trial 147 finished with value: 0.06974789915966395 and parameters: {'threshold_men': 0.49, 'threshold_women': 0.47000000000000003}. Best is trial 50 with value: 0.024369747899159577.\n",
      "[I 2024-01-31 14:15:12,188] Trial 148 finished with value: 0.04789915966386549 and parameters: {'threshold_men': 0.45, 'threshold_women': 0.48000000000000004}. Best is trial 50 with value: 0.024369747899159577.\n"
     ]
    },
    {
     "name": "stdout",
     "output_type": "stream",
     "text": [
      "tpr_women:  0.9285714285714286\n",
      "tpr_men:  0.8588235294117647\n",
      "tpr_women:  0.9285714285714286\n",
      "tpr_men:  0.9764705882352941\n"
     ]
    },
    {
     "name": "stderr",
     "output_type": "stream",
     "text": [
      "[I 2024-01-31 14:15:12,274] Trial 149 pruned. \n",
      "[I 2024-01-31 14:15:12,362] Trial 150 pruned. \n",
      "[I 2024-01-31 14:15:12,486] Trial 151 finished with value: 0.024369747899159577 and parameters: {'threshold_men': 0.46, 'threshold_women': 0.47000000000000003}. Best is trial 50 with value: 0.024369747899159577.\n",
      "[I 2024-01-31 14:15:12,615] Trial 152 finished with value: 0.024369747899159577 and parameters: {'threshold_men': 0.46, 'threshold_women': 0.47000000000000003}. Best is trial 50 with value: 0.024369747899159577.\n"
     ]
    },
    {
     "name": "stdout",
     "output_type": "stream",
     "text": [
      "tpr_women:  0.9285714285714286\n",
      "tpr_men:  0.9529411764705882\n",
      "tpr_women:  0.9285714285714286\n",
      "tpr_men:  0.9529411764705882\n"
     ]
    },
    {
     "name": "stderr",
     "output_type": "stream",
     "text": [
      "[I 2024-01-31 14:15:12,747] Trial 153 finished with value: 0.024369747899159577 and parameters: {'threshold_men': 0.46, 'threshold_women': 0.48000000000000004}. Best is trial 50 with value: 0.024369747899159577.\n",
      "[I 2024-01-31 14:15:12,878] Trial 154 finished with value: 0.04789915966386549 and parameters: {'threshold_men': 0.45, 'threshold_women': 0.47000000000000003}. Best is trial 50 with value: 0.024369747899159577.\n"
     ]
    },
    {
     "name": "stdout",
     "output_type": "stream",
     "text": [
      "tpr_women:  0.9285714285714286\n",
      "tpr_men:  0.9529411764705882\n",
      "tpr_women:  0.9285714285714286\n",
      "tpr_men:  0.9764705882352941\n"
     ]
    },
    {
     "name": "stderr",
     "output_type": "stream",
     "text": [
      "[I 2024-01-31 14:15:12,976] Trial 155 pruned. \n",
      "[I 2024-01-31 14:15:13,109] Trial 156 finished with value: 0.03445378151260503 and parameters: {'threshold_men': 0.48000000000000004, 'threshold_women': 0.48000000000000004}. Best is trial 50 with value: 0.024369747899159577.\n",
      "[I 2024-01-31 14:15:13,198] Trial 157 pruned. \n"
     ]
    },
    {
     "name": "stdout",
     "output_type": "stream",
     "text": [
      "tpr_women:  0.9285714285714286\n",
      "tpr_men:  0.8941176470588236\n"
     ]
    },
    {
     "name": "stderr",
     "output_type": "stream",
     "text": [
      "[I 2024-01-31 14:15:13,328] Trial 158 finished with value: 0.04789915966386549 and parameters: {'threshold_men': 0.45, 'threshold_women': 0.47000000000000003}. Best is trial 50 with value: 0.024369747899159577.\n",
      "[I 2024-01-31 14:15:13,417] Trial 159 pruned. \n"
     ]
    },
    {
     "name": "stdout",
     "output_type": "stream",
     "text": [
      "tpr_women:  0.9285714285714286\n",
      "tpr_men:  0.9764705882352941\n"
     ]
    },
    {
     "name": "stderr",
     "output_type": "stream",
     "text": [
      "[I 2024-01-31 14:15:13,509] Trial 160 pruned. \n",
      "[I 2024-01-31 14:15:13,640] Trial 161 finished with value: 0.024369747899159577 and parameters: {'threshold_men': 0.47000000000000003, 'threshold_women': 0.48000000000000004}. Best is trial 50 with value: 0.024369747899159577.\n",
      "[I 2024-01-31 14:15:13,769] Trial 162 finished with value: 0.03445378151260503 and parameters: {'threshold_men': 0.48000000000000004, 'threshold_women': 0.48000000000000004}. Best is trial 50 with value: 0.024369747899159577.\n"
     ]
    },
    {
     "name": "stdout",
     "output_type": "stream",
     "text": [
      "tpr_women:  0.9285714285714286\n",
      "tpr_men:  0.9529411764705882\n",
      "tpr_women:  0.9285714285714286\n",
      "tpr_men:  0.8941176470588236\n"
     ]
    },
    {
     "name": "stderr",
     "output_type": "stream",
     "text": [
      "[I 2024-01-31 14:15:13,894] Trial 163 finished with value: 0.024369747899159577 and parameters: {'threshold_men': 0.47000000000000003, 'threshold_women': 0.47000000000000003}. Best is trial 50 with value: 0.024369747899159577.\n",
      "[I 2024-01-31 14:15:14,020] Trial 164 finished with value: 0.024369747899159577 and parameters: {'threshold_men': 0.46, 'threshold_women': 0.48000000000000004}. Best is trial 50 with value: 0.024369747899159577.\n"
     ]
    },
    {
     "name": "stdout",
     "output_type": "stream",
     "text": [
      "tpr_women:  0.9285714285714286\n",
      "tpr_men:  0.9529411764705882\n",
      "tpr_women:  0.9285714285714286\n",
      "tpr_men:  0.9529411764705882\n"
     ]
    },
    {
     "name": "stderr",
     "output_type": "stream",
     "text": [
      "[I 2024-01-31 14:15:14,112] Trial 165 pruned. \n",
      "[I 2024-01-31 14:15:14,243] Trial 166 finished with value: 0.03445378151260503 and parameters: {'threshold_men': 0.48000000000000004, 'threshold_women': 0.47000000000000003}. Best is trial 50 with value: 0.024369747899159577.\n",
      "[I 2024-01-31 14:15:14,373] Trial 167 finished with value: 0.3336134453781512 and parameters: {'threshold_men': 0.45, 'threshold_women': 0.5}. Best is trial 50 with value: 0.024369747899159577.\n"
     ]
    },
    {
     "name": "stdout",
     "output_type": "stream",
     "text": [
      "tpr_women:  0.9285714285714286\n",
      "tpr_men:  0.8941176470588236\n",
      "tpr_women:  0.6428571428571429\n",
      "tpr_men:  0.9764705882352941\n"
     ]
    },
    {
     "name": "stderr",
     "output_type": "stream",
     "text": [
      "[I 2024-01-31 14:15:14,504] Trial 168 finished with value: 0.024369747899159577 and parameters: {'threshold_men': 0.47000000000000003, 'threshold_women': 0.48000000000000004}. Best is trial 50 with value: 0.024369747899159577.\n",
      "[I 2024-01-31 14:15:14,640] Trial 169 finished with value: 0.10840336134453787 and parameters: {'threshold_men': 0.48000000000000004, 'threshold_women': 0.49}. Best is trial 50 with value: 0.024369747899159577.\n"
     ]
    },
    {
     "name": "stdout",
     "output_type": "stream",
     "text": [
      "tpr_women:  0.9285714285714286\n",
      "tpr_men:  0.9529411764705882\n",
      "tpr_women:  0.7857142857142857\n",
      "tpr_men:  0.8941176470588236\n"
     ]
    },
    {
     "name": "stderr",
     "output_type": "stream",
     "text": [
      "[I 2024-01-31 14:15:14,783] Trial 170 finished with value: 0.024369747899159577 and parameters: {'threshold_men': 0.46, 'threshold_women': 0.47000000000000003}. Best is trial 50 with value: 0.024369747899159577.\n",
      "[I 2024-01-31 14:15:14,917] Trial 171 finished with value: 0.024369747899159577 and parameters: {'threshold_men': 0.46, 'threshold_women': 0.47000000000000003}. Best is trial 50 with value: 0.024369747899159577.\n"
     ]
    },
    {
     "name": "stdout",
     "output_type": "stream",
     "text": [
      "tpr_women:  0.9285714285714286\n",
      "tpr_men:  0.9529411764705882\n",
      "tpr_women:  0.9285714285714286\n",
      "tpr_men:  0.9529411764705882\n"
     ]
    },
    {
     "name": "stderr",
     "output_type": "stream",
     "text": [
      "[I 2024-01-31 14:15:15,005] Trial 172 pruned. \n",
      "[I 2024-01-31 14:15:15,132] Trial 173 finished with value: 0.024369747899159577 and parameters: {'threshold_men': 0.47000000000000003, 'threshold_women': 0.47000000000000003}. Best is trial 50 with value: 0.024369747899159577.\n",
      "[I 2024-01-31 14:15:15,263] Trial 174 finished with value: 0.04789915966386549 and parameters: {'threshold_men': 0.45, 'threshold_women': 0.48000000000000004}. Best is trial 50 with value: 0.024369747899159577.\n"
     ]
    },
    {
     "name": "stdout",
     "output_type": "stream",
     "text": [
      "tpr_women:  0.9285714285714286\n",
      "tpr_men:  0.9529411764705882\n",
      "tpr_women:  0.9285714285714286\n",
      "tpr_men:  0.9764705882352941\n"
     ]
    },
    {
     "name": "stderr",
     "output_type": "stream",
     "text": [
      "[I 2024-01-31 14:15:15,351] Trial 175 pruned. \n",
      "[I 2024-01-31 14:15:15,483] Trial 176 finished with value: 0.04789915966386549 and parameters: {'threshold_men': 0.45, 'threshold_women': 0.47000000000000003}. Best is trial 50 with value: 0.024369747899159577.\n",
      "[I 2024-01-31 14:15:15,571] Trial 177 pruned. \n"
     ]
    },
    {
     "name": "stdout",
     "output_type": "stream",
     "text": [
      "tpr_women:  0.9285714285714286\n",
      "tpr_men:  0.9764705882352941\n"
     ]
    },
    {
     "name": "stderr",
     "output_type": "stream",
     "text": [
      "[I 2024-01-31 14:15:15,709] Trial 178 finished with value: 0.07310924369747895 and parameters: {'threshold_men': 0.49, 'threshold_women': 0.49}. Best is trial 50 with value: 0.024369747899159577.\n",
      "[I 2024-01-31 14:15:15,841] Trial 179 finished with value: 0.024369747899159577 and parameters: {'threshold_men': 0.46, 'threshold_women': 0.48000000000000004}. Best is trial 50 with value: 0.024369747899159577.\n"
     ]
    },
    {
     "name": "stdout",
     "output_type": "stream",
     "text": [
      "tpr_women:  0.7857142857142857\n",
      "tpr_men:  0.8588235294117647\n",
      "tpr_women:  0.9285714285714286\n",
      "tpr_men:  0.9529411764705882\n"
     ]
    },
    {
     "name": "stderr",
     "output_type": "stream",
     "text": [
      "[I 2024-01-31 14:15:15,972] Trial 180 finished with value: 0.04789915966386549 and parameters: {'threshold_men': 0.44, 'threshold_women': 0.47000000000000003}. Best is trial 50 with value: 0.024369747899159577.\n",
      "[I 2024-01-31 14:15:16,101] Trial 181 finished with value: 0.024369747899159577 and parameters: {'threshold_men': 0.47000000000000003, 'threshold_women': 0.48000000000000004}. Best is trial 50 with value: 0.024369747899159577.\n"
     ]
    },
    {
     "name": "stdout",
     "output_type": "stream",
     "text": [
      "tpr_women:  0.9285714285714286\n",
      "tpr_men:  0.9764705882352941\n",
      "tpr_women:  0.9285714285714286\n",
      "tpr_men:  0.9529411764705882\n"
     ]
    },
    {
     "name": "stderr",
     "output_type": "stream",
     "text": [
      "[I 2024-01-31 14:15:16,229] Trial 182 finished with value: 0.024369747899159577 and parameters: {'threshold_men': 0.47000000000000003, 'threshold_women': 0.48000000000000004}. Best is trial 50 with value: 0.024369747899159577.\n",
      "[I 2024-01-31 14:15:16,315] Trial 183 pruned. \n"
     ]
    },
    {
     "name": "stdout",
     "output_type": "stream",
     "text": [
      "tpr_women:  0.9285714285714286\n",
      "tpr_men:  0.9529411764705882\n"
     ]
    },
    {
     "name": "stderr",
     "output_type": "stream",
     "text": [
      "[I 2024-01-31 14:15:16,441] Trial 184 finished with value: 0.024369747899159577 and parameters: {'threshold_men': 0.47000000000000003, 'threshold_women': 0.47000000000000003}. Best is trial 50 with value: 0.024369747899159577.\n",
      "[I 2024-01-31 14:15:16,573] Trial 185 finished with value: 0.03445378151260503 and parameters: {'threshold_men': 0.48000000000000004, 'threshold_women': 0.48000000000000004}. Best is trial 50 with value: 0.024369747899159577.\n"
     ]
    },
    {
     "name": "stdout",
     "output_type": "stream",
     "text": [
      "tpr_women:  0.9285714285714286\n",
      "tpr_men:  0.9529411764705882\n",
      "tpr_women:  0.9285714285714286\n",
      "tpr_men:  0.8941176470588236\n"
     ]
    },
    {
     "name": "stderr",
     "output_type": "stream",
     "text": [
      "[I 2024-01-31 14:15:16,702] Trial 186 finished with value: 0.16722689075630248 and parameters: {'threshold_men': 0.47000000000000003, 'threshold_women': 0.49}. Best is trial 50 with value: 0.024369747899159577.\n",
      "[I 2024-01-31 14:15:16,830] Trial 187 finished with value: 0.024369747899159577 and parameters: {'threshold_men': 0.46, 'threshold_women': 0.47000000000000003}. Best is trial 50 with value: 0.024369747899159577.\n"
     ]
    },
    {
     "name": "stdout",
     "output_type": "stream",
     "text": [
      "tpr_women:  0.7857142857142857\n",
      "tpr_men:  0.9529411764705882\n",
      "tpr_women:  0.9285714285714286\n",
      "tpr_men:  0.9529411764705882\n"
     ]
    },
    {
     "name": "stderr",
     "output_type": "stream",
     "text": [
      "[I 2024-01-31 14:15:16,917] Trial 188 pruned. \n",
      "[I 2024-01-31 14:15:17,001] Trial 189 pruned. \n",
      "[I 2024-01-31 14:15:17,128] Trial 190 finished with value: 0.3100840336134453 and parameters: {'threshold_men': 0.47000000000000003, 'threshold_women': 0.5}. Best is trial 50 with value: 0.024369747899159577.\n",
      "[I 2024-01-31 14:15:17,260] Trial 191 finished with value: 0.024369747899159577 and parameters: {'threshold_men': 0.47000000000000003, 'threshold_women': 0.47000000000000003}. Best is trial 50 with value: 0.024369747899159577.\n"
     ]
    },
    {
     "name": "stdout",
     "output_type": "stream",
     "text": [
      "tpr_women:  0.6428571428571429\n",
      "tpr_men:  0.9529411764705882\n",
      "tpr_women:  0.9285714285714286\n",
      "tpr_men:  0.9529411764705882\n"
     ]
    },
    {
     "name": "stderr",
     "output_type": "stream",
     "text": [
      "[I 2024-01-31 14:15:17,386] Trial 192 finished with value: 0.024369747899159577 and parameters: {'threshold_men': 0.47000000000000003, 'threshold_women': 0.48000000000000004}. Best is trial 50 with value: 0.024369747899159577.\n",
      "[I 2024-01-31 14:15:17,520] Trial 193 finished with value: 0.04789915966386549 and parameters: {'threshold_men': 0.45, 'threshold_women': 0.47000000000000003}. Best is trial 50 with value: 0.024369747899159577.\n"
     ]
    },
    {
     "name": "stdout",
     "output_type": "stream",
     "text": [
      "tpr_women:  0.9285714285714286\n",
      "tpr_men:  0.9529411764705882\n",
      "tpr_women:  0.9285714285714286\n",
      "tpr_men:  0.9764705882352941\n"
     ]
    },
    {
     "name": "stderr",
     "output_type": "stream",
     "text": [
      "[I 2024-01-31 14:15:17,651] Trial 194 finished with value: 0.024369747899159577 and parameters: {'threshold_men': 0.46, 'threshold_women': 0.47000000000000003}. Best is trial 50 with value: 0.024369747899159577.\n",
      "[I 2024-01-31 14:15:17,784] Trial 195 finished with value: 0.06974789915966395 and parameters: {'threshold_men': 0.49, 'threshold_women': 0.48000000000000004}. Best is trial 50 with value: 0.024369747899159577.\n"
     ]
    },
    {
     "name": "stdout",
     "output_type": "stream",
     "text": [
      "tpr_women:  0.9285714285714286\n",
      "tpr_men:  0.9529411764705882\n",
      "tpr_women:  0.9285714285714286\n",
      "tpr_men:  0.8588235294117647\n"
     ]
    },
    {
     "name": "stderr",
     "output_type": "stream",
     "text": [
      "[I 2024-01-31 14:15:17,872] Trial 196 pruned. \n",
      "[I 2024-01-31 14:15:17,956] Trial 197 pruned. \n",
      "[I 2024-01-31 14:15:18,042] Trial 198 pruned. \n",
      "[I 2024-01-31 14:15:18,164] Trial 199 finished with value: 0.10840336134453787 and parameters: {'threshold_men': 0.48000000000000004, 'threshold_women': 0.49}. Best is trial 50 with value: 0.024369747899159577.\n",
      "[I 2024-01-31 14:15:18,291] Trial 200 finished with value: 0.04789915966386549 and parameters: {'threshold_men': 0.45, 'threshold_women': 0.47000000000000003}. Best is trial 50 with value: 0.024369747899159577.\n"
     ]
    },
    {
     "name": "stdout",
     "output_type": "stream",
     "text": [
      "tpr_women:  0.7857142857142857\n",
      "tpr_men:  0.8941176470588236\n",
      "tpr_women:  0.9285714285714286\n",
      "tpr_men:  0.9764705882352941\n"
     ]
    },
    {
     "name": "stderr",
     "output_type": "stream",
     "text": [
      "[I 2024-01-31 14:15:18,415] Trial 201 finished with value: 0.024369747899159577 and parameters: {'threshold_men': 0.46, 'threshold_women': 0.48000000000000004}. Best is trial 50 with value: 0.024369747899159577.\n",
      "[I 2024-01-31 14:15:18,539] Trial 202 finished with value: 0.024369747899159577 and parameters: {'threshold_men': 0.47000000000000003, 'threshold_women': 0.48000000000000004}. Best is trial 50 with value: 0.024369747899159577.\n"
     ]
    },
    {
     "name": "stdout",
     "output_type": "stream",
     "text": [
      "tpr_women:  0.9285714285714286\n",
      "tpr_men:  0.9529411764705882\n",
      "tpr_women:  0.9285714285714286\n",
      "tpr_men:  0.9529411764705882\n"
     ]
    },
    {
     "name": "stderr",
     "output_type": "stream",
     "text": [
      "[I 2024-01-31 14:15:18,664] Trial 203 finished with value: 0.024369747899159577 and parameters: {'threshold_men': 0.47000000000000003, 'threshold_women': 0.48000000000000004}. Best is trial 50 with value: 0.024369747899159577.\n",
      "[I 2024-01-31 14:15:18,786] Trial 204 finished with value: 0.04789915966386549 and parameters: {'threshold_men': 0.45, 'threshold_women': 0.47000000000000003}. Best is trial 50 with value: 0.024369747899159577.\n"
     ]
    },
    {
     "name": "stdout",
     "output_type": "stream",
     "text": [
      "tpr_women:  0.9285714285714286\n",
      "tpr_men:  0.9529411764705882\n",
      "tpr_women:  0.9285714285714286\n",
      "tpr_men:  0.9764705882352941\n"
     ]
    },
    {
     "name": "stderr",
     "output_type": "stream",
     "text": [
      "[I 2024-01-31 14:15:18,915] Trial 205 finished with value: 0.024369747899159577 and parameters: {'threshold_men': 0.46, 'threshold_women': 0.47000000000000003}. Best is trial 50 with value: 0.024369747899159577.\n",
      "[I 2024-01-31 14:15:19,040] Trial 206 finished with value: 0.03445378151260503 and parameters: {'threshold_men': 0.48000000000000004, 'threshold_women': 0.48000000000000004}. Best is trial 50 with value: 0.024369747899159577.\n"
     ]
    },
    {
     "name": "stdout",
     "output_type": "stream",
     "text": [
      "tpr_women:  0.9285714285714286\n",
      "tpr_men:  0.9529411764705882\n",
      "tpr_women:  0.9285714285714286\n",
      "tpr_men:  0.8941176470588236\n"
     ]
    },
    {
     "name": "stderr",
     "output_type": "stream",
     "text": [
      "[I 2024-01-31 14:15:19,170] Trial 207 finished with value: 0.16722689075630248 and parameters: {'threshold_men': 0.46, 'threshold_women': 0.49}. Best is trial 50 with value: 0.024369747899159577.\n",
      "[I 2024-01-31 14:15:19,256] Trial 208 pruned. \n"
     ]
    },
    {
     "name": "stdout",
     "output_type": "stream",
     "text": [
      "tpr_women:  0.7857142857142857\n",
      "tpr_men:  0.9529411764705882\n"
     ]
    },
    {
     "name": "stderr",
     "output_type": "stream",
     "text": [
      "[I 2024-01-31 14:15:19,382] Trial 209 finished with value: 0.04789915966386549 and parameters: {'threshold_men': 0.45, 'threshold_women': 0.47000000000000003}. Best is trial 50 with value: 0.024369747899159577.\n",
      "[I 2024-01-31 14:15:19,509] Trial 210 finished with value: 0.024369747899159577 and parameters: {'threshold_men': 0.46, 'threshold_women': 0.48000000000000004}. Best is trial 50 with value: 0.024369747899159577.\n"
     ]
    },
    {
     "name": "stdout",
     "output_type": "stream",
     "text": [
      "tpr_women:  0.9285714285714286\n",
      "tpr_men:  0.9764705882352941\n",
      "tpr_women:  0.9285714285714286\n",
      "tpr_men:  0.9529411764705882\n"
     ]
    },
    {
     "name": "stderr",
     "output_type": "stream",
     "text": [
      "[I 2024-01-31 14:15:19,635] Trial 211 finished with value: 0.024369747899159577 and parameters: {'threshold_men': 0.47000000000000003, 'threshold_women': 0.47000000000000003}. Best is trial 50 with value: 0.024369747899159577.\n",
      "[I 2024-01-31 14:15:19,722] Trial 212 pruned. \n"
     ]
    },
    {
     "name": "stdout",
     "output_type": "stream",
     "text": [
      "tpr_women:  0.9285714285714286\n",
      "tpr_men:  0.9529411764705882\n"
     ]
    },
    {
     "name": "stderr",
     "output_type": "stream",
     "text": [
      "[I 2024-01-31 14:15:19,856] Trial 213 finished with value: 0.024369747899159577 and parameters: {'threshold_men': 0.46, 'threshold_women': 0.47000000000000003}. Best is trial 50 with value: 0.024369747899159577.\n",
      "[I 2024-01-31 14:15:19,984] Trial 214 finished with value: 0.03445378151260503 and parameters: {'threshold_men': 0.48000000000000004, 'threshold_women': 0.48000000000000004}. Best is trial 50 with value: 0.024369747899159577.\n"
     ]
    },
    {
     "name": "stdout",
     "output_type": "stream",
     "text": [
      "tpr_women:  0.9285714285714286\n",
      "tpr_men:  0.9529411764705882\n",
      "tpr_women:  0.9285714285714286\n",
      "tpr_men:  0.8941176470588236\n"
     ]
    },
    {
     "name": "stderr",
     "output_type": "stream",
     "text": [
      "[I 2024-01-31 14:15:20,072] Trial 215 pruned. \n",
      "[I 2024-01-31 14:15:20,198] Trial 216 finished with value: 0.024369747899159577 and parameters: {'threshold_men': 0.47000000000000003, 'threshold_women': 0.47000000000000003}. Best is trial 50 with value: 0.024369747899159577.\n",
      "[I 2024-01-31 14:15:20,328] Trial 217 finished with value: 0.024369747899159577 and parameters: {'threshold_men': 0.46, 'threshold_women': 0.48000000000000004}. Best is trial 50 with value: 0.024369747899159577.\n"
     ]
    },
    {
     "name": "stdout",
     "output_type": "stream",
     "text": [
      "tpr_women:  0.9285714285714286\n",
      "tpr_men:  0.9529411764705882\n",
      "tpr_women:  0.9285714285714286\n",
      "tpr_men:  0.9529411764705882\n"
     ]
    },
    {
     "name": "stderr",
     "output_type": "stream",
     "text": [
      "[I 2024-01-31 14:15:20,462] Trial 218 finished with value: 0.10840336134453787 and parameters: {'threshold_men': 0.48000000000000004, 'threshold_women': 0.49}. Best is trial 50 with value: 0.024369747899159577.\n",
      "[I 2024-01-31 14:15:20,590] Trial 219 finished with value: 0.024369747899159577 and parameters: {'threshold_men': 0.46, 'threshold_women': 0.47000000000000003}. Best is trial 50 with value: 0.024369747899159577.\n"
     ]
    },
    {
     "name": "stdout",
     "output_type": "stream",
     "text": [
      "tpr_women:  0.7857142857142857\n",
      "tpr_men:  0.8941176470588236\n",
      "tpr_women:  0.9285714285714286\n",
      "tpr_men:  0.9529411764705882\n"
     ]
    },
    {
     "name": "stderr",
     "output_type": "stream",
     "text": [
      "[I 2024-01-31 14:15:20,720] Trial 220 finished with value: 0.024369747899159577 and parameters: {'threshold_men': 0.47000000000000003, 'threshold_women': 0.47000000000000003}. Best is trial 50 with value: 0.024369747899159577.\n",
      "[I 2024-01-31 14:15:20,845] Trial 221 finished with value: 0.024369747899159577 and parameters: {'threshold_men': 0.46, 'threshold_women': 0.47000000000000003}. Best is trial 50 with value: 0.024369747899159577.\n"
     ]
    },
    {
     "name": "stdout",
     "output_type": "stream",
     "text": [
      "tpr_women:  0.9285714285714286\n",
      "tpr_men:  0.9529411764705882\n",
      "tpr_women:  0.9285714285714286\n",
      "tpr_men:  0.9529411764705882\n"
     ]
    },
    {
     "name": "stderr",
     "output_type": "stream",
     "text": [
      "[I 2024-01-31 14:15:20,931] Trial 222 pruned. \n",
      "[I 2024-01-31 14:15:21,056] Trial 223 finished with value: 0.03445378151260503 and parameters: {'threshold_men': 0.48000000000000004, 'threshold_women': 0.47000000000000003}. Best is trial 50 with value: 0.024369747899159577.\n",
      "[I 2024-01-31 14:15:21,181] Trial 224 finished with value: 0.024369747899159577 and parameters: {'threshold_men': 0.47000000000000003, 'threshold_women': 0.48000000000000004}. Best is trial 50 with value: 0.024369747899159577.\n"
     ]
    },
    {
     "name": "stdout",
     "output_type": "stream",
     "text": [
      "tpr_women:  0.9285714285714286\n",
      "tpr_men:  0.8941176470588236\n",
      "tpr_women:  0.9285714285714286\n",
      "tpr_men:  0.9529411764705882\n"
     ]
    },
    {
     "name": "stderr",
     "output_type": "stream",
     "text": [
      "[I 2024-01-31 14:15:21,272] Trial 225 pruned. \n",
      "[I 2024-01-31 14:15:21,398] Trial 226 finished with value: 0.04789915966386549 and parameters: {'threshold_men': 0.45, 'threshold_women': 0.48000000000000004}. Best is trial 50 with value: 0.024369747899159577.\n",
      "[I 2024-01-31 14:15:21,525] Trial 227 finished with value: 0.024369747899159577 and parameters: {'threshold_men': 0.47000000000000003, 'threshold_women': 0.47000000000000003}. Best is trial 50 with value: 0.024369747899159577.\n"
     ]
    },
    {
     "name": "stdout",
     "output_type": "stream",
     "text": [
      "tpr_women:  0.9285714285714286\n",
      "tpr_men:  0.9764705882352941\n",
      "tpr_women:  0.9285714285714286\n",
      "tpr_men:  0.9529411764705882\n"
     ]
    },
    {
     "name": "stderr",
     "output_type": "stream",
     "text": [
      "[I 2024-01-31 14:15:21,655] Trial 228 finished with value: 0.024369747899159577 and parameters: {'threshold_men': 0.46, 'threshold_women': 0.47000000000000003}. Best is trial 50 with value: 0.024369747899159577.\n",
      "[I 2024-01-31 14:15:21,783] Trial 229 finished with value: 0.024369747899159577 and parameters: {'threshold_men': 0.47000000000000003, 'threshold_women': 0.48000000000000004}. Best is trial 50 with value: 0.024369747899159577.\n"
     ]
    },
    {
     "name": "stdout",
     "output_type": "stream",
     "text": [
      "tpr_women:  0.9285714285714286\n",
      "tpr_men:  0.9529411764705882\n",
      "tpr_women:  0.9285714285714286\n",
      "tpr_men:  0.9529411764705882\n"
     ]
    },
    {
     "name": "stderr",
     "output_type": "stream",
     "text": [
      "[I 2024-01-31 14:15:21,873] Trial 230 pruned. \n",
      "[I 2024-01-31 14:15:21,998] Trial 231 finished with value: 0.024369747899159577 and parameters: {'threshold_men': 0.46, 'threshold_women': 0.47000000000000003}. Best is trial 50 with value: 0.024369747899159577.\n",
      "[I 2024-01-31 14:15:22,088] Trial 232 pruned. \n"
     ]
    },
    {
     "name": "stdout",
     "output_type": "stream",
     "text": [
      "tpr_women:  0.9285714285714286\n",
      "tpr_men:  0.9529411764705882\n"
     ]
    },
    {
     "name": "stderr",
     "output_type": "stream",
     "text": [
      "[I 2024-01-31 14:15:22,214] Trial 233 finished with value: 0.024369747899159577 and parameters: {'threshold_men': 0.47000000000000003, 'threshold_women': 0.47000000000000003}. Best is trial 50 with value: 0.024369747899159577.\n",
      "[I 2024-01-31 14:15:22,338] Trial 234 finished with value: 0.1907563025210084 and parameters: {'threshold_men': 0.45, 'threshold_women': 0.49}. Best is trial 50 with value: 0.024369747899159577.\n"
     ]
    },
    {
     "name": "stdout",
     "output_type": "stream",
     "text": [
      "tpr_women:  0.9285714285714286\n",
      "tpr_men:  0.9529411764705882\n",
      "tpr_women:  0.7857142857142857\n",
      "tpr_men:  0.9764705882352941\n"
     ]
    },
    {
     "name": "stderr",
     "output_type": "stream",
     "text": [
      "[I 2024-01-31 14:15:22,463] Trial 235 finished with value: 0.657983193277311 and parameters: {'threshold_men': 0.6000000000000001, 'threshold_women': 0.48000000000000004}. Best is trial 50 with value: 0.024369747899159577.\n",
      "[I 2024-01-31 14:15:22,591] Trial 236 finished with value: 0.024369747899159577 and parameters: {'threshold_men': 0.46, 'threshold_women': 0.48000000000000004}. Best is trial 50 with value: 0.024369747899159577.\n"
     ]
    },
    {
     "name": "stdout",
     "output_type": "stream",
     "text": [
      "tpr_women:  0.9285714285714286\n",
      "tpr_men:  0.27058823529411763\n",
      "tpr_women:  0.9285714285714286\n",
      "tpr_men:  0.9529411764705882\n"
     ]
    },
    {
     "name": "stderr",
     "output_type": "stream",
     "text": [
      "[I 2024-01-31 14:15:22,678] Trial 237 pruned. \n",
      "[I 2024-01-31 14:15:22,801] Trial 238 finished with value: 0.04789915966386549 and parameters: {'threshold_men': 0.44, 'threshold_women': 0.47000000000000003}. Best is trial 50 with value: 0.024369747899159577.\n",
      "[I 2024-01-31 14:15:22,935] Trial 239 finished with value: 0.024369747899159577 and parameters: {'threshold_men': 0.46, 'threshold_women': 0.47000000000000003}. Best is trial 50 with value: 0.024369747899159577.\n"
     ]
    },
    {
     "name": "stdout",
     "output_type": "stream",
     "text": [
      "tpr_women:  0.9285714285714286\n",
      "tpr_men:  0.9764705882352941\n",
      "tpr_women:  0.9285714285714286\n",
      "tpr_men:  0.9529411764705882\n"
     ]
    },
    {
     "name": "stderr",
     "output_type": "stream",
     "text": [
      "[I 2024-01-31 14:15:23,026] Trial 240 pruned. \n",
      "[I 2024-01-31 14:15:23,152] Trial 241 finished with value: 0.024369747899159577 and parameters: {'threshold_men': 0.46, 'threshold_women': 0.48000000000000004}. Best is trial 50 with value: 0.024369747899159577.\n",
      "[I 2024-01-31 14:15:23,284] Trial 242 finished with value: 0.024369747899159577 and parameters: {'threshold_men': 0.47000000000000003, 'threshold_women': 0.48000000000000004}. Best is trial 50 with value: 0.024369747899159577.\n"
     ]
    },
    {
     "name": "stdout",
     "output_type": "stream",
     "text": [
      "tpr_women:  0.9285714285714286\n",
      "tpr_men:  0.9529411764705882\n",
      "tpr_women:  0.9285714285714286\n",
      "tpr_men:  0.9529411764705882\n"
     ]
    },
    {
     "name": "stderr",
     "output_type": "stream",
     "text": [
      "[I 2024-01-31 14:15:23,416] Trial 243 finished with value: 0.024369747899159577 and parameters: {'threshold_men': 0.46, 'threshold_women': 0.47000000000000003}. Best is trial 50 with value: 0.024369747899159577.\n",
      "[I 2024-01-31 14:15:23,542] Trial 244 finished with value: 0.024369747899159577 and parameters: {'threshold_men': 0.47000000000000003, 'threshold_women': 0.48000000000000004}. Best is trial 50 with value: 0.024369747899159577.\n"
     ]
    },
    {
     "name": "stdout",
     "output_type": "stream",
     "text": [
      "tpr_women:  0.9285714285714286\n",
      "tpr_men:  0.9529411764705882\n",
      "tpr_women:  0.9285714285714286\n",
      "tpr_men:  0.9529411764705882\n"
     ]
    },
    {
     "name": "stderr",
     "output_type": "stream",
     "text": [
      "[I 2024-01-31 14:15:23,674] Trial 245 finished with value: 0.024369747899159577 and parameters: {'threshold_men': 0.47000000000000003, 'threshold_women': 0.47000000000000003}. Best is trial 50 with value: 0.024369747899159577.\n",
      "[I 2024-01-31 14:15:23,800] Trial 246 finished with value: 0.16722689075630248 and parameters: {'threshold_men': 0.46, 'threshold_women': 0.49}. Best is trial 50 with value: 0.024369747899159577.\n"
     ]
    },
    {
     "name": "stdout",
     "output_type": "stream",
     "text": [
      "tpr_women:  0.9285714285714286\n",
      "tpr_men:  0.9529411764705882\n",
      "tpr_women:  0.7857142857142857\n",
      "tpr_men:  0.9529411764705882\n"
     ]
    },
    {
     "name": "stderr",
     "output_type": "stream",
     "text": [
      "[I 2024-01-31 14:15:23,930] Trial 247 finished with value: 0.03445378151260503 and parameters: {'threshold_men': 0.48000000000000004, 'threshold_women': 0.47000000000000003}. Best is trial 50 with value: 0.024369747899159577.\n",
      "[I 2024-01-31 14:15:24,059] Trial 248 finished with value: 0.04789915966386549 and parameters: {'threshold_men': 0.45, 'threshold_women': 0.48000000000000004}. Best is trial 50 with value: 0.024369747899159577.\n"
     ]
    },
    {
     "name": "stdout",
     "output_type": "stream",
     "text": [
      "tpr_women:  0.9285714285714286\n",
      "tpr_men:  0.8941176470588236\n",
      "tpr_women:  0.9285714285714286\n",
      "tpr_men:  0.9764705882352941\n"
     ]
    },
    {
     "name": "stderr",
     "output_type": "stream",
     "text": [
      "[I 2024-01-31 14:15:24,146] Trial 249 pruned. \n",
      "[I 2024-01-31 14:15:24,274] Trial 250 finished with value: 0.16722689075630248 and parameters: {'threshold_men': 0.47000000000000003, 'threshold_women': 0.49}. Best is trial 50 with value: 0.024369747899159577.\n",
      "[I 2024-01-31 14:15:24,403] Trial 251 finished with value: 0.03445378151260503 and parameters: {'threshold_men': 0.48000000000000004, 'threshold_women': 0.47000000000000003}. Best is trial 50 with value: 0.024369747899159577.\n"
     ]
    },
    {
     "name": "stdout",
     "output_type": "stream",
     "text": [
      "tpr_women:  0.7857142857142857\n",
      "tpr_men:  0.9529411764705882\n",
      "tpr_women:  0.9285714285714286\n",
      "tpr_men:  0.8941176470588236\n"
     ]
    },
    {
     "name": "stderr",
     "output_type": "stream",
     "text": [
      "[I 2024-01-31 14:15:24,530] Trial 252 finished with value: 0.04789915966386549 and parameters: {'threshold_men': 0.45, 'threshold_women': 0.48000000000000004}. Best is trial 50 with value: 0.024369747899159577.\n",
      "[I 2024-01-31 14:15:24,664] Trial 253 finished with value: 0.024369747899159577 and parameters: {'threshold_men': 0.46, 'threshold_women': 0.47000000000000003}. Best is trial 50 with value: 0.024369747899159577.\n"
     ]
    },
    {
     "name": "stdout",
     "output_type": "stream",
     "text": [
      "tpr_women:  0.9285714285714286\n",
      "tpr_men:  0.9764705882352941\n",
      "tpr_women:  0.9285714285714286\n",
      "tpr_men:  0.9529411764705882\n"
     ]
    },
    {
     "name": "stderr",
     "output_type": "stream",
     "text": [
      "[I 2024-01-31 14:15:24,756] Trial 254 pruned. \n",
      "[I 2024-01-31 14:15:24,890] Trial 255 finished with value: 0.06974789915966395 and parameters: {'threshold_men': 0.49, 'threshold_women': 0.48000000000000004}. Best is trial 50 with value: 0.024369747899159577.\n",
      "[I 2024-01-31 14:15:25,021] Trial 256 finished with value: 0.024369747899159577 and parameters: {'threshold_men': 0.46, 'threshold_women': 0.47000000000000003}. Best is trial 50 with value: 0.024369747899159577.\n"
     ]
    },
    {
     "name": "stdout",
     "output_type": "stream",
     "text": [
      "tpr_women:  0.9285714285714286\n",
      "tpr_men:  0.8588235294117647\n",
      "tpr_women:  0.9285714285714286\n",
      "tpr_men:  0.9529411764705882\n"
     ]
    },
    {
     "name": "stderr",
     "output_type": "stream",
     "text": [
      "[I 2024-01-31 14:15:25,149] Trial 257 finished with value: 0.03445378151260503 and parameters: {'threshold_men': 0.48000000000000004, 'threshold_women': 0.48000000000000004}. Best is trial 50 with value: 0.024369747899159577.\n",
      "[I 2024-01-31 14:15:25,239] Trial 258 pruned. \n"
     ]
    },
    {
     "name": "stdout",
     "output_type": "stream",
     "text": [
      "tpr_women:  0.9285714285714286\n",
      "tpr_men:  0.8941176470588236\n"
     ]
    },
    {
     "name": "stderr",
     "output_type": "stream",
     "text": [
      "[I 2024-01-31 14:15:25,331] Trial 259 pruned. \n",
      "[I 2024-01-31 14:15:25,466] Trial 260 finished with value: 0.446218487394958 and parameters: {'threshold_men': 0.56, 'threshold_women': 0.47000000000000003}. Best is trial 50 with value: 0.024369747899159577.\n",
      "[I 2024-01-31 14:15:25,603] Trial 261 finished with value: 0.04789915966386549 and parameters: {'threshold_men': 0.45, 'threshold_women': 0.47000000000000003}. Best is trial 50 with value: 0.024369747899159577.\n"
     ]
    },
    {
     "name": "stdout",
     "output_type": "stream",
     "text": [
      "tpr_women:  0.9285714285714286\n",
      "tpr_men:  0.4823529411764706\n",
      "tpr_women:  0.9285714285714286\n",
      "tpr_men:  0.9764705882352941\n"
     ]
    },
    {
     "name": "stderr",
     "output_type": "stream",
     "text": [
      "[I 2024-01-31 14:15:25,743] Trial 262 finished with value: 0.16722689075630248 and parameters: {'threshold_men': 0.47000000000000003, 'threshold_women': 0.49}. Best is trial 50 with value: 0.024369747899159577.\n"
     ]
    },
    {
     "name": "stdout",
     "output_type": "stream",
     "text": [
      "tpr_women:  0.7857142857142857\n",
      "tpr_men:  0.9529411764705882\n",
      "tpr_women:  0.9285714285714286\n",
      "tpr_men:  0.9529411764705882\n"
     ]
    },
    {
     "name": "stderr",
     "output_type": "stream",
     "text": [
      "[I 2024-01-31 14:15:25,885] Trial 263 finished with value: 0.024369747899159577 and parameters: {'threshold_men': 0.47000000000000003, 'threshold_women': 0.48000000000000004}. Best is trial 50 with value: 0.024369747899159577.\n",
      "[I 2024-01-31 14:15:25,976] Trial 264 pruned. \n",
      "[I 2024-01-31 14:15:26,069] Trial 265 pruned. \n",
      "[I 2024-01-31 14:15:26,209] Trial 266 finished with value: 0.04789915966386549 and parameters: {'threshold_men': 0.45, 'threshold_women': 0.47000000000000003}. Best is trial 50 with value: 0.024369747899159577.\n",
      "[I 2024-01-31 14:15:26,342] Trial 267 finished with value: 0.16722689075630248 and parameters: {'threshold_men': 0.47000000000000003, 'threshold_women': 0.49}. Best is trial 50 with value: 0.024369747899159577.\n"
     ]
    },
    {
     "name": "stdout",
     "output_type": "stream",
     "text": [
      "tpr_women:  0.9285714285714286\n",
      "tpr_men:  0.9764705882352941\n",
      "tpr_women:  0.7857142857142857\n",
      "tpr_men:  0.9529411764705882\n"
     ]
    },
    {
     "name": "stderr",
     "output_type": "stream",
     "text": [
      "[I 2024-01-31 14:15:26,479] Trial 268 finished with value: 0.024369747899159577 and parameters: {'threshold_men': 0.46, 'threshold_women': 0.47000000000000003}. Best is trial 50 with value: 0.024369747899159577.\n",
      "[I 2024-01-31 14:15:26,613] Trial 269 finished with value: 0.04789915966386549 and parameters: {'threshold_men': 0.44, 'threshold_women': 0.48000000000000004}. Best is trial 50 with value: 0.024369747899159577.\n"
     ]
    },
    {
     "name": "stdout",
     "output_type": "stream",
     "text": [
      "tpr_women:  0.9285714285714286\n",
      "tpr_men:  0.9529411764705882\n",
      "tpr_women:  0.9285714285714286\n",
      "tpr_men:  0.9764705882352941\n"
     ]
    },
    {
     "name": "stderr",
     "output_type": "stream",
     "text": [
      "[I 2024-01-31 14:15:26,704] Trial 270 pruned. \n",
      "[I 2024-01-31 14:15:26,795] Trial 271 pruned. \n",
      "[I 2024-01-31 14:15:26,928] Trial 272 finished with value: 0.024369747899159577 and parameters: {'threshold_men': 0.46, 'threshold_women': 0.48000000000000004}. Best is trial 50 with value: 0.024369747899159577.\n",
      "[I 2024-01-31 14:15:27,063] Trial 273 finished with value: 0.024369747899159577 and parameters: {'threshold_men': 0.47000000000000003, 'threshold_women': 0.47000000000000003}. Best is trial 50 with value: 0.024369747899159577.\n"
     ]
    },
    {
     "name": "stdout",
     "output_type": "stream",
     "text": [
      "tpr_women:  0.9285714285714286\n",
      "tpr_men:  0.9529411764705882\n",
      "tpr_women:  0.9285714285714286\n",
      "tpr_men:  0.9529411764705882\n"
     ]
    },
    {
     "name": "stderr",
     "output_type": "stream",
     "text": [
      "[I 2024-01-31 14:15:27,156] Trial 274 pruned. \n",
      "[I 2024-01-31 14:15:27,287] Trial 275 finished with value: 0.03445378151260503 and parameters: {'threshold_men': 0.48000000000000004, 'threshold_women': 0.48000000000000004}. Best is trial 50 with value: 0.024369747899159577.\n",
      "[I 2024-01-31 14:15:27,423] Trial 276 finished with value: 0.16722689075630248 and parameters: {'threshold_men': 0.46, 'threshold_women': 0.49}. Best is trial 50 with value: 0.024369747899159577.\n"
     ]
    },
    {
     "name": "stdout",
     "output_type": "stream",
     "text": [
      "tpr_women:  0.9285714285714286\n",
      "tpr_men:  0.8941176470588236\n",
      "tpr_women:  0.7857142857142857\n",
      "tpr_men:  0.9529411764705882\n"
     ]
    },
    {
     "name": "stderr",
     "output_type": "stream",
     "text": [
      "[I 2024-01-31 14:15:27,558] Trial 277 finished with value: 0.024369747899159577 and parameters: {'threshold_men': 0.47000000000000003, 'threshold_women': 0.47000000000000003}. Best is trial 50 with value: 0.024369747899159577.\n",
      "[I 2024-01-31 14:15:27,693] Trial 278 finished with value: 0.024369747899159577 and parameters: {'threshold_men': 0.47000000000000003, 'threshold_women': 0.48000000000000004}. Best is trial 50 with value: 0.024369747899159577.\n"
     ]
    },
    {
     "name": "stdout",
     "output_type": "stream",
     "text": [
      "tpr_women:  0.9285714285714286\n",
      "tpr_men:  0.9529411764705882\n",
      "tpr_women:  0.9285714285714286\n",
      "tpr_men:  0.9529411764705882\n"
     ]
    },
    {
     "name": "stderr",
     "output_type": "stream",
     "text": [
      "[I 2024-01-31 14:15:27,834] Trial 279 finished with value: 0.024369747899159577 and parameters: {'threshold_men': 0.46, 'threshold_women': 0.47000000000000003}. Best is trial 50 with value: 0.024369747899159577.\n",
      "[I 2024-01-31 14:15:27,927] Trial 280 pruned. \n"
     ]
    },
    {
     "name": "stdout",
     "output_type": "stream",
     "text": [
      "tpr_women:  0.9285714285714286\n",
      "tpr_men:  0.9529411764705882\n"
     ]
    },
    {
     "name": "stderr",
     "output_type": "stream",
     "text": [
      "[I 2024-01-31 14:15:28,062] Trial 281 finished with value: 0.024369747899159577 and parameters: {'threshold_men': 0.47000000000000003, 'threshold_women': 0.47000000000000003}. Best is trial 50 with value: 0.024369747899159577.\n",
      "[I 2024-01-31 14:15:28,199] Trial 282 finished with value: 0.25126050420168067 and parameters: {'threshold_men': 0.48000000000000004, 'threshold_women': 0.5}. Best is trial 50 with value: 0.024369747899159577.\n"
     ]
    },
    {
     "name": "stdout",
     "output_type": "stream",
     "text": [
      "tpr_women:  0.9285714285714286\n",
      "tpr_men:  0.9529411764705882\n",
      "tpr_women:  0.6428571428571429\n",
      "tpr_men:  0.8941176470588236\n"
     ]
    },
    {
     "name": "stderr",
     "output_type": "stream",
     "text": [
      "[I 2024-01-31 14:15:28,341] Trial 283 finished with value: 0.024369747899159577 and parameters: {'threshold_men': 0.46, 'threshold_women': 0.48000000000000004}. Best is trial 50 with value: 0.024369747899159577.\n",
      "[I 2024-01-31 14:15:28,436] Trial 284 pruned. \n"
     ]
    },
    {
     "name": "stdout",
     "output_type": "stream",
     "text": [
      "tpr_women:  0.9285714285714286\n",
      "tpr_men:  0.9529411764705882\n"
     ]
    },
    {
     "name": "stderr",
     "output_type": "stream",
     "text": [
      "[I 2024-01-31 14:15:28,579] Trial 285 finished with value: 0.04789915966386549 and parameters: {'threshold_men': 0.45, 'threshold_women': 0.48000000000000004}. Best is trial 50 with value: 0.024369747899159577.\n"
     ]
    },
    {
     "name": "stdout",
     "output_type": "stream",
     "text": [
      "tpr_women:  0.9285714285714286\n",
      "tpr_men:  0.9764705882352941\n",
      "tpr_women:  0.35714285714285715\n",
      "tpr_men:  0.8941176470588236\n"
     ]
    },
    {
     "name": "stderr",
     "output_type": "stream",
     "text": [
      "[I 2024-01-31 14:15:28,721] Trial 286 finished with value: 0.5369747899159665 and parameters: {'threshold_men': 0.48000000000000004, 'threshold_women': 0.55}. Best is trial 50 with value: 0.024369747899159577.\n",
      "[I 2024-01-31 14:15:28,815] Trial 287 pruned. \n",
      "[I 2024-01-31 14:15:28,959] Trial 288 finished with value: 0.16722689075630248 and parameters: {'threshold_men': 0.46, 'threshold_women': 0.49}. Best is trial 50 with value: 0.024369747899159577.\n",
      "[I 2024-01-31 14:15:29,056] Trial 289 pruned. \n"
     ]
    },
    {
     "name": "stdout",
     "output_type": "stream",
     "text": [
      "tpr_women:  0.7857142857142857\n",
      "tpr_men:  0.9529411764705882\n"
     ]
    },
    {
     "name": "stderr",
     "output_type": "stream",
     "text": [
      "[I 2024-01-31 14:15:29,204] Trial 290 finished with value: 0.03445378151260503 and parameters: {'threshold_men': 0.48000000000000004, 'threshold_women': 0.47000000000000003}. Best is trial 50 with value: 0.024369747899159577.\n",
      "[I 2024-01-31 14:15:29,302] Trial 291 pruned. \n"
     ]
    },
    {
     "name": "stdout",
     "output_type": "stream",
     "text": [
      "tpr_women:  0.9285714285714286\n",
      "tpr_men:  0.8941176470588236\n"
     ]
    },
    {
     "name": "stderr",
     "output_type": "stream",
     "text": [
      "[I 2024-01-31 14:15:29,447] Trial 292 finished with value: 0.024369747899159577 and parameters: {'threshold_men': 0.47000000000000003, 'threshold_women': 0.47000000000000003}. Best is trial 50 with value: 0.024369747899159577.\n",
      "[I 2024-01-31 14:15:29,542] Trial 293 pruned. \n"
     ]
    },
    {
     "name": "stdout",
     "output_type": "stream",
     "text": [
      "tpr_women:  0.9285714285714286\n",
      "tpr_men:  0.9529411764705882\n"
     ]
    },
    {
     "name": "stderr",
     "output_type": "stream",
     "text": [
      "[I 2024-01-31 14:15:29,694] Trial 294 finished with value: 0.04789915966386549 and parameters: {'threshold_men': 0.45, 'threshold_women': 0.48000000000000004}. Best is trial 50 with value: 0.024369747899159577.\n"
     ]
    },
    {
     "name": "stdout",
     "output_type": "stream",
     "text": [
      "tpr_women:  0.9285714285714286\n",
      "tpr_men:  0.9764705882352941\n",
      "tpr_women:  0.9285714285714286\n",
      "tpr_men:  0.9529411764705882\n"
     ]
    },
    {
     "name": "stderr",
     "output_type": "stream",
     "text": [
      "[I 2024-01-31 14:15:29,839] Trial 295 finished with value: 0.024369747899159577 and parameters: {'threshold_men': 0.46, 'threshold_women': 0.47000000000000003}. Best is trial 50 with value: 0.024369747899159577.\n",
      "[I 2024-01-31 14:15:29,986] Trial 296 finished with value: 0.07310924369747895 and parameters: {'threshold_men': 0.49, 'threshold_women': 0.49}. Best is trial 50 with value: 0.024369747899159577.\n"
     ]
    },
    {
     "name": "stdout",
     "output_type": "stream",
     "text": [
      "tpr_women:  0.7857142857142857\n",
      "tpr_men:  0.8588235294117647\n",
      "tpr_women:  0.9285714285714286\n",
      "tpr_men:  0.9529411764705882\n"
     ]
    },
    {
     "name": "stderr",
     "output_type": "stream",
     "text": [
      "[I 2024-01-31 14:15:30,128] Trial 297 finished with value: 0.024369747899159577 and parameters: {'threshold_men': 0.46, 'threshold_women': 0.48000000000000004}. Best is trial 50 with value: 0.024369747899159577.\n",
      "[I 2024-01-31 14:15:30,226] Trial 298 pruned. \n",
      "[I 2024-01-31 14:15:30,320] Trial 299 pruned. \n",
      "[I 2024-01-31 14:15:30,465] Trial 300 finished with value: 0.03445378151260503 and parameters: {'threshold_men': 0.48000000000000004, 'threshold_women': 0.47000000000000003}. Best is trial 50 with value: 0.024369747899159577.\n"
     ]
    },
    {
     "name": "stdout",
     "output_type": "stream",
     "text": [
      "tpr_women:  0.9285714285714286\n",
      "tpr_men:  0.8941176470588236\n",
      "tpr_women:  0.9285714285714286\n",
      "tpr_men:  0.9529411764705882\n"
     ]
    },
    {
     "name": "stderr",
     "output_type": "stream",
     "text": [
      "[I 2024-01-31 14:15:30,607] Trial 301 finished with value: 0.024369747899159577 and parameters: {'threshold_men': 0.47000000000000003, 'threshold_women': 0.48000000000000004}. Best is trial 50 with value: 0.024369747899159577.\n",
      "[I 2024-01-31 14:15:30,750] Trial 302 finished with value: 0.024369747899159577 and parameters: {'threshold_men': 0.47000000000000003, 'threshold_women': 0.47000000000000003}. Best is trial 50 with value: 0.024369747899159577.\n",
      "[I 2024-01-31 14:15:30,889] Trial 303 finished with value: 0.04789915966386549 and parameters: {'threshold_men': 0.45, 'threshold_women': 0.47000000000000003}. Best is trial 50 with value: 0.024369747899159577.\n"
     ]
    },
    {
     "name": "stdout",
     "output_type": "stream",
     "text": [
      "tpr_women:  0.9285714285714286\n",
      "tpr_men:  0.9529411764705882\n",
      "tpr_women:  0.9285714285714286\n",
      "tpr_men:  0.9764705882352941\n"
     ]
    },
    {
     "name": "stderr",
     "output_type": "stream",
     "text": [
      "[I 2024-01-31 14:15:30,986] Trial 304 pruned. \n",
      "[I 2024-01-31 14:15:31,125] Trial 305 finished with value: 0.10840336134453787 and parameters: {'threshold_men': 0.48000000000000004, 'threshold_women': 0.49}. Best is trial 50 with value: 0.024369747899159577.\n",
      "[I 2024-01-31 14:15:31,260] Trial 306 finished with value: 0.024369747899159577 and parameters: {'threshold_men': 0.46, 'threshold_women': 0.48000000000000004}. Best is trial 50 with value: 0.024369747899159577.\n"
     ]
    },
    {
     "name": "stdout",
     "output_type": "stream",
     "text": [
      "tpr_women:  0.7857142857142857\n",
      "tpr_men:  0.8941176470588236\n",
      "tpr_women:  0.9285714285714286\n",
      "tpr_men:  0.9529411764705882\n"
     ]
    },
    {
     "name": "stderr",
     "output_type": "stream",
     "text": [
      "[I 2024-01-31 14:15:31,394] Trial 307 finished with value: 0.024369747899159577 and parameters: {'threshold_men': 0.47000000000000003, 'threshold_women': 0.47000000000000003}. Best is trial 50 with value: 0.024369747899159577.\n",
      "[I 2024-01-31 14:15:31,486] Trial 308 pruned. \n"
     ]
    },
    {
     "name": "stdout",
     "output_type": "stream",
     "text": [
      "tpr_women:  0.9285714285714286\n",
      "tpr_men:  0.9529411764705882\n"
     ]
    },
    {
     "name": "stderr",
     "output_type": "stream",
     "text": [
      "[I 2024-01-31 14:15:31,631] Trial 309 finished with value: 0.3336134453781512 and parameters: {'threshold_men': 0.45, 'threshold_women': 0.5}. Best is trial 50 with value: 0.024369747899159577.\n"
     ]
    },
    {
     "name": "stdout",
     "output_type": "stream",
     "text": [
      "tpr_women:  0.6428571428571429\n",
      "tpr_men:  0.9764705882352941\n",
      "tpr_women:  0.9285714285714286\n",
      "tpr_men:  0.9529411764705882\n"
     ]
    },
    {
     "name": "stderr",
     "output_type": "stream",
     "text": [
      "[I 2024-01-31 14:15:31,775] Trial 310 finished with value: 0.024369747899159577 and parameters: {'threshold_men': 0.46, 'threshold_women': 0.48000000000000004}. Best is trial 50 with value: 0.024369747899159577.\n",
      "[I 2024-01-31 14:15:31,870] Trial 311 pruned. \n",
      "[I 2024-01-31 14:15:32,013] Trial 312 finished with value: 0.024369747899159577 and parameters: {'threshold_men': 0.47000000000000003, 'threshold_women': 0.47000000000000003}. Best is trial 50 with value: 0.024369747899159577.\n",
      "[I 2024-01-31 14:15:32,106] Trial 313 pruned. \n"
     ]
    },
    {
     "name": "stdout",
     "output_type": "stream",
     "text": [
      "tpr_women:  0.9285714285714286\n",
      "tpr_men:  0.9529411764705882\n"
     ]
    },
    {
     "name": "stderr",
     "output_type": "stream",
     "text": [
      "[I 2024-01-31 14:15:32,247] Trial 314 finished with value: 0.1907563025210084 and parameters: {'threshold_men': 0.44, 'threshold_women': 0.49}. Best is trial 50 with value: 0.024369747899159577.\n",
      "[I 2024-01-31 14:15:32,380] Trial 315 finished with value: 0.04789915966386549 and parameters: {'threshold_men': 0.45, 'threshold_women': 0.48000000000000004}. Best is trial 50 with value: 0.024369747899159577.\n"
     ]
    },
    {
     "name": "stdout",
     "output_type": "stream",
     "text": [
      "tpr_women:  0.7857142857142857\n",
      "tpr_men:  0.9764705882352941\n",
      "tpr_women:  0.9285714285714286\n",
      "tpr_men:  0.9764705882352941\n"
     ]
    },
    {
     "name": "stderr",
     "output_type": "stream",
     "text": [
      "[I 2024-01-31 14:15:32,523] Trial 316 finished with value: 0.03445378151260503 and parameters: {'threshold_men': 0.48000000000000004, 'threshold_women': 0.47000000000000003}. Best is trial 50 with value: 0.024369747899159577.\n",
      "[I 2024-01-31 14:15:32,657] Trial 317 finished with value: 0.024369747899159577 and parameters: {'threshold_men': 0.47000000000000003, 'threshold_women': 0.48000000000000004}. Best is trial 50 with value: 0.024369747899159577.\n"
     ]
    },
    {
     "name": "stdout",
     "output_type": "stream",
     "text": [
      "tpr_women:  0.9285714285714286\n",
      "tpr_men:  0.8941176470588236\n",
      "tpr_women:  0.9285714285714286\n",
      "tpr_men:  0.9529411764705882\n"
     ]
    },
    {
     "name": "stderr",
     "output_type": "stream",
     "text": [
      "[I 2024-01-31 14:15:32,751] Trial 318 pruned. \n",
      "[I 2024-01-31 14:15:32,889] Trial 319 finished with value: 0.024369747899159577 and parameters: {'threshold_men': 0.47000000000000003, 'threshold_women': 0.47000000000000003}. Best is trial 50 with value: 0.024369747899159577.\n",
      "[I 2024-01-31 14:15:33,028] Trial 320 finished with value: 0.04789915966386549 and parameters: {'threshold_men': 0.45, 'threshold_women': 0.47000000000000003}. Best is trial 50 with value: 0.024369747899159577.\n"
     ]
    },
    {
     "name": "stdout",
     "output_type": "stream",
     "text": [
      "tpr_women:  0.9285714285714286\n",
      "tpr_men:  0.9529411764705882\n",
      "tpr_women:  0.9285714285714286\n",
      "tpr_men:  0.9764705882352941\n"
     ]
    },
    {
     "name": "stderr",
     "output_type": "stream",
     "text": [
      "[I 2024-01-31 14:15:33,123] Trial 321 pruned. \n",
      "[I 2024-01-31 14:15:33,263] Trial 322 finished with value: 0.03445378151260503 and parameters: {'threshold_men': 0.48000000000000004, 'threshold_women': 0.48000000000000004}. Best is trial 50 with value: 0.024369747899159577.\n",
      "[I 2024-01-31 14:15:33,403] Trial 323 finished with value: 0.16722689075630248 and parameters: {'threshold_men': 0.47000000000000003, 'threshold_women': 0.49}. Best is trial 50 with value: 0.024369747899159577.\n"
     ]
    },
    {
     "name": "stdout",
     "output_type": "stream",
     "text": [
      "tpr_women:  0.9285714285714286\n",
      "tpr_men:  0.8941176470588236\n",
      "tpr_women:  0.7857142857142857\n",
      "tpr_men:  0.9529411764705882\n"
     ]
    },
    {
     "name": "stderr",
     "output_type": "stream",
     "text": [
      "[I 2024-01-31 14:15:33,500] Trial 324 pruned. \n",
      "[I 2024-01-31 14:15:33,598] Trial 325 pruned. \n",
      "[I 2024-01-31 14:15:33,735] Trial 326 finished with value: 0.024369747899159577 and parameters: {'threshold_men': 0.47000000000000003, 'threshold_women': 0.48000000000000004}. Best is trial 50 with value: 0.024369747899159577.\n",
      "[I 2024-01-31 14:15:33,867] Trial 327 finished with value: 0.03445378151260503 and parameters: {'threshold_men': 0.48000000000000004, 'threshold_women': 0.47000000000000003}. Best is trial 50 with value: 0.024369747899159577.\n"
     ]
    },
    {
     "name": "stdout",
     "output_type": "stream",
     "text": [
      "tpr_women:  0.9285714285714286\n",
      "tpr_men:  0.9529411764705882\n",
      "tpr_women:  0.9285714285714286\n",
      "tpr_men:  0.8941176470588236\n"
     ]
    },
    {
     "name": "stderr",
     "output_type": "stream",
     "text": [
      "[I 2024-01-31 14:15:33,961] Trial 328 pruned. \n",
      "[I 2024-01-31 14:15:34,102] Trial 329 finished with value: 0.04789915966386549 and parameters: {'threshold_men': 0.43000000000000005, 'threshold_women': 0.47000000000000003}. Best is trial 50 with value: 0.024369747899159577.\n"
     ]
    },
    {
     "name": "stdout",
     "output_type": "stream",
     "text": [
      "tpr_women:  0.9285714285714286\n",
      "tpr_men:  0.9764705882352941\n",
      "tpr_women:  0.7857142857142857\n",
      "tpr_men:  0.9764705882352941\n"
     ]
    },
    {
     "name": "stderr",
     "output_type": "stream",
     "text": [
      "[I 2024-01-31 14:15:34,244] Trial 330 finished with value: 0.1907563025210084 and parameters: {'threshold_men': 0.45, 'threshold_women': 0.49}. Best is trial 50 with value: 0.024369747899159577.\n",
      "[I 2024-01-31 14:15:34,340] Trial 331 pruned. \n",
      "[I 2024-01-31 14:15:34,435] Trial 332 pruned. \n",
      "[I 2024-01-31 14:15:34,575] Trial 333 finished with value: 0.06974789915966395 and parameters: {'threshold_men': 0.49, 'threshold_women': 0.47000000000000003}. Best is trial 50 with value: 0.024369747899159577.\n",
      "[I 2024-01-31 14:15:34,714] Trial 334 finished with value: 0.024369747899159577 and parameters: {'threshold_men': 0.47000000000000003, 'threshold_women': 0.48000000000000004}. Best is trial 50 with value: 0.024369747899159577.\n"
     ]
    },
    {
     "name": "stdout",
     "output_type": "stream",
     "text": [
      "tpr_women:  0.9285714285714286\n",
      "tpr_men:  0.8588235294117647\n",
      "tpr_women:  0.9285714285714286\n",
      "tpr_men:  0.9529411764705882\n"
     ]
    },
    {
     "name": "stderr",
     "output_type": "stream",
     "text": [
      "[I 2024-01-31 14:15:34,819] Trial 335 pruned. \n",
      "[I 2024-01-31 14:15:34,959] Trial 336 finished with value: 0.03445378151260503 and parameters: {'threshold_men': 0.48000000000000004, 'threshold_women': 0.47000000000000003}. Best is trial 50 with value: 0.024369747899159577.\n",
      "[I 2024-01-31 14:15:35,091] Trial 337 finished with value: 0.04789915966386549 and parameters: {'threshold_men': 0.44, 'threshold_women': 0.48000000000000004}. Best is trial 50 with value: 0.024369747899159577.\n"
     ]
    },
    {
     "name": "stdout",
     "output_type": "stream",
     "text": [
      "tpr_women:  0.9285714285714286\n",
      "tpr_men:  0.8941176470588236\n",
      "tpr_women:  0.9285714285714286\n",
      "tpr_men:  0.9764705882352941\n"
     ]
    },
    {
     "name": "stderr",
     "output_type": "stream",
     "text": [
      "[I 2024-01-31 14:15:35,185] Trial 338 pruned. \n",
      "[I 2024-01-31 14:15:35,318] Trial 339 finished with value: 0.04789915966386549 and parameters: {'threshold_men': 0.45, 'threshold_women': 0.47000000000000003}. Best is trial 50 with value: 0.024369747899159577.\n",
      "[I 2024-01-31 14:15:35,447] Trial 340 finished with value: 0.16722689075630248 and parameters: {'threshold_men': 0.46, 'threshold_women': 0.49}. Best is trial 50 with value: 0.024369747899159577.\n"
     ]
    },
    {
     "name": "stdout",
     "output_type": "stream",
     "text": [
      "tpr_women:  0.9285714285714286\n",
      "tpr_men:  0.9764705882352941\n",
      "tpr_women:  0.7857142857142857\n",
      "tpr_men:  0.9529411764705882\n"
     ]
    },
    {
     "name": "stderr",
     "output_type": "stream",
     "text": [
      "[I 2024-01-31 14:15:35,584] Trial 341 finished with value: 0.024369747899159577 and parameters: {'threshold_men': 0.47000000000000003, 'threshold_women': 0.47000000000000003}. Best is trial 50 with value: 0.024369747899159577.\n",
      "[I 2024-01-31 14:15:35,679] Trial 342 pruned. \n"
     ]
    },
    {
     "name": "stdout",
     "output_type": "stream",
     "text": [
      "tpr_women:  0.9285714285714286\n",
      "tpr_men:  0.9529411764705882\n"
     ]
    },
    {
     "name": "stderr",
     "output_type": "stream",
     "text": [
      "[I 2024-01-31 14:15:35,817] Trial 343 finished with value: 0.024369747899159577 and parameters: {'threshold_men': 0.46, 'threshold_women': 0.48000000000000004}. Best is trial 50 with value: 0.024369747899159577.\n",
      "[I 2024-01-31 14:15:35,947] Trial 344 finished with value: 0.4529411764705882 and parameters: {'threshold_men': 0.47000000000000003, 'threshold_women': 0.53}. Best is trial 50 with value: 0.024369747899159577.\n"
     ]
    },
    {
     "name": "stdout",
     "output_type": "stream",
     "text": [
      "tpr_women:  0.9285714285714286\n",
      "tpr_men:  0.9529411764705882\n",
      "tpr_women:  0.5\n",
      "tpr_men:  0.9529411764705882\n"
     ]
    },
    {
     "name": "stderr",
     "output_type": "stream",
     "text": [
      "[I 2024-01-31 14:15:36,083] Trial 345 finished with value: 0.21596638655462175 and parameters: {'threshold_men': 0.49, 'threshold_women': 0.5}. Best is trial 50 with value: 0.024369747899159577.\n",
      "[I 2024-01-31 14:15:36,173] Trial 346 pruned. \n"
     ]
    },
    {
     "name": "stdout",
     "output_type": "stream",
     "text": [
      "tpr_women:  0.6428571428571429\n",
      "tpr_men:  0.8588235294117647\n"
     ]
    },
    {
     "name": "stderr",
     "output_type": "stream",
     "text": [
      "[I 2024-01-31 14:15:36,261] Trial 347 pruned. \n",
      "[I 2024-01-31 14:15:36,387] Trial 348 finished with value: 0.6226890756302521 and parameters: {'threshold_men': 0.5900000000000001, 'threshold_women': 0.48000000000000004}. Best is trial 50 with value: 0.024369747899159577.\n",
      "[I 2024-01-31 14:15:36,514] Trial 349 finished with value: 0.03445378151260503 and parameters: {'threshold_men': 0.48000000000000004, 'threshold_women': 0.47000000000000003}. Best is trial 50 with value: 0.024369747899159577.\n"
     ]
    },
    {
     "name": "stdout",
     "output_type": "stream",
     "text": [
      "tpr_women:  0.9285714285714286\n",
      "tpr_men:  0.3058823529411765\n",
      "tpr_women:  0.9285714285714286\n",
      "tpr_men:  0.8941176470588236\n"
     ]
    },
    {
     "name": "stderr",
     "output_type": "stream",
     "text": [
      "[I 2024-01-31 14:15:36,646] Trial 350 finished with value: 0.024369747899159577 and parameters: {'threshold_men': 0.47000000000000003, 'threshold_women': 0.48000000000000004}. Best is trial 50 with value: 0.024369747899159577.\n",
      "[I 2024-01-31 14:15:36,777] Trial 351 finished with value: 0.024369747899159577 and parameters: {'threshold_men': 0.46, 'threshold_women': 0.47000000000000003}. Best is trial 50 with value: 0.024369747899159577.\n"
     ]
    },
    {
     "name": "stdout",
     "output_type": "stream",
     "text": [
      "tpr_women:  0.9285714285714286\n",
      "tpr_men:  0.9529411764705882\n",
      "tpr_women:  0.9285714285714286\n",
      "tpr_men:  0.9529411764705882\n"
     ]
    },
    {
     "name": "stderr",
     "output_type": "stream",
     "text": [
      "[I 2024-01-31 14:15:36,866] Trial 352 pruned. \n",
      "[I 2024-01-31 14:15:36,997] Trial 353 finished with value: 0.16722689075630248 and parameters: {'threshold_men': 0.47000000000000003, 'threshold_women': 0.49}. Best is trial 50 with value: 0.024369747899159577.\n",
      "[I 2024-01-31 14:15:37,126] Trial 354 finished with value: 0.04789915966386549 and parameters: {'threshold_men': 0.45, 'threshold_women': 0.47000000000000003}. Best is trial 50 with value: 0.024369747899159577.\n"
     ]
    },
    {
     "name": "stdout",
     "output_type": "stream",
     "text": [
      "tpr_women:  0.7857142857142857\n",
      "tpr_men:  0.9529411764705882\n",
      "tpr_women:  0.9285714285714286\n",
      "tpr_men:  0.9764705882352941\n"
     ]
    },
    {
     "name": "stderr",
     "output_type": "stream",
     "text": [
      "[I 2024-01-31 14:15:37,257] Trial 355 finished with value: 0.024369747899159577 and parameters: {'threshold_men': 0.46, 'threshold_women': 0.48000000000000004}. Best is trial 50 with value: 0.024369747899159577.\n",
      "[I 2024-01-31 14:15:37,387] Trial 356 finished with value: 0.3168067226890756 and parameters: {'threshold_men': 0.54, 'threshold_women': 0.47000000000000003}. Best is trial 50 with value: 0.024369747899159577.\n"
     ]
    },
    {
     "name": "stdout",
     "output_type": "stream",
     "text": [
      "tpr_women:  0.9285714285714286\n",
      "tpr_men:  0.9529411764705882\n",
      "tpr_women:  0.9285714285714286\n",
      "tpr_men:  0.611764705882353\n"
     ]
    },
    {
     "name": "stderr",
     "output_type": "stream",
     "text": [
      "[I 2024-01-31 14:15:37,482] Trial 357 pruned. \n",
      "[I 2024-01-31 14:15:37,618] Trial 358 finished with value: 0.04789915966386549 and parameters: {'threshold_men': 0.44, 'threshold_women': 0.48000000000000004}. Best is trial 50 with value: 0.024369747899159577.\n",
      "[I 2024-01-31 14:15:37,754] Trial 359 finished with value: 0.03445378151260503 and parameters: {'threshold_men': 0.48000000000000004, 'threshold_women': 0.47000000000000003}. Best is trial 50 with value: 0.024369747899159577.\n"
     ]
    },
    {
     "name": "stdout",
     "output_type": "stream",
     "text": [
      "tpr_women:  0.9285714285714286\n",
      "tpr_men:  0.9764705882352941\n",
      "tpr_women:  0.9285714285714286\n",
      "tpr_men:  0.8941176470588236\n"
     ]
    },
    {
     "name": "stderr",
     "output_type": "stream",
     "text": [
      "[I 2024-01-31 14:15:37,849] Trial 360 pruned. \n",
      "[I 2024-01-31 14:15:37,981] Trial 361 finished with value: 0.1907563025210084 and parameters: {'threshold_men': 0.45, 'threshold_women': 0.49}. Best is trial 50 with value: 0.024369747899159577.\n",
      "[I 2024-01-31 14:15:38,071] Trial 362 pruned. \n"
     ]
    },
    {
     "name": "stdout",
     "output_type": "stream",
     "text": [
      "tpr_women:  0.7857142857142857\n",
      "tpr_men:  0.9764705882352941\n"
     ]
    },
    {
     "name": "stderr",
     "output_type": "stream",
     "text": [
      "[I 2024-01-31 14:15:38,200] Trial 363 finished with value: 0.03445378151260503 and parameters: {'threshold_men': 0.48000000000000004, 'threshold_women': 0.48000000000000004}. Best is trial 50 with value: 0.024369747899159577.\n",
      "[I 2024-01-31 14:15:38,333] Trial 364 finished with value: 0.024369747899159577 and parameters: {'threshold_men': 0.46, 'threshold_women': 0.47000000000000003}. Best is trial 50 with value: 0.024369747899159577.\n"
     ]
    },
    {
     "name": "stdout",
     "output_type": "stream",
     "text": [
      "tpr_women:  0.9285714285714286\n",
      "tpr_men:  0.8941176470588236\n",
      "tpr_women:  0.9285714285714286\n",
      "tpr_men:  0.9529411764705882\n"
     ]
    },
    {
     "name": "stderr",
     "output_type": "stream",
     "text": [
      "[I 2024-01-31 14:15:38,465] Trial 365 finished with value: 0.024369747899159577 and parameters: {'threshold_men': 0.47000000000000003, 'threshold_women': 0.47000000000000003}. Best is trial 50 with value: 0.024369747899159577.\n",
      "[I 2024-01-31 14:15:38,599] Trial 366 finished with value: 0.024369747899159577 and parameters: {'threshold_men': 0.46, 'threshold_women': 0.48000000000000004}. Best is trial 50 with value: 0.024369747899159577.\n"
     ]
    },
    {
     "name": "stdout",
     "output_type": "stream",
     "text": [
      "tpr_women:  0.9285714285714286\n",
      "tpr_men:  0.9529411764705882\n",
      "tpr_women:  0.9285714285714286\n",
      "tpr_men:  0.9529411764705882\n"
     ]
    },
    {
     "name": "stderr",
     "output_type": "stream",
     "text": [
      "[I 2024-01-31 14:15:38,732] Trial 367 finished with value: 0.16722689075630248 and parameters: {'threshold_men': 0.47000000000000003, 'threshold_women': 0.49}. Best is trial 50 with value: 0.024369747899159577.\n",
      "[I 2024-01-31 14:15:38,823] Trial 368 pruned. \n"
     ]
    },
    {
     "name": "stdout",
     "output_type": "stream",
     "text": [
      "tpr_women:  0.7857142857142857\n",
      "tpr_men:  0.9529411764705882\n"
     ]
    },
    {
     "name": "stderr",
     "output_type": "stream",
     "text": [
      "[I 2024-01-31 14:15:38,961] Trial 369 finished with value: 0.024369747899159577 and parameters: {'threshold_men': 0.47000000000000003, 'threshold_women': 0.47000000000000003}. Best is trial 50 with value: 0.024369747899159577.\n",
      "[I 2024-01-31 14:15:39,092] Trial 370 finished with value: 0.024369747899159577 and parameters: {'threshold_men': 0.46, 'threshold_women': 0.48000000000000004}. Best is trial 50 with value: 0.024369747899159577.\n"
     ]
    },
    {
     "name": "stdout",
     "output_type": "stream",
     "text": [
      "tpr_women:  0.9285714285714286\n",
      "tpr_men:  0.9529411764705882\n",
      "tpr_women:  0.9285714285714286\n",
      "tpr_men:  0.9529411764705882\n"
     ]
    },
    {
     "name": "stderr",
     "output_type": "stream",
     "text": [
      "[I 2024-01-31 14:15:39,228] Trial 371 finished with value: 0.06974789915966395 and parameters: {'threshold_men': 0.49, 'threshold_women': 0.47000000000000003}. Best is trial 50 with value: 0.024369747899159577.\n",
      "[I 2024-01-31 14:15:39,364] Trial 372 finished with value: 0.04789915966386549 and parameters: {'threshold_men': 0.45, 'threshold_women': 0.48000000000000004}. Best is trial 50 with value: 0.024369747899159577.\n"
     ]
    },
    {
     "name": "stdout",
     "output_type": "stream",
     "text": [
      "tpr_women:  0.9285714285714286\n",
      "tpr_men:  0.8588235294117647\n",
      "tpr_women:  0.9285714285714286\n",
      "tpr_men:  0.9764705882352941\n"
     ]
    },
    {
     "name": "stderr",
     "output_type": "stream",
     "text": [
      "[I 2024-01-31 14:15:39,461] Trial 373 pruned. \n",
      "[I 2024-01-31 14:15:39,598] Trial 374 finished with value: 0.1907563025210084 and parameters: {'threshold_men': 0.45, 'threshold_women': 0.49}. Best is trial 50 with value: 0.024369747899159577.\n",
      "[I 2024-01-31 14:15:39,695] Trial 375 pruned. \n"
     ]
    },
    {
     "name": "stdout",
     "output_type": "stream",
     "text": [
      "tpr_women:  0.7857142857142857\n",
      "tpr_men:  0.9764705882352941\n"
     ]
    },
    {
     "name": "stderr",
     "output_type": "stream",
     "text": [
      "[I 2024-01-31 14:15:39,835] Trial 376 finished with value: 0.25126050420168067 and parameters: {'threshold_men': 0.48000000000000004, 'threshold_women': 0.5}. Best is trial 50 with value: 0.024369747899159577.\n",
      "[I 2024-01-31 14:15:39,971] Trial 377 finished with value: 0.024369747899159577 and parameters: {'threshold_men': 0.46, 'threshold_women': 0.47000000000000003}. Best is trial 50 with value: 0.024369747899159577.\n"
     ]
    },
    {
     "name": "stdout",
     "output_type": "stream",
     "text": [
      "tpr_women:  0.6428571428571429\n",
      "tpr_men:  0.8941176470588236\n",
      "tpr_women:  0.9285714285714286\n",
      "tpr_men:  0.9529411764705882\n"
     ]
    },
    {
     "name": "stderr",
     "output_type": "stream",
     "text": [
      "[I 2024-01-31 14:15:40,063] Trial 378 pruned. \n",
      "[I 2024-01-31 14:15:40,199] Trial 379 finished with value: 0.024369747899159577 and parameters: {'threshold_men': 0.47000000000000003, 'threshold_women': 0.48000000000000004}. Best is trial 50 with value: 0.024369747899159577.\n",
      "[I 2024-01-31 14:15:40,336] Trial 380 finished with value: 0.03445378151260503 and parameters: {'threshold_men': 0.48000000000000004, 'threshold_women': 0.47000000000000003}. Best is trial 50 with value: 0.024369747899159577.\n"
     ]
    },
    {
     "name": "stdout",
     "output_type": "stream",
     "text": [
      "tpr_women:  0.9285714285714286\n",
      "tpr_men:  0.9529411764705882\n",
      "tpr_women:  0.9285714285714286\n",
      "tpr_men:  0.8941176470588236\n"
     ]
    },
    {
     "name": "stderr",
     "output_type": "stream",
     "text": [
      "[I 2024-01-31 14:15:40,431] Trial 381 pruned. \n",
      "[I 2024-01-31 14:15:40,570] Trial 382 finished with value: 0.04789915966386549 and parameters: {'threshold_men': 0.45, 'threshold_women': 0.48000000000000004}. Best is trial 50 with value: 0.024369747899159577.\n",
      "[I 2024-01-31 14:15:40,705] Trial 383 finished with value: 0.024369747899159577 and parameters: {'threshold_men': 0.47000000000000003, 'threshold_women': 0.47000000000000003}. Best is trial 50 with value: 0.024369747899159577.\n"
     ]
    },
    {
     "name": "stdout",
     "output_type": "stream",
     "text": [
      "tpr_women:  0.9285714285714286\n",
      "tpr_men:  0.9764705882352941\n",
      "tpr_women:  0.9285714285714286\n",
      "tpr_men:  0.9529411764705882\n"
     ]
    },
    {
     "name": "stderr",
     "output_type": "stream",
     "text": [
      "[I 2024-01-31 14:15:40,803] Trial 384 pruned. \n",
      "[I 2024-01-31 14:15:40,944] Trial 385 finished with value: 0.16722689075630248 and parameters: {'threshold_men': 0.47000000000000003, 'threshold_women': 0.49}. Best is trial 50 with value: 0.024369747899159577.\n"
     ]
    },
    {
     "name": "stdout",
     "output_type": "stream",
     "text": [
      "tpr_women:  0.7857142857142857\n",
      "tpr_men:  0.9529411764705882\n",
      "tpr_women:  0.9285714285714286\n",
      "tpr_men:  0.43529411764705883\n"
     ]
    },
    {
     "name": "stderr",
     "output_type": "stream",
     "text": [
      "[I 2024-01-31 14:15:41,090] Trial 386 finished with value: 0.49327731092436977 and parameters: {'threshold_men': 0.5700000000000001, 'threshold_women': 0.48000000000000004}. Best is trial 50 with value: 0.024369747899159577.\n",
      "[I 2024-01-31 14:15:41,186] Trial 387 pruned. \n",
      "[I 2024-01-31 14:15:41,322] Trial 388 finished with value: 0.024369747899159577 and parameters: {'threshold_men': 0.46, 'threshold_women': 0.47000000000000003}. Best is trial 50 with value: 0.024369747899159577.\n",
      "[I 2024-01-31 14:15:41,457] Trial 389 finished with value: 0.024369747899159577 and parameters: {'threshold_men': 0.47000000000000003, 'threshold_women': 0.47000000000000003}. Best is trial 50 with value: 0.024369747899159577.\n"
     ]
    },
    {
     "name": "stdout",
     "output_type": "stream",
     "text": [
      "tpr_women:  0.9285714285714286\n",
      "tpr_men:  0.9529411764705882\n",
      "tpr_women:  0.9285714285714286\n",
      "tpr_men:  0.9529411764705882\n"
     ]
    },
    {
     "name": "stderr",
     "output_type": "stream",
     "text": [
      "[I 2024-01-31 14:15:41,598] Trial 390 finished with value: 0.04789915966386549 and parameters: {'threshold_men': 0.44, 'threshold_women': 0.47000000000000003}. Best is trial 50 with value: 0.024369747899159577.\n",
      "[I 2024-01-31 14:15:41,696] Trial 391 pruned. \n"
     ]
    },
    {
     "name": "stdout",
     "output_type": "stream",
     "text": [
      "tpr_women:  0.9285714285714286\n",
      "tpr_men:  0.9764705882352941\n"
     ]
    },
    {
     "name": "stderr",
     "output_type": "stream",
     "text": [
      "[I 2024-01-31 14:15:41,792] Trial 392 pruned. \n",
      "[I 2024-01-31 14:15:41,934] Trial 393 finished with value: 0.07310924369747895 and parameters: {'threshold_men': 0.49, 'threshold_women': 0.49}. Best is trial 50 with value: 0.024369747899159577.\n",
      "[I 2024-01-31 14:15:42,032] Trial 394 pruned. \n"
     ]
    },
    {
     "name": "stdout",
     "output_type": "stream",
     "text": [
      "tpr_women:  0.7857142857142857\n",
      "tpr_men:  0.8588235294117647\n"
     ]
    },
    {
     "name": "stderr",
     "output_type": "stream",
     "text": [
      "[I 2024-01-31 14:15:42,171] Trial 395 finished with value: 0.04789915966386549 and parameters: {'threshold_men': 0.45, 'threshold_women': 0.48000000000000004}. Best is trial 50 with value: 0.024369747899159577.\n",
      "[I 2024-01-31 14:15:42,266] Trial 396 pruned. \n"
     ]
    },
    {
     "name": "stdout",
     "output_type": "stream",
     "text": [
      "tpr_women:  0.9285714285714286\n",
      "tpr_men:  0.9764705882352941\n"
     ]
    },
    {
     "name": "stderr",
     "output_type": "stream",
     "text": [
      "[I 2024-01-31 14:15:42,365] Trial 397 pruned. \n",
      "[I 2024-01-31 14:15:42,509] Trial 398 finished with value: 0.3815126050420168 and parameters: {'threshold_men': 0.47000000000000003, 'threshold_women': 0.51}. Best is trial 50 with value: 0.024369747899159577.\n",
      "[I 2024-01-31 14:15:42,605] Trial 399 pruned. \n"
     ]
    },
    {
     "name": "stdout",
     "output_type": "stream",
     "text": [
      "tpr_women:  0.5714285714285714\n",
      "tpr_men:  0.9529411764705882\n"
     ]
    },
    {
     "name": "stderr",
     "output_type": "stream",
     "text": [
      "[I 2024-01-31 14:15:42,747] Trial 400 finished with value: 0.024369747899159577 and parameters: {'threshold_men': 0.47000000000000003, 'threshold_women': 0.47000000000000003}. Best is trial 50 with value: 0.024369747899159577.\n"
     ]
    },
    {
     "name": "stdout",
     "output_type": "stream",
     "text": [
      "tpr_women:  0.9285714285714286\n",
      "tpr_men:  0.9529411764705882\n",
      "tpr_women:  0.9285714285714286\n",
      "tpr_men:  0.9764705882352941\n"
     ]
    },
    {
     "name": "stderr",
     "output_type": "stream",
     "text": [
      "[I 2024-01-31 14:15:42,893] Trial 401 finished with value: 0.04789915966386549 and parameters: {'threshold_men': 0.43000000000000005, 'threshold_women': 0.48000000000000004}. Best is trial 50 with value: 0.024369747899159577.\n",
      "[I 2024-01-31 14:15:42,990] Trial 402 pruned. \n",
      "[I 2024-01-31 14:15:43,128] Trial 403 finished with value: 0.04789915966386549 and parameters: {'threshold_men': 0.45, 'threshold_women': 0.47000000000000003}. Best is trial 50 with value: 0.024369747899159577.\n",
      "[I 2024-01-31 14:15:43,265] Trial 404 finished with value: 0.25126050420168067 and parameters: {'threshold_men': 0.48000000000000004, 'threshold_women': 0.5}. Best is trial 50 with value: 0.024369747899159577.\n"
     ]
    },
    {
     "name": "stdout",
     "output_type": "stream",
     "text": [
      "tpr_women:  0.9285714285714286\n",
      "tpr_men:  0.9764705882352941\n",
      "tpr_women:  0.6428571428571429\n",
      "tpr_men:  0.8941176470588236\n"
     ]
    },
    {
     "name": "stderr",
     "output_type": "stream",
     "text": [
      "[I 2024-01-31 14:15:43,411] Trial 405 finished with value: 0.024369747899159577 and parameters: {'threshold_men': 0.47000000000000003, 'threshold_women': 0.48000000000000004}. Best is trial 50 with value: 0.024369747899159577.\n",
      "[I 2024-01-31 14:15:43,546] Trial 406 finished with value: 0.16722689075630248 and parameters: {'threshold_men': 0.46, 'threshold_women': 0.49}. Best is trial 50 with value: 0.024369747899159577.\n"
     ]
    },
    {
     "name": "stdout",
     "output_type": "stream",
     "text": [
      "tpr_women:  0.9285714285714286\n",
      "tpr_men:  0.9529411764705882\n",
      "tpr_women:  0.7857142857142857\n",
      "tpr_men:  0.9529411764705882\n"
     ]
    },
    {
     "name": "stderr",
     "output_type": "stream",
     "text": [
      "[I 2024-01-31 14:15:43,641] Trial 407 pruned. \n",
      "[I 2024-01-31 14:15:43,776] Trial 408 finished with value: 0.024369747899159577 and parameters: {'threshold_men': 0.47000000000000003, 'threshold_women': 0.47000000000000003}. Best is trial 50 with value: 0.024369747899159577.\n",
      "[I 2024-01-31 14:15:43,915] Trial 409 finished with value: 0.04789915966386549 and parameters: {'threshold_men': 0.45, 'threshold_women': 0.48000000000000004}. Best is trial 50 with value: 0.024369747899159577.\n"
     ]
    },
    {
     "name": "stdout",
     "output_type": "stream",
     "text": [
      "tpr_women:  0.9285714285714286\n",
      "tpr_men:  0.9529411764705882\n",
      "tpr_women:  0.9285714285714286\n",
      "tpr_men:  0.9764705882352941\n"
     ]
    },
    {
     "name": "stderr",
     "output_type": "stream",
     "text": [
      "[I 2024-01-31 14:15:44,014] Trial 410 pruned. \n",
      "[I 2024-01-31 14:15:44,161] Trial 411 finished with value: 0.024369747899159577 and parameters: {'threshold_men': 0.47000000000000003, 'threshold_women': 0.47000000000000003}. Best is trial 50 with value: 0.024369747899159577.\n",
      "[I 2024-01-31 14:15:44,258] Trial 412 pruned. \n"
     ]
    },
    {
     "name": "stdout",
     "output_type": "stream",
     "text": [
      "tpr_women:  0.9285714285714286\n",
      "tpr_men:  0.9529411764705882\n"
     ]
    },
    {
     "name": "stderr",
     "output_type": "stream",
     "text": [
      "[I 2024-01-31 14:15:44,402] Trial 413 finished with value: 0.024369747899159577 and parameters: {'threshold_men': 0.46, 'threshold_women': 0.48000000000000004}. Best is trial 50 with value: 0.024369747899159577.\n",
      "[I 2024-01-31 14:15:44,541] Trial 414 finished with value: 0.10840336134453787 and parameters: {'threshold_men': 0.48000000000000004, 'threshold_women': 0.49}. Best is trial 50 with value: 0.024369747899159577.\n"
     ]
    },
    {
     "name": "stdout",
     "output_type": "stream",
     "text": [
      "tpr_women:  0.9285714285714286\n",
      "tpr_men:  0.9529411764705882\n",
      "tpr_women:  0.7857142857142857\n",
      "tpr_men:  0.8941176470588236\n"
     ]
    },
    {
     "name": "stderr",
     "output_type": "stream",
     "text": [
      "[I 2024-01-31 14:15:44,687] Trial 415 finished with value: 0.024369747899159577 and parameters: {'threshold_men': 0.47000000000000003, 'threshold_women': 0.47000000000000003}. Best is trial 50 with value: 0.024369747899159577.\n",
      "[I 2024-01-31 14:15:44,788] Trial 416 pruned. \n"
     ]
    },
    {
     "name": "stdout",
     "output_type": "stream",
     "text": [
      "tpr_women:  0.9285714285714286\n",
      "tpr_men:  0.9529411764705882\n"
     ]
    },
    {
     "name": "stderr",
     "output_type": "stream",
     "text": [
      "[I 2024-01-31 14:15:44,932] Trial 417 finished with value: 0.024369747899159577 and parameters: {'threshold_men': 0.46, 'threshold_women': 0.47000000000000003}. Best is trial 50 with value: 0.024369747899159577.\n",
      "[I 2024-01-31 14:15:45,033] Trial 418 pruned. \n"
     ]
    },
    {
     "name": "stdout",
     "output_type": "stream",
     "text": [
      "tpr_women:  0.9285714285714286\n",
      "tpr_men:  0.9529411764705882\n"
     ]
    },
    {
     "name": "stderr",
     "output_type": "stream",
     "text": [
      "[I 2024-01-31 14:15:45,173] Trial 419 finished with value: 0.04789915966386549 and parameters: {'threshold_men': 0.44, 'threshold_women': 0.47000000000000003}. Best is trial 50 with value: 0.024369747899159577.\n"
     ]
    },
    {
     "name": "stdout",
     "output_type": "stream",
     "text": [
      "tpr_women:  0.9285714285714286\n",
      "tpr_men:  0.9764705882352941\n",
      "tpr_women:  0.9285714285714286\n",
      "tpr_men:  0.9529411764705882\n"
     ]
    },
    {
     "name": "stderr",
     "output_type": "stream",
     "text": [
      "[I 2024-01-31 14:15:45,320] Trial 420 finished with value: 0.024369747899159577 and parameters: {'threshold_men': 0.47000000000000003, 'threshold_women': 0.48000000000000004}. Best is trial 50 with value: 0.024369747899159577.\n",
      "[I 2024-01-31 14:15:45,463] Trial 421 finished with value: 0.024369747899159577 and parameters: {'threshold_men': 0.46, 'threshold_women': 0.48000000000000004}. Best is trial 50 with value: 0.024369747899159577.\n",
      "[I 2024-01-31 14:15:45,561] Trial 422 pruned. \n"
     ]
    },
    {
     "name": "stdout",
     "output_type": "stream",
     "text": [
      "tpr_women:  0.9285714285714286\n",
      "tpr_men:  0.9529411764705882\n"
     ]
    },
    {
     "name": "stderr",
     "output_type": "stream",
     "text": [
      "[I 2024-01-31 14:15:45,705] Trial 423 finished with value: 0.1907563025210084 and parameters: {'threshold_men': 0.45, 'threshold_women': 0.49}. Best is trial 50 with value: 0.024369747899159577.\n"
     ]
    },
    {
     "name": "stdout",
     "output_type": "stream",
     "text": [
      "tpr_women:  0.7857142857142857\n",
      "tpr_men:  0.9764705882352941\n",
      "tpr_women:  0.9285714285714286\n",
      "tpr_men:  0.9529411764705882\n"
     ]
    },
    {
     "name": "stderr",
     "output_type": "stream",
     "text": [
      "[I 2024-01-31 14:15:45,849] Trial 424 finished with value: 0.024369747899159577 and parameters: {'threshold_men': 0.46, 'threshold_women': 0.47000000000000003}. Best is trial 50 with value: 0.024369747899159577.\n",
      "[I 2024-01-31 14:15:45,990] Trial 425 finished with value: 0.024369747899159577 and parameters: {'threshold_men': 0.47000000000000003, 'threshold_women': 0.48000000000000004}. Best is trial 50 with value: 0.024369747899159577.\n",
      "[I 2024-01-31 14:15:46,133] Trial 426 finished with value: 0.06974789915966395 and parameters: {'threshold_men': 0.49, 'threshold_women': 0.47000000000000003}. Best is trial 50 with value: 0.024369747899159577.\n"
     ]
    },
    {
     "name": "stdout",
     "output_type": "stream",
     "text": [
      "tpr_women:  0.9285714285714286\n",
      "tpr_men:  0.9529411764705882\n",
      "tpr_women:  0.9285714285714286\n",
      "tpr_men:  0.8588235294117647\n"
     ]
    },
    {
     "name": "stderr",
     "output_type": "stream",
     "text": [
      "[I 2024-01-31 14:15:46,276] Trial 427 finished with value: 0.03445378151260503 and parameters: {'threshold_men': 0.48000000000000004, 'threshold_women': 0.47000000000000003}. Best is trial 50 with value: 0.024369747899159577.\n",
      "[I 2024-01-31 14:15:46,373] Trial 428 pruned. \n"
     ]
    },
    {
     "name": "stdout",
     "output_type": "stream",
     "text": [
      "tpr_women:  0.9285714285714286\n",
      "tpr_men:  0.8941176470588236\n"
     ]
    },
    {
     "name": "stderr",
     "output_type": "stream",
     "text": [
      "[I 2024-01-31 14:15:46,512] Trial 429 finished with value: 0.024369747899159577 and parameters: {'threshold_men': 0.47000000000000003, 'threshold_women': 0.48000000000000004}. Best is trial 50 with value: 0.024369747899159577.\n",
      "[I 2024-01-31 14:15:46,609] Trial 430 pruned. \n"
     ]
    },
    {
     "name": "stdout",
     "output_type": "stream",
     "text": [
      "tpr_women:  0.9285714285714286\n",
      "tpr_men:  0.9529411764705882\n"
     ]
    },
    {
     "name": "stderr",
     "output_type": "stream",
     "text": [
      "[I 2024-01-31 14:15:46,748] Trial 431 finished with value: 0.38739495798319334 and parameters: {'threshold_men': 0.55, 'threshold_women': 0.48000000000000004}. Best is trial 50 with value: 0.024369747899159577.\n",
      "[I 2024-01-31 14:15:46,887] Trial 432 finished with value: 0.024369747899159577 and parameters: {'threshold_men': 0.46, 'threshold_women': 0.47000000000000003}. Best is trial 50 with value: 0.024369747899159577.\n"
     ]
    },
    {
     "name": "stdout",
     "output_type": "stream",
     "text": [
      "tpr_women:  0.9285714285714286\n",
      "tpr_men:  0.5411764705882353\n",
      "tpr_women:  0.9285714285714286\n",
      "tpr_men:  0.9529411764705882\n"
     ]
    },
    {
     "name": "stderr",
     "output_type": "stream",
     "text": [
      "[I 2024-01-31 14:15:46,987] Trial 433 pruned. \n",
      "[I 2024-01-31 14:15:47,123] Trial 434 finished with value: 0.16722689075630248 and parameters: {'threshold_men': 0.47000000000000003, 'threshold_women': 0.49}. Best is trial 50 with value: 0.024369747899159577.\n",
      "[I 2024-01-31 14:15:47,264] Trial 435 finished with value: 0.03445378151260503 and parameters: {'threshold_men': 0.48000000000000004, 'threshold_women': 0.47000000000000003}. Best is trial 50 with value: 0.024369747899159577.\n"
     ]
    },
    {
     "name": "stdout",
     "output_type": "stream",
     "text": [
      "tpr_women:  0.7857142857142857\n",
      "tpr_men:  0.9529411764705882\n",
      "tpr_women:  0.9285714285714286\n",
      "tpr_men:  0.8941176470588236\n"
     ]
    },
    {
     "name": "stderr",
     "output_type": "stream",
     "text": [
      "[I 2024-01-31 14:15:47,403] Trial 436 finished with value: 0.04789915966386549 and parameters: {'threshold_men': 0.45, 'threshold_women': 0.48000000000000004}. Best is trial 50 with value: 0.024369747899159577.\n",
      "[I 2024-01-31 14:15:47,542] Trial 437 finished with value: 0.595798319327731 and parameters: {'threshold_men': 0.47000000000000003, 'threshold_women': 0.56}. Best is trial 50 with value: 0.024369747899159577.\n"
     ]
    },
    {
     "name": "stdout",
     "output_type": "stream",
     "text": [
      "tpr_women:  0.9285714285714286\n",
      "tpr_men:  0.9764705882352941\n",
      "tpr_women:  0.35714285714285715\n",
      "tpr_men:  0.9529411764705882\n"
     ]
    },
    {
     "name": "stderr",
     "output_type": "stream",
     "text": [
      "[I 2024-01-31 14:15:47,683] Trial 438 finished with value: 0.024369747899159577 and parameters: {'threshold_men': 0.46, 'threshold_women': 0.47000000000000003}. Best is trial 50 with value: 0.024369747899159577.\n",
      "[I 2024-01-31 14:15:47,823] Trial 439 finished with value: 0.04789915966386549 and parameters: {'threshold_men': 0.44, 'threshold_women': 0.48000000000000004}. Best is trial 50 with value: 0.024369747899159577.\n"
     ]
    },
    {
     "name": "stdout",
     "output_type": "stream",
     "text": [
      "tpr_women:  0.9285714285714286\n",
      "tpr_men:  0.9529411764705882\n",
      "tpr_women:  0.9285714285714286\n",
      "tpr_men:  0.9764705882352941\n"
     ]
    },
    {
     "name": "stderr",
     "output_type": "stream",
     "text": [
      "[I 2024-01-31 14:15:47,959] Trial 440 finished with value: 0.03445378151260503 and parameters: {'threshold_men': 0.48000000000000004, 'threshold_women': 0.47000000000000003}. Best is trial 50 with value: 0.024369747899159577.\n",
      "[I 2024-01-31 14:15:48,049] Trial 441 pruned. \n"
     ]
    },
    {
     "name": "stdout",
     "output_type": "stream",
     "text": [
      "tpr_women:  0.9285714285714286\n",
      "tpr_men:  0.8941176470588236\n"
     ]
    },
    {
     "name": "stderr",
     "output_type": "stream",
     "text": [
      "[I 2024-01-31 14:15:48,184] Trial 442 finished with value: 0.16722689075630248 and parameters: {'threshold_men': 0.46, 'threshold_women': 0.49}. Best is trial 50 with value: 0.024369747899159577.\n",
      "[I 2024-01-31 14:15:48,282] Trial 443 pruned. \n"
     ]
    },
    {
     "name": "stdout",
     "output_type": "stream",
     "text": [
      "tpr_women:  0.7857142857142857\n",
      "tpr_men:  0.9529411764705882\n"
     ]
    },
    {
     "name": "stderr",
     "output_type": "stream",
     "text": [
      "[I 2024-01-31 14:15:48,410] Trial 444 finished with value: 0.04789915966386549 and parameters: {'threshold_men': 0.45, 'threshold_women': 0.48000000000000004}. Best is trial 50 with value: 0.024369747899159577.\n",
      "[I 2024-01-31 14:15:48,548] Trial 445 finished with value: 0.024369747899159577 and parameters: {'threshold_men': 0.46, 'threshold_women': 0.47000000000000003}. Best is trial 50 with value: 0.024369747899159577.\n"
     ]
    },
    {
     "name": "stdout",
     "output_type": "stream",
     "text": [
      "tpr_women:  0.9285714285714286\n",
      "tpr_men:  0.9764705882352941\n",
      "tpr_women:  0.9285714285714286\n",
      "tpr_men:  0.9529411764705882\n"
     ]
    },
    {
     "name": "stderr",
     "output_type": "stream",
     "text": [
      "[I 2024-01-31 14:15:48,642] Trial 446 pruned. \n",
      "[I 2024-01-31 14:15:48,735] Trial 447 pruned. \n",
      "[I 2024-01-31 14:15:48,873] Trial 448 finished with value: 0.3336134453781512 and parameters: {'threshold_men': 0.45, 'threshold_women': 0.5}. Best is trial 50 with value: 0.024369747899159577.\n"
     ]
    },
    {
     "name": "stdout",
     "output_type": "stream",
     "text": [
      "tpr_women:  0.6428571428571429\n",
      "tpr_men:  0.9764705882352941\n",
      "tpr_women:  0.9285714285714286\n",
      "tpr_men:  0.24705882352941178\n"
     ]
    },
    {
     "name": "stderr",
     "output_type": "stream",
     "text": [
      "[I 2024-01-31 14:15:49,020] Trial 449 finished with value: 0.6815126050420168 and parameters: {'threshold_men': 0.61, 'threshold_women': 0.48000000000000004}. Best is trial 50 with value: 0.024369747899159577.\n",
      "[I 2024-01-31 14:15:49,168] Trial 450 finished with value: 0.024369747899159577 and parameters: {'threshold_men': 0.46, 'threshold_women': 0.47000000000000003}. Best is trial 50 with value: 0.024369747899159577.\n"
     ]
    },
    {
     "name": "stdout",
     "output_type": "stream",
     "text": [
      "tpr_women:  0.9285714285714286\n",
      "tpr_men:  0.9529411764705882\n",
      "tpr_women:  0.7857142857142857\n",
      "tpr_men:  0.9529411764705882\n"
     ]
    },
    {
     "name": "stderr",
     "output_type": "stream",
     "text": [
      "[I 2024-01-31 14:15:49,321] Trial 451 finished with value: 0.16722689075630248 and parameters: {'threshold_men': 0.47000000000000003, 'threshold_women': 0.49}. Best is trial 50 with value: 0.024369747899159577.\n",
      "[I 2024-01-31 14:15:49,419] Trial 452 pruned. \n",
      "[I 2024-01-31 14:15:49,557] Trial 453 finished with value: 0.03445378151260503 and parameters: {'threshold_men': 0.48000000000000004, 'threshold_women': 0.48000000000000004}. Best is trial 50 with value: 0.024369747899159577.\n",
      "[I 2024-01-31 14:15:49,697] Trial 454 finished with value: 0.024369747899159577 and parameters: {'threshold_men': 0.46, 'threshold_women': 0.47000000000000003}. Best is trial 50 with value: 0.024369747899159577.\n"
     ]
    },
    {
     "name": "stdout",
     "output_type": "stream",
     "text": [
      "tpr_women:  0.9285714285714286\n",
      "tpr_men:  0.8941176470588236\n",
      "tpr_women:  0.9285714285714286\n",
      "tpr_men:  0.9529411764705882\n"
     ]
    },
    {
     "name": "stderr",
     "output_type": "stream",
     "text": [
      "[I 2024-01-31 14:15:49,845] Trial 455 finished with value: 0.024369747899159577 and parameters: {'threshold_men': 0.47000000000000003, 'threshold_women': 0.48000000000000004}. Best is trial 50 with value: 0.024369747899159577.\n",
      "[I 2024-01-31 14:15:49,986] Trial 456 finished with value: 0.06974789915966395 and parameters: {'threshold_men': 0.49, 'threshold_women': 0.47000000000000003}. Best is trial 50 with value: 0.024369747899159577.\n"
     ]
    },
    {
     "name": "stdout",
     "output_type": "stream",
     "text": [
      "tpr_women:  0.9285714285714286\n",
      "tpr_men:  0.9529411764705882\n",
      "tpr_women:  0.9285714285714286\n",
      "tpr_men:  0.8588235294117647\n"
     ]
    },
    {
     "name": "stderr",
     "output_type": "stream",
     "text": [
      "[I 2024-01-31 14:15:50,125] Trial 457 finished with value: 0.25126050420168067 and parameters: {'threshold_men': 0.48000000000000004, 'threshold_women': 0.5}. Best is trial 50 with value: 0.024369747899159577.\n",
      "[I 2024-01-31 14:15:50,266] Trial 458 finished with value: 0.024369747899159577 and parameters: {'threshold_men': 0.47000000000000003, 'threshold_women': 0.47000000000000003}. Best is trial 50 with value: 0.024369747899159577.\n"
     ]
    },
    {
     "name": "stdout",
     "output_type": "stream",
     "text": [
      "tpr_women:  0.6428571428571429\n",
      "tpr_men:  0.8941176470588236\n",
      "tpr_women:  0.9285714285714286\n",
      "tpr_men:  0.9529411764705882\n"
     ]
    },
    {
     "name": "stderr",
     "output_type": "stream",
     "text": [
      "[I 2024-01-31 14:15:50,364] Trial 459 pruned. \n",
      "[I 2024-01-31 14:15:50,504] Trial 460 finished with value: 0.024369747899159577 and parameters: {'threshold_men': 0.47000000000000003, 'threshold_women': 0.48000000000000004}. Best is trial 50 with value: 0.024369747899159577.\n",
      "[I 2024-01-31 14:15:50,646] Trial 461 finished with value: 0.024369747899159577 and parameters: {'threshold_men': 0.46, 'threshold_women': 0.47000000000000003}. Best is trial 50 with value: 0.024369747899159577.\n"
     ]
    },
    {
     "name": "stdout",
     "output_type": "stream",
     "text": [
      "tpr_women:  0.9285714285714286\n",
      "tpr_men:  0.9529411764705882\n",
      "tpr_women:  0.9285714285714286\n",
      "tpr_men:  0.9529411764705882\n"
     ]
    },
    {
     "name": "stderr",
     "output_type": "stream",
     "text": [
      "[I 2024-01-31 14:15:50,791] Trial 462 finished with value: 0.1907563025210084 and parameters: {'threshold_men': 0.44, 'threshold_women': 0.49}. Best is trial 50 with value: 0.024369747899159577.\n",
      "[I 2024-01-31 14:15:50,886] Trial 463 pruned. \n"
     ]
    },
    {
     "name": "stdout",
     "output_type": "stream",
     "text": [
      "tpr_women:  0.7857142857142857\n",
      "tpr_men:  0.9764705882352941\n"
     ]
    },
    {
     "name": "stderr",
     "output_type": "stream",
     "text": [
      "[I 2024-01-31 14:15:50,984] Trial 464 pruned. \n",
      "[I 2024-01-31 14:15:51,082] Trial 465 pruned. \n",
      "[I 2024-01-31 14:15:51,218] Trial 466 finished with value: 0.024369747899159577 and parameters: {'threshold_men': 0.47000000000000003, 'threshold_women': 0.48000000000000004}. Best is trial 50 with value: 0.024369747899159577.\n",
      "[I 2024-01-31 14:15:51,354] Trial 467 finished with value: 0.024369747899159577 and parameters: {'threshold_men': 0.46, 'threshold_women': 0.47000000000000003}. Best is trial 50 with value: 0.024369747899159577.\n"
     ]
    },
    {
     "name": "stdout",
     "output_type": "stream",
     "text": [
      "tpr_women:  0.9285714285714286\n",
      "tpr_men:  0.9529411764705882\n",
      "tpr_women:  0.9285714285714286\n",
      "tpr_men:  0.9529411764705882\n"
     ]
    },
    {
     "name": "stderr",
     "output_type": "stream",
     "text": [
      "[I 2024-01-31 14:15:51,490] Trial 468 finished with value: 0.03445378151260503 and parameters: {'threshold_men': 0.48000000000000004, 'threshold_women': 0.48000000000000004}. Best is trial 50 with value: 0.024369747899159577.\n",
      "[I 2024-01-31 14:15:51,631] Trial 469 finished with value: 0.1991596638655463 and parameters: {'threshold_men': 0.52, 'threshold_women': 0.47000000000000003}. Best is trial 50 with value: 0.024369747899159577.\n"
     ]
    },
    {
     "name": "stdout",
     "output_type": "stream",
     "text": [
      "tpr_women:  0.9285714285714286\n",
      "tpr_men:  0.8941176470588236\n",
      "tpr_women:  0.9285714285714286\n",
      "tpr_men:  0.7294117647058823\n"
     ]
    },
    {
     "name": "stderr",
     "output_type": "stream",
     "text": [
      "[I 2024-01-31 14:15:51,775] Trial 470 finished with value: 0.3815126050420168 and parameters: {'threshold_men': 0.47000000000000003, 'threshold_women': 0.52}. Best is trial 50 with value: 0.024369747899159577.\n"
     ]
    },
    {
     "name": "stdout",
     "output_type": "stream",
     "text": [
      "tpr_women:  0.5714285714285714\n",
      "tpr_men:  0.9529411764705882\n",
      "tpr_women:  0.7857142857142857\n",
      "tpr_men:  0.9529411764705882\n"
     ]
    },
    {
     "name": "stderr",
     "output_type": "stream",
     "text": [
      "[I 2024-01-31 14:15:51,920] Trial 471 finished with value: 0.16722689075630248 and parameters: {'threshold_men': 0.46, 'threshold_women': 0.49}. Best is trial 50 with value: 0.024369747899159577.\n",
      "[I 2024-01-31 14:15:52,062] Trial 472 finished with value: 0.024369747899159577 and parameters: {'threshold_men': 0.47000000000000003, 'threshold_women': 0.47000000000000003}. Best is trial 50 with value: 0.024369747899159577.\n",
      "[I 2024-01-31 14:15:52,200] Trial 473 finished with value: 0.024369747899159577 and parameters: {'threshold_men': 0.46, 'threshold_women': 0.48000000000000004}. Best is trial 50 with value: 0.024369747899159577.\n"
     ]
    },
    {
     "name": "stdout",
     "output_type": "stream",
     "text": [
      "tpr_women:  0.9285714285714286\n",
      "tpr_men:  0.9529411764705882\n",
      "tpr_women:  0.9285714285714286\n",
      "tpr_men:  0.9529411764705882\n"
     ]
    },
    {
     "name": "stderr",
     "output_type": "stream",
     "text": [
      "[I 2024-01-31 14:15:52,296] Trial 474 pruned. \n",
      "[I 2024-01-31 14:15:52,429] Trial 475 finished with value: 0.024369747899159577 and parameters: {'threshold_men': 0.47000000000000003, 'threshold_women': 0.47000000000000003}. Best is trial 50 with value: 0.024369747899159577.\n",
      "[I 2024-01-31 14:15:52,563] Trial 476 finished with value: 0.10840336134453787 and parameters: {'threshold_men': 0.48000000000000004, 'threshold_women': 0.49}. Best is trial 50 with value: 0.024369747899159577.\n"
     ]
    },
    {
     "name": "stdout",
     "output_type": "stream",
     "text": [
      "tpr_women:  0.9285714285714286\n",
      "tpr_men:  0.9529411764705882\n",
      "tpr_women:  0.7857142857142857\n",
      "tpr_men:  0.8941176470588236\n"
     ]
    },
    {
     "name": "stderr",
     "output_type": "stream",
     "text": [
      "[I 2024-01-31 14:15:52,659] Trial 477 pruned. \n",
      "[I 2024-01-31 14:15:52,796] Trial 478 finished with value: 0.024369747899159577 and parameters: {'threshold_men': 0.46, 'threshold_women': 0.48000000000000004}. Best is trial 50 with value: 0.024369747899159577.\n",
      "[I 2024-01-31 14:15:52,934] Trial 479 finished with value: 0.024369747899159577 and parameters: {'threshold_men': 0.47000000000000003, 'threshold_women': 0.47000000000000003}. Best is trial 50 with value: 0.024369747899159577.\n"
     ]
    },
    {
     "name": "stdout",
     "output_type": "stream",
     "text": [
      "tpr_women:  0.9285714285714286\n",
      "tpr_men:  0.9529411764705882\n",
      "tpr_women:  0.9285714285714286\n",
      "tpr_men:  0.9529411764705882\n"
     ]
    },
    {
     "name": "stderr",
     "output_type": "stream",
     "text": [
      "[I 2024-01-31 14:15:53,034] Trial 480 pruned. \n",
      "[I 2024-01-31 14:15:53,132] Trial 481 pruned. \n",
      "[I 2024-01-31 14:15:53,269] Trial 482 finished with value: 0.04789915966386549 and parameters: {'threshold_men': 0.45, 'threshold_women': 0.48000000000000004}. Best is trial 50 with value: 0.024369747899159577.\n",
      "[I 2024-01-31 14:15:53,415] Trial 483 finished with value: 0.03445378151260503 and parameters: {'threshold_men': 0.48000000000000004, 'threshold_women': 0.47000000000000003}. Best is trial 50 with value: 0.024369747899159577.\n"
     ]
    },
    {
     "name": "stdout",
     "output_type": "stream",
     "text": [
      "tpr_women:  0.9285714285714286\n",
      "tpr_men:  0.9764705882352941\n",
      "tpr_women:  0.9285714285714286\n",
      "tpr_men:  0.8941176470588236\n"
     ]
    },
    {
     "name": "stderr",
     "output_type": "stream",
     "text": [
      "[I 2024-01-31 14:15:53,564] Trial 484 finished with value: 0.16722689075630248 and parameters: {'threshold_men': 0.47000000000000003, 'threshold_women': 0.49}. Best is trial 50 with value: 0.024369747899159577.\n"
     ]
    },
    {
     "name": "stdout",
     "output_type": "stream",
     "text": [
      "tpr_women:  0.7857142857142857\n",
      "tpr_men:  0.9529411764705882\n",
      "tpr_women:  0.9285714285714286\n",
      "tpr_men:  0.9529411764705882\n"
     ]
    },
    {
     "name": "stderr",
     "output_type": "stream",
     "text": [
      "[I 2024-01-31 14:15:53,713] Trial 485 finished with value: 0.024369747899159577 and parameters: {'threshold_men': 0.47000000000000003, 'threshold_women': 0.48000000000000004}. Best is trial 50 with value: 0.024369747899159577.\n",
      "[I 2024-01-31 14:15:53,817] Trial 486 pruned. \n",
      "[I 2024-01-31 14:15:53,959] Trial 487 finished with value: 0.04789915966386549 and parameters: {'threshold_men': 0.45, 'threshold_women': 0.47000000000000003}. Best is trial 50 with value: 0.024369747899159577.\n",
      "[I 2024-01-31 14:15:54,101] Trial 488 finished with value: 0.024369747899159577 and parameters: {'threshold_men': 0.47000000000000003, 'threshold_women': 0.47000000000000003}. Best is trial 50 with value: 0.024369747899159577.\n"
     ]
    },
    {
     "name": "stdout",
     "output_type": "stream",
     "text": [
      "tpr_women:  0.9285714285714286\n",
      "tpr_men:  0.9764705882352941\n",
      "tpr_women:  0.9285714285714286\n",
      "tpr_men:  0.9529411764705882\n"
     ]
    },
    {
     "name": "stderr",
     "output_type": "stream",
     "text": [
      "[I 2024-01-31 14:15:54,247] Trial 489 finished with value: 0.03445378151260503 and parameters: {'threshold_men': 0.48000000000000004, 'threshold_women': 0.48000000000000004}. Best is trial 50 with value: 0.024369747899159577.\n",
      "[I 2024-01-31 14:15:54,346] Trial 490 pruned. \n"
     ]
    },
    {
     "name": "stdout",
     "output_type": "stream",
     "text": [
      "tpr_women:  0.9285714285714286\n",
      "tpr_men:  0.8941176470588236\n"
     ]
    },
    {
     "name": "stderr",
     "output_type": "stream",
     "text": [
      "[I 2024-01-31 14:15:54,486] Trial 491 finished with value: 0.024369747899159577 and parameters: {'threshold_men': 0.47000000000000003, 'threshold_women': 0.47000000000000003}. Best is trial 50 with value: 0.024369747899159577.\n",
      "[I 2024-01-31 14:15:54,621] Trial 492 finished with value: 0.04789915966386549 and parameters: {'threshold_men': 0.44, 'threshold_women': 0.48000000000000004}. Best is trial 50 with value: 0.024369747899159577.\n"
     ]
    },
    {
     "name": "stdout",
     "output_type": "stream",
     "text": [
      "tpr_women:  0.9285714285714286\n",
      "tpr_men:  0.9529411764705882\n",
      "tpr_women:  0.9285714285714286\n",
      "tpr_men:  0.9764705882352941\n"
     ]
    },
    {
     "name": "stderr",
     "output_type": "stream",
     "text": [
      "[I 2024-01-31 14:15:54,718] Trial 493 pruned. \n",
      "[I 2024-01-31 14:15:54,856] Trial 494 finished with value: 0.07310924369747895 and parameters: {'threshold_men': 0.49, 'threshold_women': 0.49}. Best is trial 50 with value: 0.024369747899159577.\n",
      "[I 2024-01-31 14:15:54,955] Trial 495 pruned. \n"
     ]
    },
    {
     "name": "stdout",
     "output_type": "stream",
     "text": [
      "tpr_women:  0.7857142857142857\n",
      "tpr_men:  0.8588235294117647\n"
     ]
    },
    {
     "name": "stderr",
     "output_type": "stream",
     "text": [
      "[I 2024-01-31 14:15:55,094] Trial 496 finished with value: 0.03445378151260503 and parameters: {'threshold_men': 0.48000000000000004, 'threshold_women': 0.47000000000000003}. Best is trial 50 with value: 0.024369747899159577.\n",
      "[I 2024-01-31 14:15:55,233] Trial 497 finished with value: 0.024369747899159577 and parameters: {'threshold_men': 0.46, 'threshold_women': 0.47000000000000003}. Best is trial 50 with value: 0.024369747899159577.\n"
     ]
    },
    {
     "name": "stdout",
     "output_type": "stream",
     "text": [
      "tpr_women:  0.9285714285714286\n",
      "tpr_men:  0.8941176470588236\n",
      "tpr_women:  0.9285714285714286\n",
      "tpr_men:  0.9529411764705882\n"
     ]
    },
    {
     "name": "stderr",
     "output_type": "stream",
     "text": [
      "[I 2024-01-31 14:15:55,367] Trial 498 finished with value: 0.024369747899159577 and parameters: {'threshold_men': 0.47000000000000003, 'threshold_women': 0.48000000000000004}. Best is trial 50 with value: 0.024369747899159577.\n",
      "[I 2024-01-31 14:15:55,465] Trial 499 pruned. \n"
     ]
    },
    {
     "name": "stdout",
     "output_type": "stream",
     "text": [
      "tpr_women:  0.9285714285714286\n",
      "tpr_men:  0.9529411764705882\n"
     ]
    }
   ],
   "source": [
    "def objective(trial):\n",
    "    \n",
    "    threshold_men = trial.suggest_float('threshold_men', low=0.4, high=0.7, step=0.01)\n",
    "    threshold_women = trial.suggest_float('threshold_women', low=0.4, high=0.7, step=0.01)\n",
    "    \n",
    "    yes_loan_men = np.where(men.payback>=threshold_men, 1, 0)\n",
    "    yes_loan_women = np.where(women.payback>=threshold_women, 1, 0)\n",
    "    \n",
    "    tn_men, fp_men, fn_men, tp_men = confusion_matrix(y_true=men.real_values, y_pred=yes_loan_men).ravel()\n",
    "    tn_women, fp_women, fn_women, tp_women = confusion_matrix(y_true=women.real_values, y_pred=yes_loan_women).ravel()\n",
    "    \n",
    "    tpr_men = tp_men/(tp_men+fn_men)\n",
    "    tpr_women = tp_women/(tp_women+fn_women)\n",
    "    \n",
    "    fpr_men = fp_men / (fp_men+tn_men)\n",
    "    fpr_women = fp_women / (fp_women+tn_women)\n",
    "    \n",
    "    \n",
    "    #Filtering out lazy solutions\n",
    "    if (tpr_men == 0.0 or tpr_women==0.0) or (tpr_men==1.0 or tpr_women == 1.0): raise optuna.TrialPruned  \n",
    "    if (tpr_men == 0.0 and tpr_women==0.0) or (tpr_men==1.0 and tpr_women == 1.0): raise optuna.TrialPruned  \n",
    "    if (fpr_men == 0.0 or fpr_women==0.0) or (fpr_men==1.0 or fpr_women == 1.0): raise optuna.TrialPruned  \n",
    "    if (fpr_men == 0.0 and fpr_women==0.0) or (fpr_men==1.0 and fpr_women == 1.0): raise optuna.TrialPruned  \n",
    "    \n",
    "    print(\"tpr_women: \", tpr_women)\n",
    "    print(\"tpr_men: \", tpr_men)\n",
    "    minimize = tpr_men-tpr_women\n",
    "    #since both have to be equal to fulfill the criteria, best solution is 0\n",
    "    trial.set_user_attr(\"TPR_MEN\", tpr_men)\n",
    "    trial.set_user_attr(\"TPR_WOMEN\", tpr_women)\n",
    "    trial.set_user_attr(\"FPR_MEN\", fpr_men)\n",
    "    trial.set_user_attr(\"FPR_WOMEN\", fpr_women)\n",
    "    return abs(minimize)\n",
    "\n",
    "study.optimize(objective, n_trials=500)\n",
    "\n",
    "df_all = study.trials_dataframe(attrs=(\"number\", \"value\", \"params\", \"state\"))"
   ]
  },
  {
   "cell_type": "code",
   "execution_count": 33,
   "id": "157a43b9-6369-435e-921e-a4c9fa6147fc",
   "metadata": {
    "tags": []
   },
   "outputs": [],
   "source": [
    "list_of_tprs = [study.trials[iuseiasindex].user_attrs for iuseiasindex in range(0, len(df_all))]\n",
    "df_rates = pd.DataFrame(list_of_tprs)\n",
    "df_complete=df_all.join(df_rates)"
   ]
  },
  {
   "cell_type": "code",
   "execution_count": 34,
   "id": "a652074e-3377-4a8d-909e-b44665414b2d",
   "metadata": {
    "tags": []
   },
   "outputs": [
    {
     "data": {
      "text/html": [
       "<div>\n",
       "<style scoped>\n",
       "    .dataframe tbody tr th:only-of-type {\n",
       "        vertical-align: middle;\n",
       "    }\n",
       "\n",
       "    .dataframe tbody tr th {\n",
       "        vertical-align: top;\n",
       "    }\n",
       "\n",
       "    .dataframe thead th {\n",
       "        text-align: right;\n",
       "    }\n",
       "</style>\n",
       "<table border=\"1\" class=\"dataframe\">\n",
       "  <thead>\n",
       "    <tr style=\"text-align: right;\">\n",
       "      <th></th>\n",
       "      <th>number</th>\n",
       "      <th>value</th>\n",
       "      <th>params_threshold_men</th>\n",
       "      <th>params_threshold_women</th>\n",
       "      <th>state</th>\n",
       "      <th>FPR_MEN</th>\n",
       "      <th>FPR_WOMEN</th>\n",
       "      <th>TPR_MEN</th>\n",
       "      <th>TPR_WOMEN</th>\n",
       "    </tr>\n",
       "  </thead>\n",
       "  <tbody>\n",
       "    <tr>\n",
       "      <th>498</th>\n",
       "      <td>498</td>\n",
       "      <td>0.02437</td>\n",
       "      <td>0.47</td>\n",
       "      <td>0.48</td>\n",
       "      <td>COMPLETE</td>\n",
       "      <td>0.581395</td>\n",
       "      <td>0.4</td>\n",
       "      <td>0.952941</td>\n",
       "      <td>0.928571</td>\n",
       "    </tr>\n",
       "    <tr>\n",
       "      <th>181</th>\n",
       "      <td>181</td>\n",
       "      <td>0.02437</td>\n",
       "      <td>0.47</td>\n",
       "      <td>0.48</td>\n",
       "      <td>COMPLETE</td>\n",
       "      <td>0.581395</td>\n",
       "      <td>0.4</td>\n",
       "      <td>0.952941</td>\n",
       "      <td>0.928571</td>\n",
       "    </tr>\n",
       "    <tr>\n",
       "      <th>182</th>\n",
       "      <td>182</td>\n",
       "      <td>0.02437</td>\n",
       "      <td>0.47</td>\n",
       "      <td>0.48</td>\n",
       "      <td>COMPLETE</td>\n",
       "      <td>0.581395</td>\n",
       "      <td>0.4</td>\n",
       "      <td>0.952941</td>\n",
       "      <td>0.928571</td>\n",
       "    </tr>\n",
       "    <tr>\n",
       "      <th>184</th>\n",
       "      <td>184</td>\n",
       "      <td>0.02437</td>\n",
       "      <td>0.47</td>\n",
       "      <td>0.47</td>\n",
       "      <td>COMPLETE</td>\n",
       "      <td>0.581395</td>\n",
       "      <td>0.4</td>\n",
       "      <td>0.952941</td>\n",
       "      <td>0.928571</td>\n",
       "    </tr>\n",
       "    <tr>\n",
       "      <th>187</th>\n",
       "      <td>187</td>\n",
       "      <td>0.02437</td>\n",
       "      <td>0.46</td>\n",
       "      <td>0.47</td>\n",
       "      <td>COMPLETE</td>\n",
       "      <td>0.581395</td>\n",
       "      <td>0.4</td>\n",
       "      <td>0.952941</td>\n",
       "      <td>0.928571</td>\n",
       "    </tr>\n",
       "    <tr>\n",
       "      <th>...</th>\n",
       "      <td>...</td>\n",
       "      <td>...</td>\n",
       "      <td>...</td>\n",
       "      <td>...</td>\n",
       "      <td>...</td>\n",
       "      <td>...</td>\n",
       "      <td>...</td>\n",
       "      <td>...</td>\n",
       "      <td>...</td>\n",
       "    </tr>\n",
       "    <tr>\n",
       "      <th>486</th>\n",
       "      <td>486</td>\n",
       "      <td>NaN</td>\n",
       "      <td>0.46</td>\n",
       "      <td>0.45</td>\n",
       "      <td>PRUNED</td>\n",
       "      <td>NaN</td>\n",
       "      <td>NaN</td>\n",
       "      <td>NaN</td>\n",
       "      <td>NaN</td>\n",
       "    </tr>\n",
       "    <tr>\n",
       "      <th>490</th>\n",
       "      <td>490</td>\n",
       "      <td>NaN</td>\n",
       "      <td>0.46</td>\n",
       "      <td>0.46</td>\n",
       "      <td>PRUNED</td>\n",
       "      <td>NaN</td>\n",
       "      <td>NaN</td>\n",
       "      <td>NaN</td>\n",
       "      <td>NaN</td>\n",
       "    </tr>\n",
       "    <tr>\n",
       "      <th>493</th>\n",
       "      <td>493</td>\n",
       "      <td>NaN</td>\n",
       "      <td>0.53</td>\n",
       "      <td>0.46</td>\n",
       "      <td>PRUNED</td>\n",
       "      <td>NaN</td>\n",
       "      <td>NaN</td>\n",
       "      <td>NaN</td>\n",
       "      <td>NaN</td>\n",
       "    </tr>\n",
       "    <tr>\n",
       "      <th>495</th>\n",
       "      <td>495</td>\n",
       "      <td>NaN</td>\n",
       "      <td>0.46</td>\n",
       "      <td>0.45</td>\n",
       "      <td>PRUNED</td>\n",
       "      <td>NaN</td>\n",
       "      <td>NaN</td>\n",
       "      <td>NaN</td>\n",
       "      <td>NaN</td>\n",
       "    </tr>\n",
       "    <tr>\n",
       "      <th>499</th>\n",
       "      <td>499</td>\n",
       "      <td>NaN</td>\n",
       "      <td>0.45</td>\n",
       "      <td>0.46</td>\n",
       "      <td>PRUNED</td>\n",
       "      <td>NaN</td>\n",
       "      <td>NaN</td>\n",
       "      <td>NaN</td>\n",
       "      <td>NaN</td>\n",
       "    </tr>\n",
       "  </tbody>\n",
       "</table>\n",
       "<p>500 rows × 9 columns</p>\n",
       "</div>"
      ],
      "text/plain": [
       "     number    value  params_threshold_men  params_threshold_women     state  \\\n",
       "498     498  0.02437                  0.47                    0.48  COMPLETE   \n",
       "181     181  0.02437                  0.47                    0.48  COMPLETE   \n",
       "182     182  0.02437                  0.47                    0.48  COMPLETE   \n",
       "184     184  0.02437                  0.47                    0.47  COMPLETE   \n",
       "187     187  0.02437                  0.46                    0.47  COMPLETE   \n",
       "..      ...      ...                   ...                     ...       ...   \n",
       "486     486      NaN                  0.46                    0.45    PRUNED   \n",
       "490     490      NaN                  0.46                    0.46    PRUNED   \n",
       "493     493      NaN                  0.53                    0.46    PRUNED   \n",
       "495     495      NaN                  0.46                    0.45    PRUNED   \n",
       "499     499      NaN                  0.45                    0.46    PRUNED   \n",
       "\n",
       "      FPR_MEN  FPR_WOMEN   TPR_MEN  TPR_WOMEN  \n",
       "498  0.581395        0.4  0.952941   0.928571  \n",
       "181  0.581395        0.4  0.952941   0.928571  \n",
       "182  0.581395        0.4  0.952941   0.928571  \n",
       "184  0.581395        0.4  0.952941   0.928571  \n",
       "187  0.581395        0.4  0.952941   0.928571  \n",
       "..        ...        ...       ...        ...  \n",
       "486       NaN        NaN       NaN        NaN  \n",
       "490       NaN        NaN       NaN        NaN  \n",
       "493       NaN        NaN       NaN        NaN  \n",
       "495       NaN        NaN       NaN        NaN  \n",
       "499       NaN        NaN       NaN        NaN  \n",
       "\n",
       "[500 rows x 9 columns]"
      ]
     },
     "execution_count": 34,
     "metadata": {},
     "output_type": "execute_result"
    }
   ],
   "source": [
    "df_complete.sort_values(\"value\")"
   ]
  },
  {
   "cell_type": "code",
   "execution_count": 35,
   "id": "63c5af82-5279-4cff-9fdf-e13eb8b203e4",
   "metadata": {},
   "outputs": [],
   "source": [
    "#0/0 and 1/1 is lazy\n",
    "#but just following the line of the women it is 0.625(also visible because we have 2 points exactly after each other"
   ]
  },
  {
   "cell_type": "code",
   "execution_count": null,
   "id": "115590c7-6661-4df2-a822-90200c0b3083",
   "metadata": {},
   "outputs": [],
   "source": [
    "fpr_women_test, tpr_women_test, thresholds_women_test = roc_curve(y_women_test, y_pred_proba_women_test[:, 1])\n",
    "fpr_men_test, tpr_men_test, thresholds_men_test = roc_curve(y_men_test, y_pred_proba_men_test[:, 1])"
   ]
  },
  {
   "cell_type": "code",
   "execution_count": null,
   "id": "ae50204c-b555-4e69-8fba-814a9eae96f9",
   "metadata": {},
   "outputs": [],
   "source": [
    "# equality of Odds\n",
    "# not possible with discrete steps, so we make it continous by curve fitting"
   ]
  },
  {
   "cell_type": "code",
   "execution_count": 127,
   "id": "7826626d-6da1-42c5-b5e6-5bc7fda72f77",
   "metadata": {
    "tags": []
   },
   "outputs": [],
   "source": [
    "import numpy as np\n",
    "import matplotlib.pyplot as plt\n",
    "from scipy.optimize import curve_fit"
   ]
  },
  {
   "cell_type": "code",
   "execution_count": 128,
   "id": "53f69210-cbbc-4b64-a847-eb51d3f7d28f",
   "metadata": {
    "tags": []
   },
   "outputs": [],
   "source": [
    "def func(x, k, b):\n",
    "    return  np.log(2 * k * x + 1) / np.log(b * k + 1)\n",
    "\n",
    "xdata = fpr_men_test\n",
    "ydata = tpr_men_test\n",
    "popt, pcov = curve_fit(func, xdata, ydata)"
   ]
  },
  {
   "cell_type": "code",
   "execution_count": 129,
   "id": "dfa8ccbc-dd27-410c-9829-1fd235a3eb8d",
   "metadata": {
    "tags": []
   },
   "outputs": [],
   "source": [
    "def func_2(x, k, b):\n",
    "    return  np.log(2 * k * x + 1) / np.log(b * k + 1)\n",
    "\n",
    "xdata_2 = fpr_women_test\n",
    "ydata_2 = tpr_women_test\n",
    "popt_2, pcov_2 = curve_fit(func_2, xdata_2, ydata_2)"
   ]
  },
  {
   "cell_type": "code",
   "execution_count": 130,
   "id": "240b20f7-f625-417f-83ee-c74132568e1c",
   "metadata": {
    "tags": []
   },
   "outputs": [
    {
     "data": {
      "image/png": "[encoded data removed]",
      "text/plain": [
       "<Figure size 640x480 with 1 Axes>"
      ]
     },
     "metadata": {},
     "output_type": "display_data"
    }
   ],
   "source": [
    "import matplotlib.pyplot as plt\n",
    "plt.plot(fpr_men_test, tpr_men_test, label= \"Men\")\n",
    "plt.plot(fpr_men_test,  np.log(2 * popt[0] * fpr_men_test + 1) / np.log(popt[1] * popt[0] + 1), label= \"fitted_Men\")\n",
    "\n",
    "plt.plot(fpr_women_test, tpr_women_test, label= \"Women\")\n",
    "plt.plot(fpr_women_test, np.log(2 * popt_2[0] * fpr_women_test + 1) / np.log(popt[1] * popt_2[0] + 1), label= \"fitted_Women\")\n",
    "\n",
    "plt.legend()\n",
    "plt.xlabel(\"FPR\")\n",
    "plt.ylabel(\"TPR\")\n",
    "plt.title('Receiver Operating Characteristic')\n",
    "plt.show()"
   ]
  },
  {
   "cell_type": "code",
   "execution_count": null,
   "id": "5d0e588b-5a29-485b-a312-9527867611a3",
   "metadata": {},
   "outputs": [],
   "source": []
  }
 ],
 "metadata": {
  "environment": {
   "kernel": "abba",
   "name": "workbench-notebooks.m129",
   "type": "gcloud",
   "uri": "us-docker.pkg.dev/deeplearning-platform-release/gcr.io/workbench-notebooks:m129"
  },
  "kernelspec": {
   "display_name": "abba (Local)",
   "language": "python",
   "name": "abba"
  },
  "language_info": {
   "codemirror_mode": {
    "name": "ipython",
    "version": 3
   },
   "file_extension": ".py",
   "mimetype": "text/x-python",
   "name": "python",
   "nbconvert_exporter": "python",
   "pygments_lexer": "ipython3",
   "version": "3.10.16"
  }
 },
 "nbformat": 4,
 "nbformat_minor": 5
}
